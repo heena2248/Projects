{
  "nbformat": 4,
  "nbformat_minor": 0,
  "metadata": {
    "colab": {
      "provenance": [],
      "gpuType": "T4",
      "authorship_tag": "ABX9TyOFNqjxVXLDABY1MU0W511z",
      "include_colab_link": true
    },
    "kernelspec": {
      "name": "python3",
      "display_name": "Python 3"
    },
    "language_info": {
      "name": "python"
    },
    "accelerator": "GPU"
  },
  "cells": [
    {
      "cell_type": "markdown",
      "metadata": {
        "id": "view-in-github",
        "colab_type": "text"
      },
      "source": [
        "<a href=\"https://colab.research.google.com/github/heena2248/Projects/blob/main/Coupon_Acceptance_Prediction.ipynb\" target=\"_parent\"><img src=\"https://colab.research.google.com/assets/colab-badge.svg\" alt=\"Open In Colab\"/></a>"
      ]
    },
    {
      "cell_type": "markdown",
      "source": [
        "# Coupon Acceptance Prediction\n",
        "The project aims to apply machine learning methods to examine driving contexts and user traits obtained from an e-commerce platform. The goal is to predict the likelihood of users accepting coupons while traveling, thereby refining the strategy for coupon distribution and boosting user interaction with the platform’s services.\n",
        "\n",
        "The data encompasses various driving contexts, such as the user’s intended destination, current time, weather conditions, companions, details about the coupon, and both user-specific and situational characteristics. Users are then asked whether they would accept the coupon under these specific conditions."
      ],
      "metadata": {
        "id": "oekmArWkf8PW"
      }
    },
    {
      "cell_type": "code",
      "source": [
        "#imports\n",
        "import numpy as np\n",
        "import pandas as pd\n",
        "import matplotlib.pyplot as plt\n",
        "import seaborn as sns\n",
        "import warnings\n",
        "warnings.filterwarnings('ignore')\n",
        "import os"
      ],
      "metadata": {
        "id": "MjgjGHvrf9Uq"
      },
      "execution_count": null,
      "outputs": []
    },
    {
      "cell_type": "code",
      "source": [
        "\n",
        "#dataset\n",
        "df = pd.read_csv(\"Coupon_Acceptance.csv\")"
      ],
      "metadata": {
        "id": "cCOraykrgU_T"
      },
      "execution_count": null,
      "outputs": []
    },
    {
      "cell_type": "code",
      "source": [
        "\n",
        "df.info()"
      ],
      "metadata": {
        "colab": {
          "base_uri": "https://localhost:8080/"
        },
        "id": "jhW2JmfCgrUs",
        "outputId": "64aae1db-f245-48c2-d0f6-c534ab9451f4"
      },
      "execution_count": null,
      "outputs": [
        {
          "output_type": "stream",
          "name": "stdout",
          "text": [
            "<class 'pandas.core.frame.DataFrame'>\n",
            "RangeIndex: 12684 entries, 0 to 12683\n",
            "Data columns (total 25 columns):\n",
            " #   Column                Non-Null Count  Dtype \n",
            "---  ------                --------------  ----- \n",
            " 0   destination           12684 non-null  object\n",
            " 1   passanger             12684 non-null  object\n",
            " 2   weather               12684 non-null  object\n",
            " 3   temperature           12684 non-null  int64 \n",
            " 4   coupon                12684 non-null  object\n",
            " 5   expiration            12684 non-null  object\n",
            " 6   gender                12684 non-null  object\n",
            " 7   age                   12684 non-null  object\n",
            " 8   maritalStatus         12684 non-null  object\n",
            " 9   has_children          12684 non-null  int64 \n",
            " 10  education             12684 non-null  object\n",
            " 11  occupation            12684 non-null  object\n",
            " 12  income                12684 non-null  object\n",
            " 13  car                   108 non-null    object\n",
            " 14  Bar                   12577 non-null  object\n",
            " 15  CoffeeHouse           12467 non-null  object\n",
            " 16  CarryAway             12533 non-null  object\n",
            " 17  RestaurantLessThan20  12554 non-null  object\n",
            " 18  Restaurant20To50      12495 non-null  object\n",
            " 19  toCoupon_GEQ5min      12684 non-null  int64 \n",
            " 20  toCoupon_GEQ15min     12684 non-null  int64 \n",
            " 21  toCoupon_GEQ25min     12684 non-null  int64 \n",
            " 22  direction_same        12684 non-null  int64 \n",
            " 23  direction_opp         12684 non-null  int64 \n",
            " 24  Accept(Y/N?)          12684 non-null  int64 \n",
            "dtypes: int64(8), object(17)\n",
            "memory usage: 2.4+ MB\n"
          ]
        }
      ]
    },
    {
      "cell_type": "code",
      "source": [
        "df.head()"
      ],
      "metadata": {
        "colab": {
          "base_uri": "https://localhost:8080/",
          "height": 342
        },
        "id": "ONYmEe5rkZJj",
        "outputId": "659c2d22-e7bf-4671-d428-3e62abb0a6f2"
      },
      "execution_count": null,
      "outputs": [
        {
          "output_type": "execute_result",
          "data": {
            "text/plain": [
              "       destination  passanger weather  temperature                 coupon  \\\n",
              "0  No Urgent Place      Alone   Sunny           55        Restaurant(<20)   \n",
              "1  No Urgent Place  Friend(s)   Sunny           80           Coffee House   \n",
              "2  No Urgent Place  Friend(s)   Sunny           80  Carry out & Take away   \n",
              "3  No Urgent Place  Friend(s)   Sunny           80           Coffee House   \n",
              "4  No Urgent Place  Friend(s)   Sunny           80           Coffee House   \n",
              "\n",
              "  expiration  gender age      maritalStatus  has_children  ... CoffeeHouse  \\\n",
              "0         1d  Female  21  Unmarried partner             1  ...       never   \n",
              "1         2h  Female  21  Unmarried partner             1  ...       never   \n",
              "2         2h  Female  21  Unmarried partner             1  ...       never   \n",
              "3         2h  Female  21  Unmarried partner             1  ...       never   \n",
              "4         1d  Female  21  Unmarried partner             1  ...       never   \n",
              "\n",
              "  CarryAway RestaurantLessThan20 Restaurant20To50 toCoupon_GEQ5min  \\\n",
              "0       NaN                  4~8              1~3                1   \n",
              "1       NaN                  4~8              1~3                1   \n",
              "2       NaN                  4~8              1~3                1   \n",
              "3       NaN                  4~8              1~3                1   \n",
              "4       NaN                  4~8              1~3                1   \n",
              "\n",
              "  toCoupon_GEQ15min toCoupon_GEQ25min direction_same direction_opp  \\\n",
              "0                 0                 0              0             1   \n",
              "1                 0                 0              0             1   \n",
              "2                 1                 0              0             1   \n",
              "3                 1                 0              0             1   \n",
              "4                 1                 0              0             1   \n",
              "\n",
              "   Accept(Y/N?)  \n",
              "0             1  \n",
              "1             0  \n",
              "2             1  \n",
              "3             0  \n",
              "4             0  \n",
              "\n",
              "[5 rows x 25 columns]"
            ],
            "text/html": [
              "\n",
              "  <div id=\"df-0f978a90-7a2a-4e38-8984-2b98e507c2bf\" class=\"colab-df-container\">\n",
              "    <div>\n",
              "<style scoped>\n",
              "    .dataframe tbody tr th:only-of-type {\n",
              "        vertical-align: middle;\n",
              "    }\n",
              "\n",
              "    .dataframe tbody tr th {\n",
              "        vertical-align: top;\n",
              "    }\n",
              "\n",
              "    .dataframe thead th {\n",
              "        text-align: right;\n",
              "    }\n",
              "</style>\n",
              "<table border=\"1\" class=\"dataframe\">\n",
              "  <thead>\n",
              "    <tr style=\"text-align: right;\">\n",
              "      <th></th>\n",
              "      <th>destination</th>\n",
              "      <th>passanger</th>\n",
              "      <th>weather</th>\n",
              "      <th>temperature</th>\n",
              "      <th>coupon</th>\n",
              "      <th>expiration</th>\n",
              "      <th>gender</th>\n",
              "      <th>age</th>\n",
              "      <th>maritalStatus</th>\n",
              "      <th>has_children</th>\n",
              "      <th>...</th>\n",
              "      <th>CoffeeHouse</th>\n",
              "      <th>CarryAway</th>\n",
              "      <th>RestaurantLessThan20</th>\n",
              "      <th>Restaurant20To50</th>\n",
              "      <th>toCoupon_GEQ5min</th>\n",
              "      <th>toCoupon_GEQ15min</th>\n",
              "      <th>toCoupon_GEQ25min</th>\n",
              "      <th>direction_same</th>\n",
              "      <th>direction_opp</th>\n",
              "      <th>Accept(Y/N?)</th>\n",
              "    </tr>\n",
              "  </thead>\n",
              "  <tbody>\n",
              "    <tr>\n",
              "      <th>0</th>\n",
              "      <td>No Urgent Place</td>\n",
              "      <td>Alone</td>\n",
              "      <td>Sunny</td>\n",
              "      <td>55</td>\n",
              "      <td>Restaurant(&lt;20)</td>\n",
              "      <td>1d</td>\n",
              "      <td>Female</td>\n",
              "      <td>21</td>\n",
              "      <td>Unmarried partner</td>\n",
              "      <td>1</td>\n",
              "      <td>...</td>\n",
              "      <td>never</td>\n",
              "      <td>NaN</td>\n",
              "      <td>4~8</td>\n",
              "      <td>1~3</td>\n",
              "      <td>1</td>\n",
              "      <td>0</td>\n",
              "      <td>0</td>\n",
              "      <td>0</td>\n",
              "      <td>1</td>\n",
              "      <td>1</td>\n",
              "    </tr>\n",
              "    <tr>\n",
              "      <th>1</th>\n",
              "      <td>No Urgent Place</td>\n",
              "      <td>Friend(s)</td>\n",
              "      <td>Sunny</td>\n",
              "      <td>80</td>\n",
              "      <td>Coffee House</td>\n",
              "      <td>2h</td>\n",
              "      <td>Female</td>\n",
              "      <td>21</td>\n",
              "      <td>Unmarried partner</td>\n",
              "      <td>1</td>\n",
              "      <td>...</td>\n",
              "      <td>never</td>\n",
              "      <td>NaN</td>\n",
              "      <td>4~8</td>\n",
              "      <td>1~3</td>\n",
              "      <td>1</td>\n",
              "      <td>0</td>\n",
              "      <td>0</td>\n",
              "      <td>0</td>\n",
              "      <td>1</td>\n",
              "      <td>0</td>\n",
              "    </tr>\n",
              "    <tr>\n",
              "      <th>2</th>\n",
              "      <td>No Urgent Place</td>\n",
              "      <td>Friend(s)</td>\n",
              "      <td>Sunny</td>\n",
              "      <td>80</td>\n",
              "      <td>Carry out &amp; Take away</td>\n",
              "      <td>2h</td>\n",
              "      <td>Female</td>\n",
              "      <td>21</td>\n",
              "      <td>Unmarried partner</td>\n",
              "      <td>1</td>\n",
              "      <td>...</td>\n",
              "      <td>never</td>\n",
              "      <td>NaN</td>\n",
              "      <td>4~8</td>\n",
              "      <td>1~3</td>\n",
              "      <td>1</td>\n",
              "      <td>1</td>\n",
              "      <td>0</td>\n",
              "      <td>0</td>\n",
              "      <td>1</td>\n",
              "      <td>1</td>\n",
              "    </tr>\n",
              "    <tr>\n",
              "      <th>3</th>\n",
              "      <td>No Urgent Place</td>\n",
              "      <td>Friend(s)</td>\n",
              "      <td>Sunny</td>\n",
              "      <td>80</td>\n",
              "      <td>Coffee House</td>\n",
              "      <td>2h</td>\n",
              "      <td>Female</td>\n",
              "      <td>21</td>\n",
              "      <td>Unmarried partner</td>\n",
              "      <td>1</td>\n",
              "      <td>...</td>\n",
              "      <td>never</td>\n",
              "      <td>NaN</td>\n",
              "      <td>4~8</td>\n",
              "      <td>1~3</td>\n",
              "      <td>1</td>\n",
              "      <td>1</td>\n",
              "      <td>0</td>\n",
              "      <td>0</td>\n",
              "      <td>1</td>\n",
              "      <td>0</td>\n",
              "    </tr>\n",
              "    <tr>\n",
              "      <th>4</th>\n",
              "      <td>No Urgent Place</td>\n",
              "      <td>Friend(s)</td>\n",
              "      <td>Sunny</td>\n",
              "      <td>80</td>\n",
              "      <td>Coffee House</td>\n",
              "      <td>1d</td>\n",
              "      <td>Female</td>\n",
              "      <td>21</td>\n",
              "      <td>Unmarried partner</td>\n",
              "      <td>1</td>\n",
              "      <td>...</td>\n",
              "      <td>never</td>\n",
              "      <td>NaN</td>\n",
              "      <td>4~8</td>\n",
              "      <td>1~3</td>\n",
              "      <td>1</td>\n",
              "      <td>1</td>\n",
              "      <td>0</td>\n",
              "      <td>0</td>\n",
              "      <td>1</td>\n",
              "      <td>0</td>\n",
              "    </tr>\n",
              "  </tbody>\n",
              "</table>\n",
              "<p>5 rows × 25 columns</p>\n",
              "</div>\n",
              "    <div class=\"colab-df-buttons\">\n",
              "\n",
              "  <div class=\"colab-df-container\">\n",
              "    <button class=\"colab-df-convert\" onclick=\"convertToInteractive('df-0f978a90-7a2a-4e38-8984-2b98e507c2bf')\"\n",
              "            title=\"Convert this dataframe to an interactive table.\"\n",
              "            style=\"display:none;\">\n",
              "\n",
              "  <svg xmlns=\"http://www.w3.org/2000/svg\" height=\"24px\" viewBox=\"0 -960 960 960\">\n",
              "    <path d=\"M120-120v-720h720v720H120Zm60-500h600v-160H180v160Zm220 220h160v-160H400v160Zm0 220h160v-160H400v160ZM180-400h160v-160H180v160Zm440 0h160v-160H620v160ZM180-180h160v-160H180v160Zm440 0h160v-160H620v160Z\"/>\n",
              "  </svg>\n",
              "    </button>\n",
              "\n",
              "  <style>\n",
              "    .colab-df-container {\n",
              "      display:flex;\n",
              "      gap: 12px;\n",
              "    }\n",
              "\n",
              "    .colab-df-convert {\n",
              "      background-color: #E8F0FE;\n",
              "      border: none;\n",
              "      border-radius: 50%;\n",
              "      cursor: pointer;\n",
              "      display: none;\n",
              "      fill: #1967D2;\n",
              "      height: 32px;\n",
              "      padding: 0 0 0 0;\n",
              "      width: 32px;\n",
              "    }\n",
              "\n",
              "    .colab-df-convert:hover {\n",
              "      background-color: #E2EBFA;\n",
              "      box-shadow: 0px 1px 2px rgba(60, 64, 67, 0.3), 0px 1px 3px 1px rgba(60, 64, 67, 0.15);\n",
              "      fill: #174EA6;\n",
              "    }\n",
              "\n",
              "    .colab-df-buttons div {\n",
              "      margin-bottom: 4px;\n",
              "    }\n",
              "\n",
              "    [theme=dark] .colab-df-convert {\n",
              "      background-color: #3B4455;\n",
              "      fill: #D2E3FC;\n",
              "    }\n",
              "\n",
              "    [theme=dark] .colab-df-convert:hover {\n",
              "      background-color: #434B5C;\n",
              "      box-shadow: 0px 1px 3px 1px rgba(0, 0, 0, 0.15);\n",
              "      filter: drop-shadow(0px 1px 2px rgba(0, 0, 0, 0.3));\n",
              "      fill: #FFFFFF;\n",
              "    }\n",
              "  </style>\n",
              "\n",
              "    <script>\n",
              "      const buttonEl =\n",
              "        document.querySelector('#df-0f978a90-7a2a-4e38-8984-2b98e507c2bf button.colab-df-convert');\n",
              "      buttonEl.style.display =\n",
              "        google.colab.kernel.accessAllowed ? 'block' : 'none';\n",
              "\n",
              "      async function convertToInteractive(key) {\n",
              "        const element = document.querySelector('#df-0f978a90-7a2a-4e38-8984-2b98e507c2bf');\n",
              "        const dataTable =\n",
              "          await google.colab.kernel.invokeFunction('convertToInteractive',\n",
              "                                                    [key], {});\n",
              "        if (!dataTable) return;\n",
              "\n",
              "        const docLinkHtml = 'Like what you see? Visit the ' +\n",
              "          '<a target=\"_blank\" href=https://colab.research.google.com/notebooks/data_table.ipynb>data table notebook</a>'\n",
              "          + ' to learn more about interactive tables.';\n",
              "        element.innerHTML = '';\n",
              "        dataTable['output_type'] = 'display_data';\n",
              "        await google.colab.output.renderOutput(dataTable, element);\n",
              "        const docLink = document.createElement('div');\n",
              "        docLink.innerHTML = docLinkHtml;\n",
              "        element.appendChild(docLink);\n",
              "      }\n",
              "    </script>\n",
              "  </div>\n",
              "\n",
              "\n",
              "<div id=\"df-92931771-770c-45b0-b01b-3baff34b65e4\">\n",
              "  <button class=\"colab-df-quickchart\" onclick=\"quickchart('df-92931771-770c-45b0-b01b-3baff34b65e4')\"\n",
              "            title=\"Suggest charts\"\n",
              "            style=\"display:none;\">\n",
              "\n",
              "<svg xmlns=\"http://www.w3.org/2000/svg\" height=\"24px\"viewBox=\"0 0 24 24\"\n",
              "     width=\"24px\">\n",
              "    <g>\n",
              "        <path d=\"M19 3H5c-1.1 0-2 .9-2 2v14c0 1.1.9 2 2 2h14c1.1 0 2-.9 2-2V5c0-1.1-.9-2-2-2zM9 17H7v-7h2v7zm4 0h-2V7h2v10zm4 0h-2v-4h2v4z\"/>\n",
              "    </g>\n",
              "</svg>\n",
              "  </button>\n",
              "\n",
              "<style>\n",
              "  .colab-df-quickchart {\n",
              "      --bg-color: #E8F0FE;\n",
              "      --fill-color: #1967D2;\n",
              "      --hover-bg-color: #E2EBFA;\n",
              "      --hover-fill-color: #174EA6;\n",
              "      --disabled-fill-color: #AAA;\n",
              "      --disabled-bg-color: #DDD;\n",
              "  }\n",
              "\n",
              "  [theme=dark] .colab-df-quickchart {\n",
              "      --bg-color: #3B4455;\n",
              "      --fill-color: #D2E3FC;\n",
              "      --hover-bg-color: #434B5C;\n",
              "      --hover-fill-color: #FFFFFF;\n",
              "      --disabled-bg-color: #3B4455;\n",
              "      --disabled-fill-color: #666;\n",
              "  }\n",
              "\n",
              "  .colab-df-quickchart {\n",
              "    background-color: var(--bg-color);\n",
              "    border: none;\n",
              "    border-radius: 50%;\n",
              "    cursor: pointer;\n",
              "    display: none;\n",
              "    fill: var(--fill-color);\n",
              "    height: 32px;\n",
              "    padding: 0;\n",
              "    width: 32px;\n",
              "  }\n",
              "\n",
              "  .colab-df-quickchart:hover {\n",
              "    background-color: var(--hover-bg-color);\n",
              "    box-shadow: 0 1px 2px rgba(60, 64, 67, 0.3), 0 1px 3px 1px rgba(60, 64, 67, 0.15);\n",
              "    fill: var(--button-hover-fill-color);\n",
              "  }\n",
              "\n",
              "  .colab-df-quickchart-complete:disabled,\n",
              "  .colab-df-quickchart-complete:disabled:hover {\n",
              "    background-color: var(--disabled-bg-color);\n",
              "    fill: var(--disabled-fill-color);\n",
              "    box-shadow: none;\n",
              "  }\n",
              "\n",
              "  .colab-df-spinner {\n",
              "    border: 2px solid var(--fill-color);\n",
              "    border-color: transparent;\n",
              "    border-bottom-color: var(--fill-color);\n",
              "    animation:\n",
              "      spin 1s steps(1) infinite;\n",
              "  }\n",
              "\n",
              "  @keyframes spin {\n",
              "    0% {\n",
              "      border-color: transparent;\n",
              "      border-bottom-color: var(--fill-color);\n",
              "      border-left-color: var(--fill-color);\n",
              "    }\n",
              "    20% {\n",
              "      border-color: transparent;\n",
              "      border-left-color: var(--fill-color);\n",
              "      border-top-color: var(--fill-color);\n",
              "    }\n",
              "    30% {\n",
              "      border-color: transparent;\n",
              "      border-left-color: var(--fill-color);\n",
              "      border-top-color: var(--fill-color);\n",
              "      border-right-color: var(--fill-color);\n",
              "    }\n",
              "    40% {\n",
              "      border-color: transparent;\n",
              "      border-right-color: var(--fill-color);\n",
              "      border-top-color: var(--fill-color);\n",
              "    }\n",
              "    60% {\n",
              "      border-color: transparent;\n",
              "      border-right-color: var(--fill-color);\n",
              "    }\n",
              "    80% {\n",
              "      border-color: transparent;\n",
              "      border-right-color: var(--fill-color);\n",
              "      border-bottom-color: var(--fill-color);\n",
              "    }\n",
              "    90% {\n",
              "      border-color: transparent;\n",
              "      border-bottom-color: var(--fill-color);\n",
              "    }\n",
              "  }\n",
              "</style>\n",
              "\n",
              "  <script>\n",
              "    async function quickchart(key) {\n",
              "      const quickchartButtonEl =\n",
              "        document.querySelector('#' + key + ' button');\n",
              "      quickchartButtonEl.disabled = true;  // To prevent multiple clicks.\n",
              "      quickchartButtonEl.classList.add('colab-df-spinner');\n",
              "      try {\n",
              "        const charts = await google.colab.kernel.invokeFunction(\n",
              "            'suggestCharts', [key], {});\n",
              "      } catch (error) {\n",
              "        console.error('Error during call to suggestCharts:', error);\n",
              "      }\n",
              "      quickchartButtonEl.classList.remove('colab-df-spinner');\n",
              "      quickchartButtonEl.classList.add('colab-df-quickchart-complete');\n",
              "    }\n",
              "    (() => {\n",
              "      let quickchartButtonEl =\n",
              "        document.querySelector('#df-92931771-770c-45b0-b01b-3baff34b65e4 button');\n",
              "      quickchartButtonEl.style.display =\n",
              "        google.colab.kernel.accessAllowed ? 'block' : 'none';\n",
              "    })();\n",
              "  </script>\n",
              "</div>\n",
              "\n",
              "    </div>\n",
              "  </div>\n"
            ],
            "application/vnd.google.colaboratory.intrinsic+json": {
              "type": "dataframe",
              "variable_name": "df"
            }
          },
          "metadata": {},
          "execution_count": 6
        }
      ]
    },
    {
      "cell_type": "markdown",
      "source": [
        "The dataset includes 12684 records, with 25 columns in total. The Y variable is a binary variable. Hence, this is a binary classification problem."
      ],
      "metadata": {
        "id": "jhUCX7Frg1IV"
      }
    },
    {
      "cell_type": "code",
      "source": [
        "#removing duplicates\n",
        "print(df.shape)\n",
        "df = df.drop_duplicates()\n",
        "print(df.shape)"
      ],
      "metadata": {
        "colab": {
          "base_uri": "https://localhost:8080/"
        },
        "id": "j8VlrrjShNtc",
        "outputId": "9a4823ba-5e1f-4dbc-ba19-343ea3d09381"
      },
      "execution_count": null,
      "outputs": [
        {
          "output_type": "stream",
          "name": "stdout",
          "text": [
            "(12684, 25)\n",
            "(12393, 25)\n"
          ]
        }
      ]
    },
    {
      "cell_type": "code",
      "source": [
        "df['Accept(Y/N?)'].value_counts()"
      ],
      "metadata": {
        "colab": {
          "base_uri": "https://localhost:8080/",
          "height": 178
        },
        "id": "W5o55eAJWuAw",
        "outputId": "e1deb989-0386-4247-8ea5-2883249e727f"
      },
      "execution_count": null,
      "outputs": [
        {
          "output_type": "execute_result",
          "data": {
            "text/plain": [
              "Accept(Y/N?)\n",
              "1    7012\n",
              "0    5381\n",
              "Name: count, dtype: int64"
            ],
            "text/html": [
              "<div>\n",
              "<style scoped>\n",
              "    .dataframe tbody tr th:only-of-type {\n",
              "        vertical-align: middle;\n",
              "    }\n",
              "\n",
              "    .dataframe tbody tr th {\n",
              "        vertical-align: top;\n",
              "    }\n",
              "\n",
              "    .dataframe thead th {\n",
              "        text-align: right;\n",
              "    }\n",
              "</style>\n",
              "<table border=\"1\" class=\"dataframe\">\n",
              "  <thead>\n",
              "    <tr style=\"text-align: right;\">\n",
              "      <th></th>\n",
              "      <th>count</th>\n",
              "    </tr>\n",
              "    <tr>\n",
              "      <th>Accept(Y/N?)</th>\n",
              "      <th></th>\n",
              "    </tr>\n",
              "  </thead>\n",
              "  <tbody>\n",
              "    <tr>\n",
              "      <th>1</th>\n",
              "      <td>7012</td>\n",
              "    </tr>\n",
              "    <tr>\n",
              "      <th>0</th>\n",
              "      <td>5381</td>\n",
              "    </tr>\n",
              "  </tbody>\n",
              "</table>\n",
              "</div><br><label><b>dtype:</b> int64</label>"
            ]
          },
          "metadata": {},
          "execution_count": 8
        }
      ]
    },
    {
      "cell_type": "markdown",
      "source": [
        "The dataset is not imbalanced."
      ],
      "metadata": {
        "id": "oiPbbxSfXM_-"
      }
    },
    {
      "cell_type": "code",
      "source": [
        "#Assessing the number of null values in each column\n",
        "df.isnull().sum().sort_values(ascending = False)"
      ],
      "metadata": {
        "colab": {
          "base_uri": "https://localhost:8080/",
          "height": 868
        },
        "id": "mnbM9gqDhUN2",
        "outputId": "7ac796f9-77fe-4061-e991-4ccd7195afc6"
      },
      "execution_count": null,
      "outputs": [
        {
          "output_type": "execute_result",
          "data": {
            "text/plain": [
              "car                     12287\n",
              "CoffeeHouse               215\n",
              "Restaurant20To50          188\n",
              "CarryAway                 148\n",
              "RestaurantLessThan20      128\n",
              "Bar                       106\n",
              "weather                     0\n",
              "passanger                   0\n",
              "destination                 0\n",
              "maritalStatus               0\n",
              "age                         0\n",
              "gender                      0\n",
              "expiration                  0\n",
              "coupon                      0\n",
              "temperature                 0\n",
              "income                      0\n",
              "occupation                  0\n",
              "has_children                0\n",
              "education                   0\n",
              "toCoupon_GEQ5min            0\n",
              "toCoupon_GEQ15min           0\n",
              "toCoupon_GEQ25min           0\n",
              "direction_same              0\n",
              "direction_opp               0\n",
              "Accept(Y/N?)                0\n",
              "dtype: int64"
            ],
            "text/html": [
              "<div>\n",
              "<style scoped>\n",
              "    .dataframe tbody tr th:only-of-type {\n",
              "        vertical-align: middle;\n",
              "    }\n",
              "\n",
              "    .dataframe tbody tr th {\n",
              "        vertical-align: top;\n",
              "    }\n",
              "\n",
              "    .dataframe thead th {\n",
              "        text-align: right;\n",
              "    }\n",
              "</style>\n",
              "<table border=\"1\" class=\"dataframe\">\n",
              "  <thead>\n",
              "    <tr style=\"text-align: right;\">\n",
              "      <th></th>\n",
              "      <th>0</th>\n",
              "    </tr>\n",
              "  </thead>\n",
              "  <tbody>\n",
              "    <tr>\n",
              "      <th>car</th>\n",
              "      <td>12287</td>\n",
              "    </tr>\n",
              "    <tr>\n",
              "      <th>CoffeeHouse</th>\n",
              "      <td>215</td>\n",
              "    </tr>\n",
              "    <tr>\n",
              "      <th>Restaurant20To50</th>\n",
              "      <td>188</td>\n",
              "    </tr>\n",
              "    <tr>\n",
              "      <th>CarryAway</th>\n",
              "      <td>148</td>\n",
              "    </tr>\n",
              "    <tr>\n",
              "      <th>RestaurantLessThan20</th>\n",
              "      <td>128</td>\n",
              "    </tr>\n",
              "    <tr>\n",
              "      <th>Bar</th>\n",
              "      <td>106</td>\n",
              "    </tr>\n",
              "    <tr>\n",
              "      <th>weather</th>\n",
              "      <td>0</td>\n",
              "    </tr>\n",
              "    <tr>\n",
              "      <th>passanger</th>\n",
              "      <td>0</td>\n",
              "    </tr>\n",
              "    <tr>\n",
              "      <th>destination</th>\n",
              "      <td>0</td>\n",
              "    </tr>\n",
              "    <tr>\n",
              "      <th>maritalStatus</th>\n",
              "      <td>0</td>\n",
              "    </tr>\n",
              "    <tr>\n",
              "      <th>age</th>\n",
              "      <td>0</td>\n",
              "    </tr>\n",
              "    <tr>\n",
              "      <th>gender</th>\n",
              "      <td>0</td>\n",
              "    </tr>\n",
              "    <tr>\n",
              "      <th>expiration</th>\n",
              "      <td>0</td>\n",
              "    </tr>\n",
              "    <tr>\n",
              "      <th>coupon</th>\n",
              "      <td>0</td>\n",
              "    </tr>\n",
              "    <tr>\n",
              "      <th>temperature</th>\n",
              "      <td>0</td>\n",
              "    </tr>\n",
              "    <tr>\n",
              "      <th>income</th>\n",
              "      <td>0</td>\n",
              "    </tr>\n",
              "    <tr>\n",
              "      <th>occupation</th>\n",
              "      <td>0</td>\n",
              "    </tr>\n",
              "    <tr>\n",
              "      <th>has_children</th>\n",
              "      <td>0</td>\n",
              "    </tr>\n",
              "    <tr>\n",
              "      <th>education</th>\n",
              "      <td>0</td>\n",
              "    </tr>\n",
              "    <tr>\n",
              "      <th>toCoupon_GEQ5min</th>\n",
              "      <td>0</td>\n",
              "    </tr>\n",
              "    <tr>\n",
              "      <th>toCoupon_GEQ15min</th>\n",
              "      <td>0</td>\n",
              "    </tr>\n",
              "    <tr>\n",
              "      <th>toCoupon_GEQ25min</th>\n",
              "      <td>0</td>\n",
              "    </tr>\n",
              "    <tr>\n",
              "      <th>direction_same</th>\n",
              "      <td>0</td>\n",
              "    </tr>\n",
              "    <tr>\n",
              "      <th>direction_opp</th>\n",
              "      <td>0</td>\n",
              "    </tr>\n",
              "    <tr>\n",
              "      <th>Accept(Y/N?)</th>\n",
              "      <td>0</td>\n",
              "    </tr>\n",
              "  </tbody>\n",
              "</table>\n",
              "</div><br><label><b>dtype:</b> int64</label>"
            ]
          },
          "metadata": {},
          "execution_count": 9
        }
      ]
    },
    {
      "cell_type": "code",
      "source": [
        "df.coupon.unique()"
      ],
      "metadata": {
        "colab": {
          "base_uri": "https://localhost:8080/"
        },
        "id": "TCbE0tX64mP4",
        "outputId": "88f71d1c-4ba8-4025-fb3d-b0008c381834"
      },
      "execution_count": null,
      "outputs": [
        {
          "output_type": "execute_result",
          "data": {
            "text/plain": [
              "array(['Restaurant(<20)', 'Coffee House', 'Carry out & Take away', 'Bar',\n",
              "       'Restaurant(20-50)'], dtype=object)"
            ]
          },
          "metadata": {},
          "execution_count": 10
        }
      ]
    },
    {
      "cell_type": "markdown",
      "source": [
        "Car column has more than 90% as null. So the column needs to be dropped."
      ],
      "metadata": {
        "id": "_gnBisNthqFV"
      }
    },
    {
      "cell_type": "code",
      "source": [
        "df.drop(['car'], axis=1, inplace=True)"
      ],
      "metadata": {
        "id": "pv1bIyYChl71"
      },
      "execution_count": null,
      "outputs": []
    },
    {
      "cell_type": "code",
      "source": [
        "#unique values in other columns with missing values\n",
        "print(\"Unique values in CoffeeHouse:\", df['CoffeeHouse'].unique())\n",
        "print(\"Unique values in Restaurant20To50:\", df['Restaurant20To50'].unique())\n",
        "print(\"Unique values in CarryAway:\", df['CarryAway'].unique())\n",
        "print(\"Unique values in RestaurantLessThan20:\", df['RestaurantLessThan20'].unique())\n",
        "print(\"Unique values in Bar:\", df['Bar'].unique())\n"
      ],
      "metadata": {
        "colab": {
          "base_uri": "https://localhost:8080/"
        },
        "id": "YtVawl0Uh2p-",
        "outputId": "1e69e802-514e-4f9f-939d-b3b089414352"
      },
      "execution_count": null,
      "outputs": [
        {
          "output_type": "stream",
          "name": "stdout",
          "text": [
            "Unique values in CoffeeHouse: ['never' 'less1' '4~8' '1~3' 'gt8' nan]\n",
            "Unique values in Restaurant20To50: ['1~3' 'less1' 'never' 'gt8' '4~8' nan]\n",
            "Unique values in CarryAway: [nan '4~8' '1~3' 'gt8' 'less1' 'never']\n",
            "Unique values in RestaurantLessThan20: ['4~8' '1~3' 'less1' 'gt8' nan 'never']\n",
            "Unique values in Bar: ['never' 'less1' '1~3' 'gt8' nan '4~8']\n"
          ]
        }
      ]
    },
    {
      "cell_type": "markdown",
      "source": [
        "Since all are categorical features, the missing values can be filled using mode."
      ],
      "metadata": {
        "id": "jM8rK8XUkBa6"
      }
    },
    {
      "cell_type": "code",
      "source": [
        "df['CoffeeHouse'].fillna(df['CoffeeHouse'].mode()[0], inplace=True)\n",
        "df['Restaurant20To50'].fillna(df['Restaurant20To50'].mode()[0], inplace=True)\n",
        "df['CarryAway'].fillna(df['CarryAway'].mode()[0], inplace=True)\n",
        "df['RestaurantLessThan20'].fillna(df['RestaurantLessThan20'].mode()[0], inplace=True)\n",
        "df['Bar'].fillna(df['Bar'].mode()[0], inplace=True)\n",
        "#renaming the Y var\n",
        "df.rename(columns={'Accept(Y/N?)': 'Accept'}, inplace=True)\n"
      ],
      "metadata": {
        "id": "lCsaGudtjZOf"
      },
      "execution_count": null,
      "outputs": []
    },
    {
      "cell_type": "code",
      "source": [
        "df.info()"
      ],
      "metadata": {
        "colab": {
          "base_uri": "https://localhost:8080/"
        },
        "id": "oncPmwIPkNDY",
        "outputId": "47af05e7-c78b-4459-c4bb-682a6adc2718"
      },
      "execution_count": null,
      "outputs": [
        {
          "output_type": "stream",
          "name": "stdout",
          "text": [
            "<class 'pandas.core.frame.DataFrame'>\n",
            "Index: 12393 entries, 0 to 12683\n",
            "Data columns (total 24 columns):\n",
            " #   Column                Non-Null Count  Dtype \n",
            "---  ------                --------------  ----- \n",
            " 0   destination           12393 non-null  object\n",
            " 1   passanger             12393 non-null  object\n",
            " 2   weather               12393 non-null  object\n",
            " 3   temperature           12393 non-null  int64 \n",
            " 4   coupon                12393 non-null  object\n",
            " 5   expiration            12393 non-null  object\n",
            " 6   gender                12393 non-null  object\n",
            " 7   age                   12393 non-null  object\n",
            " 8   maritalStatus         12393 non-null  object\n",
            " 9   has_children          12393 non-null  int64 \n",
            " 10  education             12393 non-null  object\n",
            " 11  occupation            12393 non-null  object\n",
            " 12  income                12393 non-null  object\n",
            " 13  Bar                   12393 non-null  object\n",
            " 14  CoffeeHouse           12393 non-null  object\n",
            " 15  CarryAway             12393 non-null  object\n",
            " 16  RestaurantLessThan20  12393 non-null  object\n",
            " 17  Restaurant20To50      12393 non-null  object\n",
            " 18  toCoupon_GEQ5min      12393 non-null  int64 \n",
            " 19  toCoupon_GEQ15min     12393 non-null  int64 \n",
            " 20  toCoupon_GEQ25min     12393 non-null  int64 \n",
            " 21  direction_same        12393 non-null  int64 \n",
            " 22  direction_opp         12393 non-null  int64 \n",
            " 23  Accept                12393 non-null  int64 \n",
            "dtypes: int64(8), object(16)\n",
            "memory usage: 2.4+ MB\n"
          ]
        }
      ]
    },
    {
      "cell_type": "markdown",
      "source": [
        "### Outlier analysis\n",
        "\n",
        "Checking on outliers in numerical columns and number of unique values in categorical columns"
      ],
      "metadata": {
        "id": "fjWs8NHqtNGd"
      }
    },
    {
      "cell_type": "code",
      "source": [
        "from scipy import stats\n",
        "import statistics\n",
        "def outlier_detect(col):\n",
        "  # Calculate Z-scores\n",
        "  l1=[]\n",
        "  avg=col.mean()\n",
        "  sd=statistics.stdev(col)\n",
        "  for x in col:\n",
        "    zs=(x-avg)/sd\n",
        "    if(zs>3 or zs<-3):\n",
        "      l1.append(x)\n",
        "  print(\"Outliers:\",l1)\n",
        "outlier_detect(df['temperature'])\n",
        "outlier_detect(df['has_children'])\n",
        "outlier_detect(df['toCoupon_GEQ5min'])\n",
        "outlier_detect(df['toCoupon_GEQ15min'])\n",
        "outlier_detect(df['toCoupon_GEQ25min'])\n",
        "outlier_detect(df['direction_same'])\n",
        "outlier_detect(df['direction_opp'])"
      ],
      "metadata": {
        "colab": {
          "base_uri": "https://localhost:8080/"
        },
        "id": "_WZ2DZ1XtL_v",
        "outputId": "4d1f8ad0-5ad5-4f6f-f77d-de947adf3d8d"
      },
      "execution_count": null,
      "outputs": [
        {
          "output_type": "stream",
          "name": "stdout",
          "text": [
            "Outliers: []\n",
            "Outliers: []\n",
            "Outliers: []\n",
            "Outliers: []\n",
            "Outliers: []\n",
            "Outliers: []\n",
            "Outliers: []\n"
          ]
        }
      ]
    },
    {
      "cell_type": "markdown",
      "source": [
        "No outliers are detected.\n",
        "Let's check for unique values in each column"
      ],
      "metadata": {
        "id": "zGlqiZ83xdQX"
      }
    },
    {
      "cell_type": "code",
      "source": [
        "# Select categorical columns\n",
        "categorical_columns = df.select_dtypes(include=['object','category','int64','float64'])\n",
        "\n",
        "# Create a DataFrame to store the number of unique values and the unique values themselves\n",
        "unique_info = pd.DataFrame({\n",
        "    'Column': categorical_columns.columns,\n",
        "    'Unique Count': [categorical_columns[col].nunique() for col in categorical_columns],\n",
        "    'Unique Values': [categorical_columns[col].unique().tolist() for col in categorical_columns]\n",
        "})\n",
        "\n",
        "# Display the result\n",
        "print(\"Unique values and counts in each categorical column:\")\n",
        "print(unique_info)"
      ],
      "metadata": {
        "colab": {
          "base_uri": "https://localhost:8080/"
        },
        "id": "JQ1hxF50xg_f",
        "outputId": "6d9863fb-d84d-4807-c362-012018aa4a49"
      },
      "execution_count": null,
      "outputs": [
        {
          "output_type": "stream",
          "name": "stdout",
          "text": [
            "Unique values and counts in each categorical column:\n",
            "                  Column  Unique Count  \\\n",
            "0            destination             3   \n",
            "1              passanger             4   \n",
            "2                weather             3   \n",
            "3            temperature             3   \n",
            "4                 coupon             5   \n",
            "5             expiration             2   \n",
            "6                 gender             2   \n",
            "7                    age             8   \n",
            "8          maritalStatus             5   \n",
            "9           has_children             2   \n",
            "10             education             6   \n",
            "11            occupation            25   \n",
            "12                income             9   \n",
            "13                   Bar             5   \n",
            "14           CoffeeHouse             5   \n",
            "15             CarryAway             5   \n",
            "16  RestaurantLessThan20             5   \n",
            "17      Restaurant20To50             5   \n",
            "18      toCoupon_GEQ5min             1   \n",
            "19     toCoupon_GEQ15min             2   \n",
            "20     toCoupon_GEQ25min             2   \n",
            "21        direction_same             2   \n",
            "22         direction_opp             2   \n",
            "23                Accept             2   \n",
            "\n",
            "                                        Unique Values  \n",
            "0                       [No Urgent Place, Home, Work]  \n",
            "1                 [Alone, Friend(s), Kid(s), Partner]  \n",
            "2                               [Sunny, Rainy, Snowy]  \n",
            "3                                        [55, 80, 30]  \n",
            "4   [Restaurant(<20), Coffee House, Carry out & Ta...  \n",
            "5                                            [1d, 2h]  \n",
            "6                                      [Female, Male]  \n",
            "7           [21, 46, 26, 31, 41, 50plus, 36, below21]  \n",
            "8   [Unmarried partner, Single, Married partner, D...  \n",
            "9                                              [1, 0]  \n",
            "10  [Some college - no degree, Bachelors degree, A...  \n",
            "11  [Unemployed, Architecture & Engineering, Stude...  \n",
            "12  [$37500 - $49999, $62500 - $74999, $12500 - $2...  \n",
            "13                      [never, less1, 1~3, gt8, 4~8]  \n",
            "14                      [never, less1, 4~8, 1~3, gt8]  \n",
            "15                      [1~3, 4~8, gt8, less1, never]  \n",
            "16                      [4~8, 1~3, less1, gt8, never]  \n",
            "17                      [1~3, less1, never, gt8, 4~8]  \n",
            "18                                                [1]  \n",
            "19                                             [0, 1]  \n",
            "20                                             [0, 1]  \n",
            "21                                             [0, 1]  \n",
            "22                                             [1, 0]  \n",
            "23                                             [1, 0]  \n"
          ]
        }
      ]
    },
    {
      "cell_type": "markdown",
      "source": [
        "Since age has bins and values, we change to include 21 and 26 as \"21-30\", 31 and 36 as \"31-40\", 41 and 46 as \"41-50\"\n"
      ],
      "metadata": {
        "id": "cATGO5QE3r3F"
      }
    },
    {
      "cell_type": "code",
      "source": [
        "# Convert age column to numeric values where possible\n",
        "# Replace '50plus' with a value that falls into the highest bin\n",
        "df['age'] = df['age'].replace('50plus', 51)\n",
        "df['age'] = df['age'].replace('below21', 20)\n",
        "df['age']=df['age'].astype(float)\n",
        "# Define bins and labels\n",
        "bins = [0, 21, 30, 40, 50, float('inf')]  # Adjusted to include 'below21'\n",
        "labels = ['below21', '21-30', '31-40', '41-50', '50plus']\n",
        "\n",
        "# Bin the ages\n",
        "df['age'] = pd.cut(df['age'], bins=bins, labels=labels, right=True)\n",
        "\n"
      ],
      "metadata": {
        "id": "gZt3_02i3qu8"
      },
      "execution_count": null,
      "outputs": []
    },
    {
      "cell_type": "code",
      "source": [
        "df.education.unique()"
      ],
      "metadata": {
        "colab": {
          "base_uri": "https://localhost:8080/"
        },
        "id": "SL-7npD0pOrf",
        "outputId": "dea29d5f-4c22-4838-8065-43bc4f6c5037"
      },
      "execution_count": null,
      "outputs": [
        {
          "output_type": "execute_result",
          "data": {
            "text/plain": [
              "array(['Some college - no degree', 'Bachelors degree',\n",
              "       'Associates degree', 'High School Graduate',\n",
              "       'Graduate degree (Masters or Doctorate)', 'Some High School'],\n",
              "      dtype=object)"
            ]
          },
          "metadata": {},
          "execution_count": 18
        }
      ]
    },
    {
      "cell_type": "code",
      "source": [
        "df['occupation'].unique()"
      ],
      "metadata": {
        "colab": {
          "base_uri": "https://localhost:8080/"
        },
        "id": "nxtliGst6HKC",
        "outputId": "a415b6df-78ab-4877-f8fe-d484b1ab2993"
      },
      "execution_count": null,
      "outputs": [
        {
          "output_type": "execute_result",
          "data": {
            "text/plain": [
              "array(['Unemployed', 'Architecture & Engineering', 'Student',\n",
              "       'Education&Training&Library', 'Healthcare Support',\n",
              "       'Healthcare Practitioners & Technical', 'Sales & Related',\n",
              "       'Management', 'Arts Design Entertainment Sports & Media',\n",
              "       'Computer & Mathematical', 'Life Physical Social Science',\n",
              "       'Personal Care & Service', 'Community & Social Services',\n",
              "       'Office & Administrative Support', 'Construction & Extraction',\n",
              "       'Legal', 'Retired', 'Installation Maintenance & Repair',\n",
              "       'Transportation & Material Moving', 'Business & Financial',\n",
              "       'Protective Service', 'Food Preparation & Serving Related',\n",
              "       'Production Occupations',\n",
              "       'Building & Grounds Cleaning & Maintenance',\n",
              "       'Farming Fishing & Forestry'], dtype=object)"
            ]
          },
          "metadata": {},
          "execution_count": 19
        }
      ]
    },
    {
      "cell_type": "markdown",
      "source": [
        "Occupation has several unique values, but all are different from each other. Hence, they cant be combined."
      ],
      "metadata": {
        "id": "-hAMGGCh8Vby"
      }
    },
    {
      "cell_type": "code",
      "source": [
        "df['income'].unique()"
      ],
      "metadata": {
        "colab": {
          "base_uri": "https://localhost:8080/"
        },
        "id": "se9CZSa48eP2",
        "outputId": "dbc8c43b-967d-472e-ae40-f1460b5d2259"
      },
      "execution_count": null,
      "outputs": [
        {
          "output_type": "execute_result",
          "data": {
            "text/plain": [
              "array(['$37500 - $49999', '$62500 - $74999', '$12500 - $24999',\n",
              "       '$75000 - $87499', '$50000 - $62499', '$25000 - $37499',\n",
              "       '$100000 or More', '$87500 - $99999', 'Less than $12500'],\n",
              "      dtype=object)"
            ]
          },
          "metadata": {},
          "execution_count": 20
        }
      ]
    },
    {
      "cell_type": "markdown",
      "source": [
        "All the values are unique and exhaustive."
      ],
      "metadata": {
        "id": "_6hmoNEM8lMH"
      }
    },
    {
      "cell_type": "code",
      "source": [
        "import matplotlib.pyplot as plt\n",
        "\n",
        "# Plot histograms for each numerical column\n",
        "df.hist(figsize=(10, 6), bins=20, edgecolor='black')\n",
        "plt.suptitle('Distribution of Numerical Variables')\n",
        "plt.show()"
      ],
      "metadata": {
        "colab": {
          "base_uri": "https://localhost:8080/",
          "height": 582
        },
        "id": "krPIlUfx8kDF",
        "outputId": "815459b5-a061-43bf-e5ab-669394a5d71a"
      },
      "execution_count": null,
      "outputs": [
        {
          "output_type": "display_data",
          "data": {
            "text/plain": [
              "<Figure size 1000x600 with 9 Axes>"
            ],
            "image/png": "[encoded data removed]"
          },
          "metadata": {}
        }
      ]
    },
    {
      "cell_type": "markdown",
      "source": [
        "Though there are some numeric features, there are 2 or 3 values only. So, the feature can be typecasted to object itself. The column 'toCoupon_GEQ5min' can be removed bacuse there is only one value and shows no variability to contribute to the model."
      ],
      "metadata": {
        "id": "JpCcEsaB9cFd"
      }
    },
    {
      "cell_type": "code",
      "source": [
        "df = df.drop('toCoupon_GEQ5min', axis=1)"
      ],
      "metadata": {
        "id": "nYInTDKA9a5x"
      },
      "execution_count": null,
      "outputs": []
    },
    {
      "cell_type": "code",
      "source": [
        "# Convert all numeric columns to object type\n",
        "numeric_cols = df.select_dtypes(include=['number','category']).columns\n",
        "df[numeric_cols] = df[numeric_cols].astype('object')\n",
        "df.dtypes"
      ],
      "metadata": {
        "colab": {
          "base_uri": "https://localhost:8080/",
          "height": 805
        },
        "id": "lDlajozh-R0h",
        "outputId": "53e7582d-12b2-45fe-c022-14bf41ee2000"
      },
      "execution_count": null,
      "outputs": [
        {
          "output_type": "execute_result",
          "data": {
            "text/plain": [
              "destination             object\n",
              "passanger               object\n",
              "weather                 object\n",
              "temperature             object\n",
              "coupon                  object\n",
              "expiration              object\n",
              "gender                  object\n",
              "age                     object\n",
              "maritalStatus           object\n",
              "has_children            object\n",
              "education               object\n",
              "occupation              object\n",
              "income                  object\n",
              "Bar                     object\n",
              "CoffeeHouse             object\n",
              "CarryAway               object\n",
              "RestaurantLessThan20    object\n",
              "Restaurant20To50        object\n",
              "toCoupon_GEQ15min       object\n",
              "toCoupon_GEQ25min       object\n",
              "direction_same          object\n",
              "direction_opp           object\n",
              "Accept                  object\n",
              "dtype: object"
            ],
            "text/html": [
              "<div>\n",
              "<style scoped>\n",
              "    .dataframe tbody tr th:only-of-type {\n",
              "        vertical-align: middle;\n",
              "    }\n",
              "\n",
              "    .dataframe tbody tr th {\n",
              "        vertical-align: top;\n",
              "    }\n",
              "\n",
              "    .dataframe thead th {\n",
              "        text-align: right;\n",
              "    }\n",
              "</style>\n",
              "<table border=\"1\" class=\"dataframe\">\n",
              "  <thead>\n",
              "    <tr style=\"text-align: right;\">\n",
              "      <th></th>\n",
              "      <th>0</th>\n",
              "    </tr>\n",
              "  </thead>\n",
              "  <tbody>\n",
              "    <tr>\n",
              "      <th>destination</th>\n",
              "      <td>object</td>\n",
              "    </tr>\n",
              "    <tr>\n",
              "      <th>passanger</th>\n",
              "      <td>object</td>\n",
              "    </tr>\n",
              "    <tr>\n",
              "      <th>weather</th>\n",
              "      <td>object</td>\n",
              "    </tr>\n",
              "    <tr>\n",
              "      <th>temperature</th>\n",
              "      <td>object</td>\n",
              "    </tr>\n",
              "    <tr>\n",
              "      <th>coupon</th>\n",
              "      <td>object</td>\n",
              "    </tr>\n",
              "    <tr>\n",
              "      <th>expiration</th>\n",
              "      <td>object</td>\n",
              "    </tr>\n",
              "    <tr>\n",
              "      <th>gender</th>\n",
              "      <td>object</td>\n",
              "    </tr>\n",
              "    <tr>\n",
              "      <th>age</th>\n",
              "      <td>object</td>\n",
              "    </tr>\n",
              "    <tr>\n",
              "      <th>maritalStatus</th>\n",
              "      <td>object</td>\n",
              "    </tr>\n",
              "    <tr>\n",
              "      <th>has_children</th>\n",
              "      <td>object</td>\n",
              "    </tr>\n",
              "    <tr>\n",
              "      <th>education</th>\n",
              "      <td>object</td>\n",
              "    </tr>\n",
              "    <tr>\n",
              "      <th>occupation</th>\n",
              "      <td>object</td>\n",
              "    </tr>\n",
              "    <tr>\n",
              "      <th>income</th>\n",
              "      <td>object</td>\n",
              "    </tr>\n",
              "    <tr>\n",
              "      <th>Bar</th>\n",
              "      <td>object</td>\n",
              "    </tr>\n",
              "    <tr>\n",
              "      <th>CoffeeHouse</th>\n",
              "      <td>object</td>\n",
              "    </tr>\n",
              "    <tr>\n",
              "      <th>CarryAway</th>\n",
              "      <td>object</td>\n",
              "    </tr>\n",
              "    <tr>\n",
              "      <th>RestaurantLessThan20</th>\n",
              "      <td>object</td>\n",
              "    </tr>\n",
              "    <tr>\n",
              "      <th>Restaurant20To50</th>\n",
              "      <td>object</td>\n",
              "    </tr>\n",
              "    <tr>\n",
              "      <th>toCoupon_GEQ15min</th>\n",
              "      <td>object</td>\n",
              "    </tr>\n",
              "    <tr>\n",
              "      <th>toCoupon_GEQ25min</th>\n",
              "      <td>object</td>\n",
              "    </tr>\n",
              "    <tr>\n",
              "      <th>direction_same</th>\n",
              "      <td>object</td>\n",
              "    </tr>\n",
              "    <tr>\n",
              "      <th>direction_opp</th>\n",
              "      <td>object</td>\n",
              "    </tr>\n",
              "    <tr>\n",
              "      <th>Accept</th>\n",
              "      <td>object</td>\n",
              "    </tr>\n",
              "  </tbody>\n",
              "</table>\n",
              "</div><br><label><b>dtype:</b> object</label>"
            ]
          },
          "metadata": {},
          "execution_count": 23
        }
      ]
    },
    {
      "cell_type": "markdown",
      "source": [
        "### EDA"
      ],
      "metadata": {
        "id": "dBq1740HpYV4"
      }
    },
    {
      "cell_type": "code",
      "source": [
        "\n",
        "# Create a cross-tabulation of counts\n",
        "crosstab = pd.crosstab(df['destination'], df['Accept'])\n",
        "\n",
        "# Display the crosstab for reference\n",
        "print(crosstab)\n",
        "# Plot the stacked bar chart\n",
        "crosstab.plot(kind='bar', stacked=True, color=['skyblue', 'salmon'])\n",
        "\n",
        "plt.title('Acceptance Rate by Destination')\n",
        "plt.xlabel('Destination')\n",
        "plt.ylabel('Count')\n",
        "plt.legend(title='Accept (0 = No, 1 = Yes)')\n",
        "plt.show()"
      ],
      "metadata": {
        "colab": {
          "base_uri": "https://localhost:8080/"
        },
        "id": "ZvtbwSR2kn6o",
        "outputId": "e1281d27-aaec-4009-bfc7-ffc2b186503f"
      },
      "execution_count": null,
      "outputs": [
        {
          "output_type": "stream",
          "name": "stdout",
          "text": [
            "Accept              0     1\n",
            "destination                \n",
            "Home             1567  1594\n",
            "No Urgent Place  2253  3865\n",
            "Work             1561  1553\n"
          ]
        },
        {
          "output_type": "display_data",
          "data": {
            "text/plain": [
              "<Figure size 640x480 with 1 Axes>"
            ],
            "image/png": "[encoded data removed]"
          },
          "metadata": {}
        }
      ]
    },
    {
      "cell_type": "markdown",
      "source": [
        "The destination 'No Urgent Place' has a higher acceptance rate indicating people are more likely to accept when they travel other than home or work."
      ],
      "metadata": {
        "id": "7KW7JV47sV4n"
      }
    },
    {
      "cell_type": "code",
      "source": [
        "# Create a cross-tabulation of counts\n",
        "crosstab = pd.crosstab(df['temperature'], df['Accept'])\n",
        "\n",
        "# Display the crosstab for reference\n",
        "print(crosstab)\n",
        "# Plot the stacked bar chart\n",
        "crosstab.plot(kind='bar', stacked=True, color=['skyblue', 'salmon'])\n",
        "\n",
        "plt.title('Acceptance Rate by Temperature')\n",
        "plt.xlabel('Temperature')\n",
        "plt.ylabel('Count')\n",
        "plt.legend(title='Accept (0 = No, 1 = Yes)')\n",
        "plt.show()"
      ],
      "metadata": {
        "colab": {
          "base_uri": "https://localhost:8080/"
        },
        "id": "stkzz_EZpWIW",
        "outputId": "2862c257-2b77-4ff0-f3f6-f6e847d86897"
      },
      "execution_count": null,
      "outputs": [
        {
          "output_type": "stream",
          "name": "stdout",
          "text": [
            "Accept          0     1\n",
            "temperature            \n",
            "30           1066  1171\n",
            "55           1773  2055\n",
            "80           2542  3786\n"
          ]
        },
        {
          "output_type": "display_data",
          "data": {
            "text/plain": [
              "<Figure size 640x480 with 1 Axes>"
            ],
            "image/png": "[encoded data removed]"
          },
          "metadata": {}
        }
      ]
    },
    {
      "cell_type": "markdown",
      "source": [
        "The temp 80F has a higher acceptance rate indicating people are more likely to accept during hotter weather.\n"
      ],
      "metadata": {
        "id": "m8BuKo-6FI8p"
      }
    },
    {
      "cell_type": "code",
      "source": [
        "# Create a cross-tabulation of counts\n",
        "crosstab = pd.crosstab(df['weather'], df['Accept'])\n",
        "\n",
        "# Display the crosstab for reference\n",
        "print(crosstab)\n",
        "# Plot the stacked bar chart\n",
        "crosstab.plot(kind='bar', stacked=True, color=['skyblue', 'salmon'])\n",
        "\n",
        "plt.title('Acceptance Rate by weather')\n",
        "plt.xlabel('Weather')\n",
        "plt.ylabel('Count')\n",
        "plt.legend(title='Accept (0 = No, 1 = Yes)')\n",
        "plt.show()"
      ],
      "metadata": {
        "colab": {
          "base_uri": "https://localhost:8080/"
        },
        "id": "SzWUS1T8EAjH",
        "outputId": "e042fd1e-a1c2-4e7d-cd46-ceefa0cc8183"
      },
      "execution_count": null,
      "outputs": [
        {
          "output_type": "stream",
          "name": "stdout",
          "text": [
            "Accept      0     1\n",
            "weather            \n",
            "Rainy     645   557\n",
            "Snowy     724   605\n",
            "Sunny    4012  5850\n"
          ]
        },
        {
          "output_type": "display_data",
          "data": {
            "text/plain": [
              "<Figure size 640x480 with 1 Axes>"
            ],
            "image/png": "[encoded data removed]"
          },
          "metadata": {}
        }
      ]
    },
    {
      "cell_type": "markdown",
      "source": [
        "The weather sunny has a higher acceptance rate indicating people are more likely to accept during hotter weather. This is same as indicated by temperature."
      ],
      "metadata": {
        "id": "n67CtfOTFYDo"
      }
    },
    {
      "cell_type": "code",
      "source": [
        "# Create a cross-tabulation of counts\n",
        "crosstab = pd.crosstab(df['passanger'], df['Accept'])\n",
        "\n",
        "# Display the crosstab for reference\n",
        "print(crosstab)\n",
        "# Plot the stacked bar chart\n",
        "crosstab.plot(kind='bar', stacked=True, color=['skyblue', 'salmon'])\n",
        "\n",
        "plt.title('Acceptance Rate by Passenger')\n",
        "plt.xlabel('passanger')\n",
        "plt.ylabel('Count')\n",
        "plt.legend(title='Accept (0 = No, 1 = Yes)')\n",
        "plt.show()"
      ],
      "metadata": {
        "colab": {
          "base_uri": "https://localhost:8080/"
        },
        "id": "GWIkgvT3NddX",
        "outputId": "84a575e5-f543-45ea-d5f4-2101174dd317"
      },
      "execution_count": null,
      "outputs": [
        {
          "output_type": "stream",
          "name": "stdout",
          "text": [
            "Accept        0     1\n",
            "passanger            \n",
            "Alone      3418  3760\n",
            "Friend(s)  1039  2127\n",
            "Kid(s)      490   491\n",
            "Partner     434   634\n"
          ]
        },
        {
          "output_type": "display_data",
          "data": {
            "text/plain": [
              "<Figure size 640x480 with 1 Axes>"
            ],
            "image/png": "[encoded data removed]"
          },
          "metadata": {}
        }
      ]
    },
    {
      "cell_type": "markdown",
      "source": [
        "The tendency to pick on coupon is high when travelling with friends"
      ],
      "metadata": {
        "id": "v5xy2obsOb22"
      }
    },
    {
      "cell_type": "code",
      "source": [
        "# Create a cross-tabulation of counts\n",
        "crosstab = pd.crosstab(df['coupon'], df['Accept'])\n",
        "\n",
        "# Display the crosstab for reference\n",
        "print(crosstab)\n",
        "# Plot the stacked bar chart\n",
        "crosstab.plot(kind='bar', stacked=True, color=['skyblue', 'salmon'])\n",
        "\n",
        "plt.title('Acceptance Rate by coupon')\n",
        "plt.xlabel('coupon')\n",
        "plt.ylabel('Count')\n",
        "plt.legend(title='Accept (0 = No, 1 = Yes)')\n",
        "plt.show()"
      ],
      "metadata": {
        "colab": {
          "base_uri": "https://localhost:8080/"
        },
        "id": "xP02yFtXOALC",
        "outputId": "ffb720c1-d35d-4ba0-ba65-91e2bdfe285d"
      },
      "execution_count": null,
      "outputs": [
        {
          "output_type": "stream",
          "name": "stdout",
          "text": [
            "Accept                    0     1\n",
            "coupon                           \n",
            "Bar                    1186   824\n",
            "Carry out & Take away   610  1665\n",
            "Coffee House           1970  1943\n",
            "Restaurant(20-50)       831   656\n",
            "Restaurant(<20)         784  1924\n"
          ]
        },
        {
          "output_type": "display_data",
          "data": {
            "text/plain": [
              "<Figure size 640x480 with 1 Axes>"
            ],
            "image/png": "[encoded data removed]"
          },
          "metadata": {}
        }
      ]
    },
    {
      "cell_type": "markdown",
      "source": [
        "The coupons 'carry out and take away' and 'restaurant<20' have higher acceptance rate"
      ],
      "metadata": {
        "id": "Bch2bTscNvps"
      }
    },
    {
      "cell_type": "code",
      "source": [
        "# Create a cross-tabulation of counts\n",
        "crosstab = pd.crosstab(df['education'], df['Accept'])\n",
        "\n",
        "# Display the crosstab for reference\n",
        "print(crosstab)\n",
        "# Plot the stacked bar chart\n",
        "crosstab.plot(kind='bar', stacked=True, color=['skyblue', 'salmon'])\n",
        "\n",
        "plt.title('Acceptance Rate by Education')\n",
        "plt.xlabel('education')\n",
        "plt.ylabel('Count')\n",
        "plt.legend(title='Accept (0 = No, 1 = Yes)')\n",
        "plt.show()"
      ],
      "metadata": {
        "colab": {
          "base_uri": "https://localhost:8080/"
        },
        "id": "yDyJh-BIO4ys",
        "outputId": "9383c574-2869-472d-924a-4dcf087f58b2"
      },
      "execution_count": null,
      "outputs": [
        {
          "output_type": "stream",
          "name": "stdout",
          "text": [
            "Accept                                     0     1\n",
            "education                                         \n",
            "Associates degree                        512   614\n",
            "Bachelors degree                        1903  2344\n",
            "Graduate degree (Masters or Doctorate)   854   939\n",
            "High School Graduate                     361   519\n",
            "Some High School                          25    62\n",
            "Some college - no degree                1726  2534\n"
          ]
        },
        {
          "output_type": "display_data",
          "data": {
            "text/plain": [
              "<Figure size 640x480 with 1 Axes>"
            ],
            "image/png": "[encoded data removed]"
          },
          "metadata": {}
        }
      ]
    },
    {
      "cell_type": "markdown",
      "source": [
        "Not much of coorelation is seen between education and acceptance."
      ],
      "metadata": {
        "id": "pQ5qr-PlPKu4"
      }
    },
    {
      "cell_type": "code",
      "source": [
        "# Create a cross-tabulation of counts\n",
        "crosstab = pd.crosstab(df['has_children'], df['Accept'])\n",
        "\n",
        "# Display the crosstab for reference\n",
        "print(crosstab)\n",
        "# Plot the stacked bar chart\n",
        "crosstab.plot(kind='bar', stacked=True, color=['skyblue', 'salmon'])\n",
        "\n",
        "plt.title('Acceptance Rate by Children')\n",
        "plt.xlabel('Children')\n",
        "plt.ylabel('Count')\n",
        "plt.legend(title='Accept (0 = No, 1 = Yes)')\n",
        "plt.show()"
      ],
      "metadata": {
        "colab": {
          "base_uri": "https://localhost:8080/"
        },
        "id": "4X7xGm59PIUD",
        "outputId": "a37f8e7c-8a50-46b5-be3f-f35b21a3e638"
      },
      "execution_count": null,
      "outputs": [
        {
          "output_type": "stream",
          "name": "stdout",
          "text": [
            "Accept           0     1\n",
            "has_children            \n",
            "0             3009  4234\n",
            "1             2372  2778\n"
          ]
        },
        {
          "output_type": "display_data",
          "data": {
            "text/plain": [
              "<Figure size 640x480 with 1 Axes>"
            ],
            "image/png": "[encoded data removed]"
          },
          "metadata": {}
        }
      ]
    },
    {
      "cell_type": "markdown",
      "source": [
        "The acceptance rate is better with people who have no children."
      ],
      "metadata": {
        "id": "WMlP_3iqPYVn"
      }
    },
    {
      "cell_type": "code",
      "source": [
        "import seaborn as sns\n",
        "import matplotlib.pyplot as plt\n",
        "\n",
        "# Bar plot for the 'coupon' column\n",
        "plt.figure(figsize=(8, 5))\n",
        "sns.countplot(data=df, x='coupon')\n",
        "plt.title('Distribution of Coupon Types')\n",
        "plt.show()"
      ],
      "metadata": {
        "colab": {
          "base_uri": "https://localhost:8080/"
        },
        "id": "69CRVoYhPX34",
        "outputId": "27284575-eb49-4194-f730-bc6f6f3032cc"
      },
      "execution_count": null,
      "outputs": [
        {
          "output_type": "display_data",
          "data": {
            "text/plain": [
              "<Figure size 800x500 with 1 Axes>"
            ],
            "image/png": "[encoded data removed]"
          },
          "metadata": {}
        }
      ]
    },
    {
      "cell_type": "markdown",
      "source": [
        "Coffee House coupon is the highest given."
      ],
      "metadata": {
        "id": "JLZ8v17j0K31"
      }
    },
    {
      "cell_type": "code",
      "source": [
        "# Pair plot for temperature, time to coupon, and acceptance\n",
        "sns.pairplot(df[['temperature', 'toCoupon_GEQ25min', 'toCoupon_GEQ15min', 'Accept']], hue='Accept')\n",
        "plt.show()"
      ],
      "metadata": {
        "colab": {
          "base_uri": "https://localhost:8080/"
        },
        "id": "ZqXUM00i0lmO",
        "outputId": "c0f2dad2-b1cf-4a87-bab9-78bb771841cb"
      },
      "execution_count": null,
      "outputs": [
        {
          "output_type": "display_data",
          "data": {
            "text/plain": [
              "<Figure size 808.875x750 with 12 Axes>"
            ],
            "image/png": "[encoded data removed]"
          },
          "metadata": {}
        }
      ]
    },
    {
      "cell_type": "code",
      "source": [
        "# Stacked bar plot for 'coupon' and 'Accept(Y/N?)'\n",
        "coupon_accept = pd.crosstab(df['coupon'], df['Accept'])\n",
        "coupon_accept.plot(kind='bar', stacked=True, figsize=(10, 6))\n",
        "plt.title('Coupon Acceptance by Coupon Type')\n",
        "plt.xlabel('Coupon Type')\n",
        "plt.ylabel('Count')\n",
        "plt.legend(title='Accepted', loc='upper right')\n",
        "plt.show()"
      ],
      "metadata": {
        "colab": {
          "base_uri": "https://localhost:8080/"
        },
        "id": "TqB8uJ-G0qu1",
        "outputId": "5895862e-9603-43f0-ae48-264085dffe2c"
      },
      "execution_count": null,
      "outputs": [
        {
          "output_type": "display_data",
          "data": {
            "text/plain": [
              "<Figure size 1000x600 with 1 Axes>"
            ],
            "image/png": "[encoded data removed]"
          },
          "metadata": {}
        }
      ]
    },
    {
      "cell_type": "code",
      "source": [
        "# Pie chart for 'gender'\n",
        "plt.figure(figsize=(6, 6))\n",
        "df['gender'].value_counts().plot(kind='pie', autopct='%1.1f%%', startangle=90, colors=['lightblue', 'lightcoral'])\n",
        "plt.title('Gender Distribution')\n",
        "plt.ylabel('')\n",
        "plt.show()"
      ],
      "metadata": {
        "colab": {
          "base_uri": "https://localhost:8080/"
        },
        "id": "z83LGlou0s4M",
        "outputId": "103a6065-f0df-44da-fc20-402ea8a7ce6b"
      },
      "execution_count": null,
      "outputs": [
        {
          "output_type": "display_data",
          "data": {
            "text/plain": [
              "<Figure size 600x600 with 1 Axes>"
            ],
            "image/png": "[encoded data removed]"
          },
          "metadata": {}
        }
      ]
    },
    {
      "cell_type": "code",
      "source": [
        "# Violin plot to compare age distribution by coupon acceptance\n",
        "plt.figure(figsize=(8, 5))\n",
        "sns.violinplot(data=df, x='Accept', y='age')\n",
        "plt.title('Age Distribution by Coupon Acceptance')\n",
        "plt.show()"
      ],
      "metadata": {
        "colab": {
          "base_uri": "https://localhost:8080/"
        },
        "id": "HCoRXJNr0vTx",
        "outputId": "625dce06-2d0a-4f9f-8e8f-b8429f87f401"
      },
      "execution_count": null,
      "outputs": [
        {
          "output_type": "display_data",
          "data": {
            "text/plain": [
              "<Figure size 800x500 with 1 Axes>"
            ],
            "image/png": "[encoded data removed]"
          },
          "metadata": {}
        }
      ]
    },
    {
      "cell_type": "markdown",
      "source": [
        "### FEATURE ENCODING:\n",
        "OHE will be used for few and label encoding for few others.\n"
      ],
      "metadata": {
        "id": "Teh_X6yX-24J"
      }
    },
    {
      "cell_type": "code",
      "source": [
        "df.info()"
      ],
      "metadata": {
        "colab": {
          "base_uri": "https://localhost:8080/"
        },
        "id": "BbONrTp7xuGz",
        "outputId": "ee832c0a-8c16-47ba-d030-9990691cfb1e"
      },
      "execution_count": null,
      "outputs": [
        {
          "output_type": "stream",
          "name": "stdout",
          "text": [
            "<class 'pandas.core.frame.DataFrame'>\n",
            "Index: 12393 entries, 0 to 12683\n",
            "Data columns (total 23 columns):\n",
            " #   Column                Non-Null Count  Dtype \n",
            "---  ------                --------------  ----- \n",
            " 0   destination           12393 non-null  object\n",
            " 1   passanger             12393 non-null  object\n",
            " 2   weather               12393 non-null  object\n",
            " 3   temperature           12393 non-null  object\n",
            " 4   coupon                12393 non-null  object\n",
            " 5   expiration            12393 non-null  object\n",
            " 6   gender                12393 non-null  object\n",
            " 7   age                   12393 non-null  object\n",
            " 8   maritalStatus         12393 non-null  object\n",
            " 9   has_children          12393 non-null  object\n",
            " 10  education             12393 non-null  object\n",
            " 11  occupation            12393 non-null  object\n",
            " 12  income                12393 non-null  object\n",
            " 13  Bar                   12393 non-null  object\n",
            " 14  CoffeeHouse           12393 non-null  object\n",
            " 15  CarryAway             12393 non-null  object\n",
            " 16  RestaurantLessThan20  12393 non-null  object\n",
            " 17  Restaurant20To50      12393 non-null  object\n",
            " 18  toCoupon_GEQ15min     12393 non-null  object\n",
            " 19  toCoupon_GEQ25min     12393 non-null  object\n",
            " 20  direction_same        12393 non-null  object\n",
            " 21  direction_opp         12393 non-null  object\n",
            " 22  Accept                12393 non-null  object\n",
            "dtypes: object(23)\n",
            "memory usage: 2.3+ MB\n"
          ]
        }
      ]
    },
    {
      "cell_type": "code",
      "source": [
        "# Define the manual mapping\n",
        "manual_mapping = {\n",
        "    'never': 0,\n",
        "    'less1': 1,\n",
        "    '1~3': 2,\n",
        "    '4~8': 3,\n",
        "    'gt8': 4\n",
        "}\n",
        "\n",
        "# Apply the manual mapping to the 'Bar' column\n",
        "df['Bar'] = df['Bar'].map(manual_mapping)\n",
        "df['CoffeeHouse'] = df['CoffeeHouse'].map(manual_mapping)\n",
        "df['CarryAway'] = df['CarryAway'].map(manual_mapping)\n",
        "df['Restaurant20To50'] = df['Restaurant20To50'].map(manual_mapping)\n",
        "df['RestaurantLessThan20'] = df['RestaurantLessThan20'].map(manual_mapping)\n",
        "mapping_age={\n",
        "    'below21':0, '21-30':1, '31-40':2, '41-50':3, '50plus':4\n",
        "}\n",
        "df['age'] = df['age'].map(mapping_age)\n",
        "mapping_temp={30:0,55:1,80:2}\n",
        "df['temperature'] = df['temperature'].map(mapping_temp)\n",
        "mapping_income={'Less than $12500':0,'$12500 - $24999':1,'$25000 - $37499':2,'$37500 - $49999':3,'$50000 - $62499':4,'$62500 - $74999':5,'$75000 - $87499':6,'$87500 - $99999':7,'$100000 or More':8}\n",
        "df['income'] = df['income'].map(mapping_income)\n",
        "mapping_education={'Some college - no degree':2, 'Bachelors degree':3,\n",
        "       'Associates degree':4, 'High School Graduate':1,'Graduate degree (Masters or Doctorate)':5, 'Some High School':0}\n",
        "df['education'] = df['education'].map(mapping_education)\n",
        "df.columns\n",
        "df.head()\n"
      ],
      "metadata": {
        "colab": {
          "base_uri": "https://localhost:8080/",
          "height": 342
        },
        "id": "PT74xAnWsx1f",
        "outputId": "351d7884-b301-4f4d-b82f-fe19af3d5beb"
      },
      "execution_count": null,
      "outputs": [
        {
          "output_type": "execute_result",
          "data": {
            "text/plain": [
              "       destination  passanger weather  temperature                 coupon  \\\n",
              "0  No Urgent Place      Alone   Sunny            1        Restaurant(<20)   \n",
              "1  No Urgent Place  Friend(s)   Sunny            2           Coffee House   \n",
              "2  No Urgent Place  Friend(s)   Sunny            2  Carry out & Take away   \n",
              "3  No Urgent Place  Friend(s)   Sunny            2           Coffee House   \n",
              "4  No Urgent Place  Friend(s)   Sunny            2           Coffee House   \n",
              "\n",
              "  expiration  gender  age      maritalStatus has_children  ...  Bar  \\\n",
              "0         1d  Female    0  Unmarried partner            1  ...    0   \n",
              "1         2h  Female    0  Unmarried partner            1  ...    0   \n",
              "2         2h  Female    0  Unmarried partner            1  ...    0   \n",
              "3         2h  Female    0  Unmarried partner            1  ...    0   \n",
              "4         1d  Female    0  Unmarried partner            1  ...    0   \n",
              "\n",
              "  CoffeeHouse  CarryAway  RestaurantLessThan20  Restaurant20To50  \\\n",
              "0           0          2                     3                 2   \n",
              "1           0          2                     3                 2   \n",
              "2           0          2                     3                 2   \n",
              "3           0          2                     3                 2   \n",
              "4           0          2                     3                 2   \n",
              "\n",
              "   toCoupon_GEQ15min  toCoupon_GEQ25min  direction_same direction_opp Accept  \n",
              "0                  0                  0               0             1      1  \n",
              "1                  0                  0               0             1      0  \n",
              "2                  1                  0               0             1      1  \n",
              "3                  1                  0               0             1      0  \n",
              "4                  1                  0               0             1      0  \n",
              "\n",
              "[5 rows x 23 columns]"
            ],
            "text/html": [
              "\n",
              "  <div id=\"df-f56733b5-3549-42b8-a99b-a22818a99451\" class=\"colab-df-container\">\n",
              "    <div>\n",
              "<style scoped>\n",
              "    .dataframe tbody tr th:only-of-type {\n",
              "        vertical-align: middle;\n",
              "    }\n",
              "\n",
              "    .dataframe tbody tr th {\n",
              "        vertical-align: top;\n",
              "    }\n",
              "\n",
              "    .dataframe thead th {\n",
              "        text-align: right;\n",
              "    }\n",
              "</style>\n",
              "<table border=\"1\" class=\"dataframe\">\n",
              "  <thead>\n",
              "    <tr style=\"text-align: right;\">\n",
              "      <th></th>\n",
              "      <th>destination</th>\n",
              "      <th>passanger</th>\n",
              "      <th>weather</th>\n",
              "      <th>temperature</th>\n",
              "      <th>coupon</th>\n",
              "      <th>expiration</th>\n",
              "      <th>gender</th>\n",
              "      <th>age</th>\n",
              "      <th>maritalStatus</th>\n",
              "      <th>has_children</th>\n",
              "      <th>...</th>\n",
              "      <th>Bar</th>\n",
              "      <th>CoffeeHouse</th>\n",
              "      <th>CarryAway</th>\n",
              "      <th>RestaurantLessThan20</th>\n",
              "      <th>Restaurant20To50</th>\n",
              "      <th>toCoupon_GEQ15min</th>\n",
              "      <th>toCoupon_GEQ25min</th>\n",
              "      <th>direction_same</th>\n",
              "      <th>direction_opp</th>\n",
              "      <th>Accept</th>\n",
              "    </tr>\n",
              "  </thead>\n",
              "  <tbody>\n",
              "    <tr>\n",
              "      <th>0</th>\n",
              "      <td>No Urgent Place</td>\n",
              "      <td>Alone</td>\n",
              "      <td>Sunny</td>\n",
              "      <td>1</td>\n",
              "      <td>Restaurant(&lt;20)</td>\n",
              "      <td>1d</td>\n",
              "      <td>Female</td>\n",
              "      <td>0</td>\n",
              "      <td>Unmarried partner</td>\n",
              "      <td>1</td>\n",
              "      <td>...</td>\n",
              "      <td>0</td>\n",
              "      <td>0</td>\n",
              "      <td>2</td>\n",
              "      <td>3</td>\n",
              "      <td>2</td>\n",
              "      <td>0</td>\n",
              "      <td>0</td>\n",
              "      <td>0</td>\n",
              "      <td>1</td>\n",
              "      <td>1</td>\n",
              "    </tr>\n",
              "    <tr>\n",
              "      <th>1</th>\n",
              "      <td>No Urgent Place</td>\n",
              "      <td>Friend(s)</td>\n",
              "      <td>Sunny</td>\n",
              "      <td>2</td>\n",
              "      <td>Coffee House</td>\n",
              "      <td>2h</td>\n",
              "      <td>Female</td>\n",
              "      <td>0</td>\n",
              "      <td>Unmarried partner</td>\n",
              "      <td>1</td>\n",
              "      <td>...</td>\n",
              "      <td>0</td>\n",
              "      <td>0</td>\n",
              "      <td>2</td>\n",
              "      <td>3</td>\n",
              "      <td>2</td>\n",
              "      <td>0</td>\n",
              "      <td>0</td>\n",
              "      <td>0</td>\n",
              "      <td>1</td>\n",
              "      <td>0</td>\n",
              "    </tr>\n",
              "    <tr>\n",
              "      <th>2</th>\n",
              "      <td>No Urgent Place</td>\n",
              "      <td>Friend(s)</td>\n",
              "      <td>Sunny</td>\n",
              "      <td>2</td>\n",
              "      <td>Carry out &amp; Take away</td>\n",
              "      <td>2h</td>\n",
              "      <td>Female</td>\n",
              "      <td>0</td>\n",
              "      <td>Unmarried partner</td>\n",
              "      <td>1</td>\n",
              "      <td>...</td>\n",
              "      <td>0</td>\n",
              "      <td>0</td>\n",
              "      <td>2</td>\n",
              "      <td>3</td>\n",
              "      <td>2</td>\n",
              "      <td>1</td>\n",
              "      <td>0</td>\n",
              "      <td>0</td>\n",
              "      <td>1</td>\n",
              "      <td>1</td>\n",
              "    </tr>\n",
              "    <tr>\n",
              "      <th>3</th>\n",
              "      <td>No Urgent Place</td>\n",
              "      <td>Friend(s)</td>\n",
              "      <td>Sunny</td>\n",
              "      <td>2</td>\n",
              "      <td>Coffee House</td>\n",
              "      <td>2h</td>\n",
              "      <td>Female</td>\n",
              "      <td>0</td>\n",
              "      <td>Unmarried partner</td>\n",
              "      <td>1</td>\n",
              "      <td>...</td>\n",
              "      <td>0</td>\n",
              "      <td>0</td>\n",
              "      <td>2</td>\n",
              "      <td>3</td>\n",
              "      <td>2</td>\n",
              "      <td>1</td>\n",
              "      <td>0</td>\n",
              "      <td>0</td>\n",
              "      <td>1</td>\n",
              "      <td>0</td>\n",
              "    </tr>\n",
              "    <tr>\n",
              "      <th>4</th>\n",
              "      <td>No Urgent Place</td>\n",
              "      <td>Friend(s)</td>\n",
              "      <td>Sunny</td>\n",
              "      <td>2</td>\n",
              "      <td>Coffee House</td>\n",
              "      <td>1d</td>\n",
              "      <td>Female</td>\n",
              "      <td>0</td>\n",
              "      <td>Unmarried partner</td>\n",
              "      <td>1</td>\n",
              "      <td>...</td>\n",
              "      <td>0</td>\n",
              "      <td>0</td>\n",
              "      <td>2</td>\n",
              "      <td>3</td>\n",
              "      <td>2</td>\n",
              "      <td>1</td>\n",
              "      <td>0</td>\n",
              "      <td>0</td>\n",
              "      <td>1</td>\n",
              "      <td>0</td>\n",
              "    </tr>\n",
              "  </tbody>\n",
              "</table>\n",
              "<p>5 rows × 23 columns</p>\n",
              "</div>\n",
              "    <div class=\"colab-df-buttons\">\n",
              "\n",
              "  <div class=\"colab-df-container\">\n",
              "    <button class=\"colab-df-convert\" onclick=\"convertToInteractive('df-f56733b5-3549-42b8-a99b-a22818a99451')\"\n",
              "            title=\"Convert this dataframe to an interactive table.\"\n",
              "            style=\"display:none;\">\n",
              "\n",
              "  <svg xmlns=\"http://www.w3.org/2000/svg\" height=\"24px\" viewBox=\"0 -960 960 960\">\n",
              "    <path d=\"M120-120v-720h720v720H120Zm60-500h600v-160H180v160Zm220 220h160v-160H400v160Zm0 220h160v-160H400v160ZM180-400h160v-160H180v160Zm440 0h160v-160H620v160ZM180-180h160v-160H180v160Zm440 0h160v-160H620v160Z\"/>\n",
              "  </svg>\n",
              "    </button>\n",
              "\n",
              "  <style>\n",
              "    .colab-df-container {\n",
              "      display:flex;\n",
              "      gap: 12px;\n",
              "    }\n",
              "\n",
              "    .colab-df-convert {\n",
              "      background-color: #E8F0FE;\n",
              "      border: none;\n",
              "      border-radius: 50%;\n",
              "      cursor: pointer;\n",
              "      display: none;\n",
              "      fill: #1967D2;\n",
              "      height: 32px;\n",
              "      padding: 0 0 0 0;\n",
              "      width: 32px;\n",
              "    }\n",
              "\n",
              "    .colab-df-convert:hover {\n",
              "      background-color: #E2EBFA;\n",
              "      box-shadow: 0px 1px 2px rgba(60, 64, 67, 0.3), 0px 1px 3px 1px rgba(60, 64, 67, 0.15);\n",
              "      fill: #174EA6;\n",
              "    }\n",
              "\n",
              "    .colab-df-buttons div {\n",
              "      margin-bottom: 4px;\n",
              "    }\n",
              "\n",
              "    [theme=dark] .colab-df-convert {\n",
              "      background-color: #3B4455;\n",
              "      fill: #D2E3FC;\n",
              "    }\n",
              "\n",
              "    [theme=dark] .colab-df-convert:hover {\n",
              "      background-color: #434B5C;\n",
              "      box-shadow: 0px 1px 3px 1px rgba(0, 0, 0, 0.15);\n",
              "      filter: drop-shadow(0px 1px 2px rgba(0, 0, 0, 0.3));\n",
              "      fill: #FFFFFF;\n",
              "    }\n",
              "  </style>\n",
              "\n",
              "    <script>\n",
              "      const buttonEl =\n",
              "        document.querySelector('#df-f56733b5-3549-42b8-a99b-a22818a99451 button.colab-df-convert');\n",
              "      buttonEl.style.display =\n",
              "        google.colab.kernel.accessAllowed ? 'block' : 'none';\n",
              "\n",
              "      async function convertToInteractive(key) {\n",
              "        const element = document.querySelector('#df-f56733b5-3549-42b8-a99b-a22818a99451');\n",
              "        const dataTable =\n",
              "          await google.colab.kernel.invokeFunction('convertToInteractive',\n",
              "                                                    [key], {});\n",
              "        if (!dataTable) return;\n",
              "\n",
              "        const docLinkHtml = 'Like what you see? Visit the ' +\n",
              "          '<a target=\"_blank\" href=https://colab.research.google.com/notebooks/data_table.ipynb>data table notebook</a>'\n",
              "          + ' to learn more about interactive tables.';\n",
              "        element.innerHTML = '';\n",
              "        dataTable['output_type'] = 'display_data';\n",
              "        await google.colab.output.renderOutput(dataTable, element);\n",
              "        const docLink = document.createElement('div');\n",
              "        docLink.innerHTML = docLinkHtml;\n",
              "        element.appendChild(docLink);\n",
              "      }\n",
              "    </script>\n",
              "  </div>\n",
              "\n",
              "\n",
              "<div id=\"df-c81b25d3-b103-49ce-82d7-d483bdccde34\">\n",
              "  <button class=\"colab-df-quickchart\" onclick=\"quickchart('df-c81b25d3-b103-49ce-82d7-d483bdccde34')\"\n",
              "            title=\"Suggest charts\"\n",
              "            style=\"display:none;\">\n",
              "\n",
              "<svg xmlns=\"http://www.w3.org/2000/svg\" height=\"24px\"viewBox=\"0 0 24 24\"\n",
              "     width=\"24px\">\n",
              "    <g>\n",
              "        <path d=\"M19 3H5c-1.1 0-2 .9-2 2v14c0 1.1.9 2 2 2h14c1.1 0 2-.9 2-2V5c0-1.1-.9-2-2-2zM9 17H7v-7h2v7zm4 0h-2V7h2v10zm4 0h-2v-4h2v4z\"/>\n",
              "    </g>\n",
              "</svg>\n",
              "  </button>\n",
              "\n",
              "<style>\n",
              "  .colab-df-quickchart {\n",
              "      --bg-color: #E8F0FE;\n",
              "      --fill-color: #1967D2;\n",
              "      --hover-bg-color: #E2EBFA;\n",
              "      --hover-fill-color: #174EA6;\n",
              "      --disabled-fill-color: #AAA;\n",
              "      --disabled-bg-color: #DDD;\n",
              "  }\n",
              "\n",
              "  [theme=dark] .colab-df-quickchart {\n",
              "      --bg-color: #3B4455;\n",
              "      --fill-color: #D2E3FC;\n",
              "      --hover-bg-color: #434B5C;\n",
              "      --hover-fill-color: #FFFFFF;\n",
              "      --disabled-bg-color: #3B4455;\n",
              "      --disabled-fill-color: #666;\n",
              "  }\n",
              "\n",
              "  .colab-df-quickchart {\n",
              "    background-color: var(--bg-color);\n",
              "    border: none;\n",
              "    border-radius: 50%;\n",
              "    cursor: pointer;\n",
              "    display: none;\n",
              "    fill: var(--fill-color);\n",
              "    height: 32px;\n",
              "    padding: 0;\n",
              "    width: 32px;\n",
              "  }\n",
              "\n",
              "  .colab-df-quickchart:hover {\n",
              "    background-color: var(--hover-bg-color);\n",
              "    box-shadow: 0 1px 2px rgba(60, 64, 67, 0.3), 0 1px 3px 1px rgba(60, 64, 67, 0.15);\n",
              "    fill: var(--button-hover-fill-color);\n",
              "  }\n",
              "\n",
              "  .colab-df-quickchart-complete:disabled,\n",
              "  .colab-df-quickchart-complete:disabled:hover {\n",
              "    background-color: var(--disabled-bg-color);\n",
              "    fill: var(--disabled-fill-color);\n",
              "    box-shadow: none;\n",
              "  }\n",
              "\n",
              "  .colab-df-spinner {\n",
              "    border: 2px solid var(--fill-color);\n",
              "    border-color: transparent;\n",
              "    border-bottom-color: var(--fill-color);\n",
              "    animation:\n",
              "      spin 1s steps(1) infinite;\n",
              "  }\n",
              "\n",
              "  @keyframes spin {\n",
              "    0% {\n",
              "      border-color: transparent;\n",
              "      border-bottom-color: var(--fill-color);\n",
              "      border-left-color: var(--fill-color);\n",
              "    }\n",
              "    20% {\n",
              "      border-color: transparent;\n",
              "      border-left-color: var(--fill-color);\n",
              "      border-top-color: var(--fill-color);\n",
              "    }\n",
              "    30% {\n",
              "      border-color: transparent;\n",
              "      border-left-color: var(--fill-color);\n",
              "      border-top-color: var(--fill-color);\n",
              "      border-right-color: var(--fill-color);\n",
              "    }\n",
              "    40% {\n",
              "      border-color: transparent;\n",
              "      border-right-color: var(--fill-color);\n",
              "      border-top-color: var(--fill-color);\n",
              "    }\n",
              "    60% {\n",
              "      border-color: transparent;\n",
              "      border-right-color: var(--fill-color);\n",
              "    }\n",
              "    80% {\n",
              "      border-color: transparent;\n",
              "      border-right-color: var(--fill-color);\n",
              "      border-bottom-color: var(--fill-color);\n",
              "    }\n",
              "    90% {\n",
              "      border-color: transparent;\n",
              "      border-bottom-color: var(--fill-color);\n",
              "    }\n",
              "  }\n",
              "</style>\n",
              "\n",
              "  <script>\n",
              "    async function quickchart(key) {\n",
              "      const quickchartButtonEl =\n",
              "        document.querySelector('#' + key + ' button');\n",
              "      quickchartButtonEl.disabled = true;  // To prevent multiple clicks.\n",
              "      quickchartButtonEl.classList.add('colab-df-spinner');\n",
              "      try {\n",
              "        const charts = await google.colab.kernel.invokeFunction(\n",
              "            'suggestCharts', [key], {});\n",
              "      } catch (error) {\n",
              "        console.error('Error during call to suggestCharts:', error);\n",
              "      }\n",
              "      quickchartButtonEl.classList.remove('colab-df-spinner');\n",
              "      quickchartButtonEl.classList.add('colab-df-quickchart-complete');\n",
              "    }\n",
              "    (() => {\n",
              "      let quickchartButtonEl =\n",
              "        document.querySelector('#df-c81b25d3-b103-49ce-82d7-d483bdccde34 button');\n",
              "      quickchartButtonEl.style.display =\n",
              "        google.colab.kernel.accessAllowed ? 'block' : 'none';\n",
              "    })();\n",
              "  </script>\n",
              "</div>\n",
              "\n",
              "    </div>\n",
              "  </div>\n"
            ],
            "application/vnd.google.colaboratory.intrinsic+json": {
              "type": "dataframe",
              "variable_name": "df"
            }
          },
          "metadata": {},
          "execution_count": 37
        }
      ]
    },
    {
      "cell_type": "markdown",
      "source": [
        "OHE"
      ],
      "metadata": {
        "id": "D2B2tA40qcgm"
      }
    },
    {
      "cell_type": "code",
      "source": [
        "# Apply one-hot encoding to the specified columns\n",
        "df_ohe = pd.get_dummies(df[['destination', 'passanger','weather','coupon','expiration','gender','maritalStatus','occupation']],drop_first=True)\n",
        "df.drop(['destination', 'passanger','weather','coupon','expiration','gender','maritalStatus','occupation'], axis=1, inplace=True)\n",
        "# Concatenate the original DataFrame with the one-hot encoded DataFrame\n",
        "df = pd.concat([df, df_ohe], axis=1)\n",
        "\n"
      ],
      "metadata": {
        "id": "xQhoH8meqJFK"
      },
      "execution_count": null,
      "outputs": []
    },
    {
      "cell_type": "code",
      "source": [
        "df.info()"
      ],
      "metadata": {
        "colab": {
          "base_uri": "https://localhost:8080/"
        },
        "id": "56-k1pHqpt8H",
        "outputId": "cacf8cfe-f158-45a2-cf94-2da6fc350199"
      },
      "execution_count": null,
      "outputs": [
        {
          "output_type": "stream",
          "name": "stdout",
          "text": [
            "<class 'pandas.core.frame.DataFrame'>\n",
            "Index: 12393 entries, 0 to 12683\n",
            "Data columns (total 56 columns):\n",
            " #   Column                                                Non-Null Count  Dtype \n",
            "---  ------                                                --------------  ----- \n",
            " 0   temperature                                           12393 non-null  int64 \n",
            " 1   age                                                   12393 non-null  int64 \n",
            " 2   has_children                                          12393 non-null  object\n",
            " 3   education                                             12393 non-null  int64 \n",
            " 4   income                                                12393 non-null  int64 \n",
            " 5   Bar                                                   12393 non-null  int64 \n",
            " 6   CoffeeHouse                                           12393 non-null  int64 \n",
            " 7   CarryAway                                             12393 non-null  int64 \n",
            " 8   RestaurantLessThan20                                  12393 non-null  int64 \n",
            " 9   Restaurant20To50                                      12393 non-null  int64 \n",
            " 10  toCoupon_GEQ15min                                     12393 non-null  object\n",
            " 11  toCoupon_GEQ25min                                     12393 non-null  object\n",
            " 12  direction_same                                        12393 non-null  object\n",
            " 13  direction_opp                                         12393 non-null  object\n",
            " 14  Accept                                                12393 non-null  object\n",
            " 15  destination_No Urgent Place                           12393 non-null  bool  \n",
            " 16  destination_Work                                      12393 non-null  bool  \n",
            " 17  passanger_Friend(s)                                   12393 non-null  bool  \n",
            " 18  passanger_Kid(s)                                      12393 non-null  bool  \n",
            " 19  passanger_Partner                                     12393 non-null  bool  \n",
            " 20  weather_Snowy                                         12393 non-null  bool  \n",
            " 21  weather_Sunny                                         12393 non-null  bool  \n",
            " 22  coupon_Carry out & Take away                          12393 non-null  bool  \n",
            " 23  coupon_Coffee House                                   12393 non-null  bool  \n",
            " 24  coupon_Restaurant(20-50)                              12393 non-null  bool  \n",
            " 25  coupon_Restaurant(<20)                                12393 non-null  bool  \n",
            " 26  expiration_2h                                         12393 non-null  bool  \n",
            " 27  gender_Male                                           12393 non-null  bool  \n",
            " 28  maritalStatus_Married partner                         12393 non-null  bool  \n",
            " 29  maritalStatus_Single                                  12393 non-null  bool  \n",
            " 30  maritalStatus_Unmarried partner                       12393 non-null  bool  \n",
            " 31  maritalStatus_Widowed                                 12393 non-null  bool  \n",
            " 32  occupation_Arts Design Entertainment Sports & Media   12393 non-null  bool  \n",
            " 33  occupation_Building & Grounds Cleaning & Maintenance  12393 non-null  bool  \n",
            " 34  occupation_Business & Financial                       12393 non-null  bool  \n",
            " 35  occupation_Community & Social Services                12393 non-null  bool  \n",
            " 36  occupation_Computer & Mathematical                    12393 non-null  bool  \n",
            " 37  occupation_Construction & Extraction                  12393 non-null  bool  \n",
            " 38  occupation_Education&Training&Library                 12393 non-null  bool  \n",
            " 39  occupation_Farming Fishing & Forestry                 12393 non-null  bool  \n",
            " 40  occupation_Food Preparation & Serving Related         12393 non-null  bool  \n",
            " 41  occupation_Healthcare Practitioners & Technical       12393 non-null  bool  \n",
            " 42  occupation_Healthcare Support                         12393 non-null  bool  \n",
            " 43  occupation_Installation Maintenance & Repair          12393 non-null  bool  \n",
            " 44  occupation_Legal                                      12393 non-null  bool  \n",
            " 45  occupation_Life Physical Social Science               12393 non-null  bool  \n",
            " 46  occupation_Management                                 12393 non-null  bool  \n",
            " 47  occupation_Office & Administrative Support            12393 non-null  bool  \n",
            " 48  occupation_Personal Care & Service                    12393 non-null  bool  \n",
            " 49  occupation_Production Occupations                     12393 non-null  bool  \n",
            " 50  occupation_Protective Service                         12393 non-null  bool  \n",
            " 51  occupation_Retired                                    12393 non-null  bool  \n",
            " 52  occupation_Sales & Related                            12393 non-null  bool  \n",
            " 53  occupation_Student                                    12393 non-null  bool  \n",
            " 54  occupation_Transportation & Material Moving           12393 non-null  bool  \n",
            " 55  occupation_Unemployed                                 12393 non-null  bool  \n",
            "dtypes: bool(41), int64(9), object(6)\n",
            "memory usage: 2.0+ MB\n"
          ]
        }
      ]
    },
    {
      "cell_type": "code",
      "source": [
        "# Convert all object-type columns to integers, if possible\n",
        "for col in df.select_dtypes(include=['object','bool']).columns:\n",
        "    try:\n",
        "        df[col] = df[col].astype(int)\n",
        "    except ValueError:\n",
        "        print(f\"Column '{col}' could not be converted to integer due to non-numeric values.\")\n",
        "\n"
      ],
      "metadata": {
        "id": "fVDPiWGrp7O4"
      },
      "execution_count": null,
      "outputs": []
    },
    {
      "cell_type": "code",
      "source": [
        "df.info()"
      ],
      "metadata": {
        "colab": {
          "base_uri": "https://localhost:8080/"
        },
        "id": "peDcET3oqL8B",
        "outputId": "84675fef-fc12-45c7-c6e8-2ea77ad0ee93"
      },
      "execution_count": null,
      "outputs": [
        {
          "output_type": "stream",
          "name": "stdout",
          "text": [
            "<class 'pandas.core.frame.DataFrame'>\n",
            "Index: 12393 entries, 0 to 12683\n",
            "Data columns (total 56 columns):\n",
            " #   Column                                                Non-Null Count  Dtype\n",
            "---  ------                                                --------------  -----\n",
            " 0   temperature                                           12393 non-null  int64\n",
            " 1   age                                                   12393 non-null  int64\n",
            " 2   has_children                                          12393 non-null  int64\n",
            " 3   education                                             12393 non-null  int64\n",
            " 4   income                                                12393 non-null  int64\n",
            " 5   Bar                                                   12393 non-null  int64\n",
            " 6   CoffeeHouse                                           12393 non-null  int64\n",
            " 7   CarryAway                                             12393 non-null  int64\n",
            " 8   RestaurantLessThan20                                  12393 non-null  int64\n",
            " 9   Restaurant20To50                                      12393 non-null  int64\n",
            " 10  toCoupon_GEQ15min                                     12393 non-null  int64\n",
            " 11  toCoupon_GEQ25min                                     12393 non-null  int64\n",
            " 12  direction_same                                        12393 non-null  int64\n",
            " 13  direction_opp                                         12393 non-null  int64\n",
            " 14  Accept                                                12393 non-null  int64\n",
            " 15  destination_No Urgent Place                           12393 non-null  int64\n",
            " 16  destination_Work                                      12393 non-null  int64\n",
            " 17  passanger_Friend(s)                                   12393 non-null  int64\n",
            " 18  passanger_Kid(s)                                      12393 non-null  int64\n",
            " 19  passanger_Partner                                     12393 non-null  int64\n",
            " 20  weather_Snowy                                         12393 non-null  int64\n",
            " 21  weather_Sunny                                         12393 non-null  int64\n",
            " 22  coupon_Carry out & Take away                          12393 non-null  int64\n",
            " 23  coupon_Coffee House                                   12393 non-null  int64\n",
            " 24  coupon_Restaurant(20-50)                              12393 non-null  int64\n",
            " 25  coupon_Restaurant(<20)                                12393 non-null  int64\n",
            " 26  expiration_2h                                         12393 non-null  int64\n",
            " 27  gender_Male                                           12393 non-null  int64\n",
            " 28  maritalStatus_Married partner                         12393 non-null  int64\n",
            " 29  maritalStatus_Single                                  12393 non-null  int64\n",
            " 30  maritalStatus_Unmarried partner                       12393 non-null  int64\n",
            " 31  maritalStatus_Widowed                                 12393 non-null  int64\n",
            " 32  occupation_Arts Design Entertainment Sports & Media   12393 non-null  int64\n",
            " 33  occupation_Building & Grounds Cleaning & Maintenance  12393 non-null  int64\n",
            " 34  occupation_Business & Financial                       12393 non-null  int64\n",
            " 35  occupation_Community & Social Services                12393 non-null  int64\n",
            " 36  occupation_Computer & Mathematical                    12393 non-null  int64\n",
            " 37  occupation_Construction & Extraction                  12393 non-null  int64\n",
            " 38  occupation_Education&Training&Library                 12393 non-null  int64\n",
            " 39  occupation_Farming Fishing & Forestry                 12393 non-null  int64\n",
            " 40  occupation_Food Preparation & Serving Related         12393 non-null  int64\n",
            " 41  occupation_Healthcare Practitioners & Technical       12393 non-null  int64\n",
            " 42  occupation_Healthcare Support                         12393 non-null  int64\n",
            " 43  occupation_Installation Maintenance & Repair          12393 non-null  int64\n",
            " 44  occupation_Legal                                      12393 non-null  int64\n",
            " 45  occupation_Life Physical Social Science               12393 non-null  int64\n",
            " 46  occupation_Management                                 12393 non-null  int64\n",
            " 47  occupation_Office & Administrative Support            12393 non-null  int64\n",
            " 48  occupation_Personal Care & Service                    12393 non-null  int64\n",
            " 49  occupation_Production Occupations                     12393 non-null  int64\n",
            " 50  occupation_Protective Service                         12393 non-null  int64\n",
            " 51  occupation_Retired                                    12393 non-null  int64\n",
            " 52  occupation_Sales & Related                            12393 non-null  int64\n",
            " 53  occupation_Student                                    12393 non-null  int64\n",
            " 54  occupation_Transportation & Material Moving           12393 non-null  int64\n",
            " 55  occupation_Unemployed                                 12393 non-null  int64\n",
            "dtypes: int64(56)\n",
            "memory usage: 5.4 MB\n"
          ]
        }
      ]
    },
    {
      "cell_type": "code",
      "source": [
        "\n",
        "# Calculate the correlation matrix\n",
        "corr_matrix = df.corr()\n",
        "\n",
        "# Flatten the matrix and reset index to convert it to a DataFrame\n",
        "corr_pairs = corr_matrix.unstack().reset_index()\n",
        "\n",
        "# Rename columns for better readability\n",
        "corr_pairs.columns = ['Variable1', 'Variable2', 'Correlation']\n",
        "\n",
        "# Filter to keep only the desired correlations\n",
        "filtered_corr_pairs = corr_pairs[(corr_pairs['Correlation'] > 0.7) | (corr_pairs['Correlation'] < -0.7)]\n",
        "\n",
        "# Remove self-correlations and duplicate pairs\n",
        "filtered_corr_pairs = filtered_corr_pairs[filtered_corr_pairs['Variable1'] != filtered_corr_pairs['Variable2']].drop_duplicates(subset=['Correlation'])\n",
        "\n",
        "print(\"Pairs with correlation <-0.7 or >0.7:\")\n",
        "print(filtered_corr_pairs)\n"
      ],
      "metadata": {
        "colab": {
          "base_uri": "https://localhost:8080/"
        },
        "id": "NWzVYhptksT9",
        "outputId": "e4323dae-6cd9-4c95-99aa-afd47b3c9fdc"
      },
      "execution_count": null,
      "outputs": [
        {
          "output_type": "stream",
          "name": "stdout",
          "text": [
            "Pairs with correlation <-0.7 or >0.7:\n",
            "          Variable1      Variable2  Correlation\n",
            "685  direction_same  direction_opp         -1.0\n"
          ]
        }
      ]
    },
    {
      "cell_type": "code",
      "source": [
        "df = df.drop('direction_opp', axis=1)"
      ],
      "metadata": {
        "id": "7rUpNpEi_7kt"
      },
      "execution_count": null,
      "outputs": []
    },
    {
      "cell_type": "code",
      "source": [
        "# Analyzing multcollinearity\n",
        "from statsmodels.stats.outliers_influence import variance_inflation_factor\n",
        "X_new = df\n",
        "vif_data = pd.DataFrame()\n",
        "vif_data[\"feature\"] = X_new.columns\n",
        "vif_data\n",
        "# calculating VIF for each feature\n",
        "vif_data[\"VIF\"] = [variance_inflation_factor(X_new, i) for i in range(X_new.shape[1])]\n",
        "vif_data['Multicolinear']=['yes' if vif_data['VIF'][i]>5 else 'no' for i in range(X_new.shape[1])]\n",
        "vif_data"
      ],
      "metadata": {
        "colab": {
          "base_uri": "https://localhost:8080/",
          "height": 1000
        },
        "id": "YpJu6uSRX2SB",
        "outputId": "6e97e5de-348c-429f-8693-f2b42513adf5"
      },
      "execution_count": null,
      "outputs": [
        {
          "output_type": "execute_result",
          "data": {
            "text/plain": [
              "                                              feature        VIF Multicolinear\n",
              "0                                         temperature   7.416489           yes\n",
              "1                                                 age   4.877112            no\n",
              "2                                        has_children   3.255462            no\n",
              "3                                           education   8.690976           yes\n",
              "4                                              income   4.428210            no\n",
              "5                                                 Bar   2.523286            no\n",
              "6                                         CoffeeHouse   3.470004            no\n",
              "7                                           CarryAway  10.354230           yes\n",
              "8                                RestaurantLessThan20  10.912986           yes\n",
              "9                                    Restaurant20To50   4.243486            no\n",
              "10                                  toCoupon_GEQ15min   3.048107            no\n",
              "11                                  toCoupon_GEQ25min   2.035080            no\n",
              "12                                     direction_same   2.526305            no\n",
              "13                                             Accept   2.731765            no\n",
              "14                        destination_No Urgent Place   7.553611           yes\n",
              "15                                   destination_Work   2.138270            no\n",
              "16                                passanger_Friend(s)   3.284175            no\n",
              "17                                   passanger_Kid(s)   1.771450            no\n",
              "18                                  passanger_Partner   1.613276            no\n",
              "19                                      weather_Snowy   2.449056            no\n",
              "20                                      weather_Sunny  10.144199           yes\n",
              "21                       coupon_Carry out & Take away   2.381369            no\n",
              "22                                coupon_Coffee House   3.452029            no\n",
              "23                           coupon_Restaurant(20-50)   2.016693            no\n",
              "24                             coupon_Restaurant(<20)   2.704044            no\n",
              "25                                      expiration_2h   2.048613            no\n",
              "26                                        gender_Male   2.433816            no\n",
              "27                      maritalStatus_Married partner  10.655822           yes\n",
              "28                               maritalStatus_Single  10.374013           yes\n",
              "29                    maritalStatus_Unmarried partner   5.271850           yes\n",
              "30                              maritalStatus_Widowed   1.338531            no\n",
              "31  occupation_Arts Design Entertainment Sports & ...   2.933430            no\n",
              "32  occupation_Building & Grounds Cleaning & Maint...   1.145428            no\n",
              "33                    occupation_Business & Financial   2.824279            no\n",
              "34             occupation_Community & Social Services   1.728716            no\n",
              "35                 occupation_Computer & Mathematical   5.430235           yes\n",
              "36               occupation_Construction & Extraction   1.522221            no\n",
              "37              occupation_Education&Training&Library   4.267118            no\n",
              "38              occupation_Farming Fishing & Forestry   1.147601            no\n",
              "39      occupation_Food Preparation & Serving Related   1.926133            no\n",
              "40    occupation_Healthcare Practitioners & Technical   1.885700            no\n",
              "41                      occupation_Healthcare Support   1.813569            no\n",
              "42       occupation_Installation Maintenance & Repair   1.540210            no\n",
              "43                                   occupation_Legal   1.815135            no\n",
              "44            occupation_Life Physical Social Science   1.574369            no\n",
              "45                              occupation_Management   3.881400            no\n",
              "46         occupation_Office & Administrative Support   2.979152            no\n",
              "47                 occupation_Personal Care & Service   1.545464            no\n",
              "48                  occupation_Production Occupations   1.388452            no\n",
              "49                      occupation_Protective Service   1.583650            no\n",
              "50                                 occupation_Retired   2.832123            no\n",
              "51                         occupation_Sales & Related   4.252028            no\n",
              "52                                 occupation_Student   5.774414           yes\n",
              "53        occupation_Transportation & Material Moving   1.737042            no\n",
              "54                              occupation_Unemployed   6.714692           yes"
            ],
            "text/html": [
              "\n",
              "  <div id=\"df-99d178f1-a1ea-42da-8bbc-c2e9eaa8a879\" class=\"colab-df-container\">\n",
              "    <div>\n",
              "<style scoped>\n",
              "    .dataframe tbody tr th:only-of-type {\n",
              "        vertical-align: middle;\n",
              "    }\n",
              "\n",
              "    .dataframe tbody tr th {\n",
              "        vertical-align: top;\n",
              "    }\n",
              "\n",
              "    .dataframe thead th {\n",
              "        text-align: right;\n",
              "    }\n",
              "</style>\n",
              "<table border=\"1\" class=\"dataframe\">\n",
              "  <thead>\n",
              "    <tr style=\"text-align: right;\">\n",
              "      <th></th>\n",
              "      <th>feature</th>\n",
              "      <th>VIF</th>\n",
              "      <th>Multicolinear</th>\n",
              "    </tr>\n",
              "  </thead>\n",
              "  <tbody>\n",
              "    <tr>\n",
              "      <th>0</th>\n",
              "      <td>temperature</td>\n",
              "      <td>7.416489</td>\n",
              "      <td>yes</td>\n",
              "    </tr>\n",
              "    <tr>\n",
              "      <th>1</th>\n",
              "      <td>age</td>\n",
              "      <td>4.877112</td>\n",
              "      <td>no</td>\n",
              "    </tr>\n",
              "    <tr>\n",
              "      <th>2</th>\n",
              "      <td>has_children</td>\n",
              "      <td>3.255462</td>\n",
              "      <td>no</td>\n",
              "    </tr>\n",
              "    <tr>\n",
              "      <th>3</th>\n",
              "      <td>education</td>\n",
              "      <td>8.690976</td>\n",
              "      <td>yes</td>\n",
              "    </tr>\n",
              "    <tr>\n",
              "      <th>4</th>\n",
              "      <td>income</td>\n",
              "      <td>4.428210</td>\n",
              "      <td>no</td>\n",
              "    </tr>\n",
              "    <tr>\n",
              "      <th>5</th>\n",
              "      <td>Bar</td>\n",
              "      <td>2.523286</td>\n",
              "      <td>no</td>\n",
              "    </tr>\n",
              "    <tr>\n",
              "      <th>6</th>\n",
              "      <td>CoffeeHouse</td>\n",
              "      <td>3.470004</td>\n",
              "      <td>no</td>\n",
              "    </tr>\n",
              "    <tr>\n",
              "      <th>7</th>\n",
              "      <td>CarryAway</td>\n",
              "      <td>10.354230</td>\n",
              "      <td>yes</td>\n",
              "    </tr>\n",
              "    <tr>\n",
              "      <th>8</th>\n",
              "      <td>RestaurantLessThan20</td>\n",
              "      <td>10.912986</td>\n",
              "      <td>yes</td>\n",
              "    </tr>\n",
              "    <tr>\n",
              "      <th>9</th>\n",
              "      <td>Restaurant20To50</td>\n",
              "      <td>4.243486</td>\n",
              "      <td>no</td>\n",
              "    </tr>\n",
              "    <tr>\n",
              "      <th>10</th>\n",
              "      <td>toCoupon_GEQ15min</td>\n",
              "      <td>3.048107</td>\n",
              "      <td>no</td>\n",
              "    </tr>\n",
              "    <tr>\n",
              "      <th>11</th>\n",
              "      <td>toCoupon_GEQ25min</td>\n",
              "      <td>2.035080</td>\n",
              "      <td>no</td>\n",
              "    </tr>\n",
              "    <tr>\n",
              "      <th>12</th>\n",
              "      <td>direction_same</td>\n",
              "      <td>2.526305</td>\n",
              "      <td>no</td>\n",
              "    </tr>\n",
              "    <tr>\n",
              "      <th>13</th>\n",
              "      <td>Accept</td>\n",
              "      <td>2.731765</td>\n",
              "      <td>no</td>\n",
              "    </tr>\n",
              "    <tr>\n",
              "      <th>14</th>\n",
              "      <td>destination_No Urgent Place</td>\n",
              "      <td>7.553611</td>\n",
              "      <td>yes</td>\n",
              "    </tr>\n",
              "    <tr>\n",
              "      <th>15</th>\n",
              "      <td>destination_Work</td>\n",
              "      <td>2.138270</td>\n",
              "      <td>no</td>\n",
              "    </tr>\n",
              "    <tr>\n",
              "      <th>16</th>\n",
              "      <td>passanger_Friend(s)</td>\n",
              "      <td>3.284175</td>\n",
              "      <td>no</td>\n",
              "    </tr>\n",
              "    <tr>\n",
              "      <th>17</th>\n",
              "      <td>passanger_Kid(s)</td>\n",
              "      <td>1.771450</td>\n",
              "      <td>no</td>\n",
              "    </tr>\n",
              "    <tr>\n",
              "      <th>18</th>\n",
              "      <td>passanger_Partner</td>\n",
              "      <td>1.613276</td>\n",
              "      <td>no</td>\n",
              "    </tr>\n",
              "    <tr>\n",
              "      <th>19</th>\n",
              "      <td>weather_Snowy</td>\n",
              "      <td>2.449056</td>\n",
              "      <td>no</td>\n",
              "    </tr>\n",
              "    <tr>\n",
              "      <th>20</th>\n",
              "      <td>weather_Sunny</td>\n",
              "      <td>10.144199</td>\n",
              "      <td>yes</td>\n",
              "    </tr>\n",
              "    <tr>\n",
              "      <th>21</th>\n",
              "      <td>coupon_Carry out &amp; Take away</td>\n",
              "      <td>2.381369</td>\n",
              "      <td>no</td>\n",
              "    </tr>\n",
              "    <tr>\n",
              "      <th>22</th>\n",
              "      <td>coupon_Coffee House</td>\n",
              "      <td>3.452029</td>\n",
              "      <td>no</td>\n",
              "    </tr>\n",
              "    <tr>\n",
              "      <th>23</th>\n",
              "      <td>coupon_Restaurant(20-50)</td>\n",
              "      <td>2.016693</td>\n",
              "      <td>no</td>\n",
              "    </tr>\n",
              "    <tr>\n",
              "      <th>24</th>\n",
              "      <td>coupon_Restaurant(&lt;20)</td>\n",
              "      <td>2.704044</td>\n",
              "      <td>no</td>\n",
              "    </tr>\n",
              "    <tr>\n",
              "      <th>25</th>\n",
              "      <td>expiration_2h</td>\n",
              "      <td>2.048613</td>\n",
              "      <td>no</td>\n",
              "    </tr>\n",
              "    <tr>\n",
              "      <th>26</th>\n",
              "      <td>gender_Male</td>\n",
              "      <td>2.433816</td>\n",
              "      <td>no</td>\n",
              "    </tr>\n",
              "    <tr>\n",
              "      <th>27</th>\n",
              "      <td>maritalStatus_Married partner</td>\n",
              "      <td>10.655822</td>\n",
              "      <td>yes</td>\n",
              "    </tr>\n",
              "    <tr>\n",
              "      <th>28</th>\n",
              "      <td>maritalStatus_Single</td>\n",
              "      <td>10.374013</td>\n",
              "      <td>yes</td>\n",
              "    </tr>\n",
              "    <tr>\n",
              "      <th>29</th>\n",
              "      <td>maritalStatus_Unmarried partner</td>\n",
              "      <td>5.271850</td>\n",
              "      <td>yes</td>\n",
              "    </tr>\n",
              "    <tr>\n",
              "      <th>30</th>\n",
              "      <td>maritalStatus_Widowed</td>\n",
              "      <td>1.338531</td>\n",
              "      <td>no</td>\n",
              "    </tr>\n",
              "    <tr>\n",
              "      <th>31</th>\n",
              "      <td>occupation_Arts Design Entertainment Sports &amp; ...</td>\n",
              "      <td>2.933430</td>\n",
              "      <td>no</td>\n",
              "    </tr>\n",
              "    <tr>\n",
              "      <th>32</th>\n",
              "      <td>occupation_Building &amp; Grounds Cleaning &amp; Maint...</td>\n",
              "      <td>1.145428</td>\n",
              "      <td>no</td>\n",
              "    </tr>\n",
              "    <tr>\n",
              "      <th>33</th>\n",
              "      <td>occupation_Business &amp; Financial</td>\n",
              "      <td>2.824279</td>\n",
              "      <td>no</td>\n",
              "    </tr>\n",
              "    <tr>\n",
              "      <th>34</th>\n",
              "      <td>occupation_Community &amp; Social Services</td>\n",
              "      <td>1.728716</td>\n",
              "      <td>no</td>\n",
              "    </tr>\n",
              "    <tr>\n",
              "      <th>35</th>\n",
              "      <td>occupation_Computer &amp; Mathematical</td>\n",
              "      <td>5.430235</td>\n",
              "      <td>yes</td>\n",
              "    </tr>\n",
              "    <tr>\n",
              "      <th>36</th>\n",
              "      <td>occupation_Construction &amp; Extraction</td>\n",
              "      <td>1.522221</td>\n",
              "      <td>no</td>\n",
              "    </tr>\n",
              "    <tr>\n",
              "      <th>37</th>\n",
              "      <td>occupation_Education&amp;Training&amp;Library</td>\n",
              "      <td>4.267118</td>\n",
              "      <td>no</td>\n",
              "    </tr>\n",
              "    <tr>\n",
              "      <th>38</th>\n",
              "      <td>occupation_Farming Fishing &amp; Forestry</td>\n",
              "      <td>1.147601</td>\n",
              "      <td>no</td>\n",
              "    </tr>\n",
              "    <tr>\n",
              "      <th>39</th>\n",
              "      <td>occupation_Food Preparation &amp; Serving Related</td>\n",
              "      <td>1.926133</td>\n",
              "      <td>no</td>\n",
              "    </tr>\n",
              "    <tr>\n",
              "      <th>40</th>\n",
              "      <td>occupation_Healthcare Practitioners &amp; Technical</td>\n",
              "      <td>1.885700</td>\n",
              "      <td>no</td>\n",
              "    </tr>\n",
              "    <tr>\n",
              "      <th>41</th>\n",
              "      <td>occupation_Healthcare Support</td>\n",
              "      <td>1.813569</td>\n",
              "      <td>no</td>\n",
              "    </tr>\n",
              "    <tr>\n",
              "      <th>42</th>\n",
              "      <td>occupation_Installation Maintenance &amp; Repair</td>\n",
              "      <td>1.540210</td>\n",
              "      <td>no</td>\n",
              "    </tr>\n",
              "    <tr>\n",
              "      <th>43</th>\n",
              "      <td>occupation_Legal</td>\n",
              "      <td>1.815135</td>\n",
              "      <td>no</td>\n",
              "    </tr>\n",
              "    <tr>\n",
              "      <th>44</th>\n",
              "      <td>occupation_Life Physical Social Science</td>\n",
              "      <td>1.574369</td>\n",
              "      <td>no</td>\n",
              "    </tr>\n",
              "    <tr>\n",
              "      <th>45</th>\n",
              "      <td>occupation_Management</td>\n",
              "      <td>3.881400</td>\n",
              "      <td>no</td>\n",
              "    </tr>\n",
              "    <tr>\n",
              "      <th>46</th>\n",
              "      <td>occupation_Office &amp; Administrative Support</td>\n",
              "      <td>2.979152</td>\n",
              "      <td>no</td>\n",
              "    </tr>\n",
              "    <tr>\n",
              "      <th>47</th>\n",
              "      <td>occupation_Personal Care &amp; Service</td>\n",
              "      <td>1.545464</td>\n",
              "      <td>no</td>\n",
              "    </tr>\n",
              "    <tr>\n",
              "      <th>48</th>\n",
              "      <td>occupation_Production Occupations</td>\n",
              "      <td>1.388452</td>\n",
              "      <td>no</td>\n",
              "    </tr>\n",
              "    <tr>\n",
              "      <th>49</th>\n",
              "      <td>occupation_Protective Service</td>\n",
              "      <td>1.583650</td>\n",
              "      <td>no</td>\n",
              "    </tr>\n",
              "    <tr>\n",
              "      <th>50</th>\n",
              "      <td>occupation_Retired</td>\n",
              "      <td>2.832123</td>\n",
              "      <td>no</td>\n",
              "    </tr>\n",
              "    <tr>\n",
              "      <th>51</th>\n",
              "      <td>occupation_Sales &amp; Related</td>\n",
              "      <td>4.252028</td>\n",
              "      <td>no</td>\n",
              "    </tr>\n",
              "    <tr>\n",
              "      <th>52</th>\n",
              "      <td>occupation_Student</td>\n",
              "      <td>5.774414</td>\n",
              "      <td>yes</td>\n",
              "    </tr>\n",
              "    <tr>\n",
              "      <th>53</th>\n",
              "      <td>occupation_Transportation &amp; Material Moving</td>\n",
              "      <td>1.737042</td>\n",
              "      <td>no</td>\n",
              "    </tr>\n",
              "    <tr>\n",
              "      <th>54</th>\n",
              "      <td>occupation_Unemployed</td>\n",
              "      <td>6.714692</td>\n",
              "      <td>yes</td>\n",
              "    </tr>\n",
              "  </tbody>\n",
              "</table>\n",
              "</div>\n",
              "    <div class=\"colab-df-buttons\">\n",
              "\n",
              "  <div class=\"colab-df-container\">\n",
              "    <button class=\"colab-df-convert\" onclick=\"convertToInteractive('df-99d178f1-a1ea-42da-8bbc-c2e9eaa8a879')\"\n",
              "            title=\"Convert this dataframe to an interactive table.\"\n",
              "            style=\"display:none;\">\n",
              "\n",
              "  <svg xmlns=\"http://www.w3.org/2000/svg\" height=\"24px\" viewBox=\"0 -960 960 960\">\n",
              "    <path d=\"M120-120v-720h720v720H120Zm60-500h600v-160H180v160Zm220 220h160v-160H400v160Zm0 220h160v-160H400v160ZM180-400h160v-160H180v160Zm440 0h160v-160H620v160ZM180-180h160v-160H180v160Zm440 0h160v-160H620v160Z\"/>\n",
              "  </svg>\n",
              "    </button>\n",
              "\n",
              "  <style>\n",
              "    .colab-df-container {\n",
              "      display:flex;\n",
              "      gap: 12px;\n",
              "    }\n",
              "\n",
              "    .colab-df-convert {\n",
              "      background-color: #E8F0FE;\n",
              "      border: none;\n",
              "      border-radius: 50%;\n",
              "      cursor: pointer;\n",
              "      display: none;\n",
              "      fill: #1967D2;\n",
              "      height: 32px;\n",
              "      padding: 0 0 0 0;\n",
              "      width: 32px;\n",
              "    }\n",
              "\n",
              "    .colab-df-convert:hover {\n",
              "      background-color: #E2EBFA;\n",
              "      box-shadow: 0px 1px 2px rgba(60, 64, 67, 0.3), 0px 1px 3px 1px rgba(60, 64, 67, 0.15);\n",
              "      fill: #174EA6;\n",
              "    }\n",
              "\n",
              "    .colab-df-buttons div {\n",
              "      margin-bottom: 4px;\n",
              "    }\n",
              "\n",
              "    [theme=dark] .colab-df-convert {\n",
              "      background-color: #3B4455;\n",
              "      fill: #D2E3FC;\n",
              "    }\n",
              "\n",
              "    [theme=dark] .colab-df-convert:hover {\n",
              "      background-color: #434B5C;\n",
              "      box-shadow: 0px 1px 3px 1px rgba(0, 0, 0, 0.15);\n",
              "      filter: drop-shadow(0px 1px 2px rgba(0, 0, 0, 0.3));\n",
              "      fill: #FFFFFF;\n",
              "    }\n",
              "  </style>\n",
              "\n",
              "    <script>\n",
              "      const buttonEl =\n",
              "        document.querySelector('#df-99d178f1-a1ea-42da-8bbc-c2e9eaa8a879 button.colab-df-convert');\n",
              "      buttonEl.style.display =\n",
              "        google.colab.kernel.accessAllowed ? 'block' : 'none';\n",
              "\n",
              "      async function convertToInteractive(key) {\n",
              "        const element = document.querySelector('#df-99d178f1-a1ea-42da-8bbc-c2e9eaa8a879');\n",
              "        const dataTable =\n",
              "          await google.colab.kernel.invokeFunction('convertToInteractive',\n",
              "                                                    [key], {});\n",
              "        if (!dataTable) return;\n",
              "\n",
              "        const docLinkHtml = 'Like what you see? Visit the ' +\n",
              "          '<a target=\"_blank\" href=https://colab.research.google.com/notebooks/data_table.ipynb>data table notebook</a>'\n",
              "          + ' to learn more about interactive tables.';\n",
              "        element.innerHTML = '';\n",
              "        dataTable['output_type'] = 'display_data';\n",
              "        await google.colab.output.renderOutput(dataTable, element);\n",
              "        const docLink = document.createElement('div');\n",
              "        docLink.innerHTML = docLinkHtml;\n",
              "        element.appendChild(docLink);\n",
              "      }\n",
              "    </script>\n",
              "  </div>\n",
              "\n",
              "\n",
              "<div id=\"df-d3eebcaa-9e8e-40ef-9334-edebc55e4306\">\n",
              "  <button class=\"colab-df-quickchart\" onclick=\"quickchart('df-d3eebcaa-9e8e-40ef-9334-edebc55e4306')\"\n",
              "            title=\"Suggest charts\"\n",
              "            style=\"display:none;\">\n",
              "\n",
              "<svg xmlns=\"http://www.w3.org/2000/svg\" height=\"24px\"viewBox=\"0 0 24 24\"\n",
              "     width=\"24px\">\n",
              "    <g>\n",
              "        <path d=\"M19 3H5c-1.1 0-2 .9-2 2v14c0 1.1.9 2 2 2h14c1.1 0 2-.9 2-2V5c0-1.1-.9-2-2-2zM9 17H7v-7h2v7zm4 0h-2V7h2v10zm4 0h-2v-4h2v4z\"/>\n",
              "    </g>\n",
              "</svg>\n",
              "  </button>\n",
              "\n",
              "<style>\n",
              "  .colab-df-quickchart {\n",
              "      --bg-color: #E8F0FE;\n",
              "      --fill-color: #1967D2;\n",
              "      --hover-bg-color: #E2EBFA;\n",
              "      --hover-fill-color: #174EA6;\n",
              "      --disabled-fill-color: #AAA;\n",
              "      --disabled-bg-color: #DDD;\n",
              "  }\n",
              "\n",
              "  [theme=dark] .colab-df-quickchart {\n",
              "      --bg-color: #3B4455;\n",
              "      --fill-color: #D2E3FC;\n",
              "      --hover-bg-color: #434B5C;\n",
              "      --hover-fill-color: #FFFFFF;\n",
              "      --disabled-bg-color: #3B4455;\n",
              "      --disabled-fill-color: #666;\n",
              "  }\n",
              "\n",
              "  .colab-df-quickchart {\n",
              "    background-color: var(--bg-color);\n",
              "    border: none;\n",
              "    border-radius: 50%;\n",
              "    cursor: pointer;\n",
              "    display: none;\n",
              "    fill: var(--fill-color);\n",
              "    height: 32px;\n",
              "    padding: 0;\n",
              "    width: 32px;\n",
              "  }\n",
              "\n",
              "  .colab-df-quickchart:hover {\n",
              "    background-color: var(--hover-bg-color);\n",
              "    box-shadow: 0 1px 2px rgba(60, 64, 67, 0.3), 0 1px 3px 1px rgba(60, 64, 67, 0.15);\n",
              "    fill: var(--button-hover-fill-color);\n",
              "  }\n",
              "\n",
              "  .colab-df-quickchart-complete:disabled,\n",
              "  .colab-df-quickchart-complete:disabled:hover {\n",
              "    background-color: var(--disabled-bg-color);\n",
              "    fill: var(--disabled-fill-color);\n",
              "    box-shadow: none;\n",
              "  }\n",
              "\n",
              "  .colab-df-spinner {\n",
              "    border: 2px solid var(--fill-color);\n",
              "    border-color: transparent;\n",
              "    border-bottom-color: var(--fill-color);\n",
              "    animation:\n",
              "      spin 1s steps(1) infinite;\n",
              "  }\n",
              "\n",
              "  @keyframes spin {\n",
              "    0% {\n",
              "      border-color: transparent;\n",
              "      border-bottom-color: var(--fill-color);\n",
              "      border-left-color: var(--fill-color);\n",
              "    }\n",
              "    20% {\n",
              "      border-color: transparent;\n",
              "      border-left-color: var(--fill-color);\n",
              "      border-top-color: var(--fill-color);\n",
              "    }\n",
              "    30% {\n",
              "      border-color: transparent;\n",
              "      border-left-color: var(--fill-color);\n",
              "      border-top-color: var(--fill-color);\n",
              "      border-right-color: var(--fill-color);\n",
              "    }\n",
              "    40% {\n",
              "      border-color: transparent;\n",
              "      border-right-color: var(--fill-color);\n",
              "      border-top-color: var(--fill-color);\n",
              "    }\n",
              "    60% {\n",
              "      border-color: transparent;\n",
              "      border-right-color: var(--fill-color);\n",
              "    }\n",
              "    80% {\n",
              "      border-color: transparent;\n",
              "      border-right-color: var(--fill-color);\n",
              "      border-bottom-color: var(--fill-color);\n",
              "    }\n",
              "    90% {\n",
              "      border-color: transparent;\n",
              "      border-bottom-color: var(--fill-color);\n",
              "    }\n",
              "  }\n",
              "</style>\n",
              "\n",
              "  <script>\n",
              "    async function quickchart(key) {\n",
              "      const quickchartButtonEl =\n",
              "        document.querySelector('#' + key + ' button');\n",
              "      quickchartButtonEl.disabled = true;  // To prevent multiple clicks.\n",
              "      quickchartButtonEl.classList.add('colab-df-spinner');\n",
              "      try {\n",
              "        const charts = await google.colab.kernel.invokeFunction(\n",
              "            'suggestCharts', [key], {});\n",
              "      } catch (error) {\n",
              "        console.error('Error during call to suggestCharts:', error);\n",
              "      }\n",
              "      quickchartButtonEl.classList.remove('colab-df-spinner');\n",
              "      quickchartButtonEl.classList.add('colab-df-quickchart-complete');\n",
              "    }\n",
              "    (() => {\n",
              "      let quickchartButtonEl =\n",
              "        document.querySelector('#df-d3eebcaa-9e8e-40ef-9334-edebc55e4306 button');\n",
              "      quickchartButtonEl.style.display =\n",
              "        google.colab.kernel.accessAllowed ? 'block' : 'none';\n",
              "    })();\n",
              "  </script>\n",
              "</div>\n",
              "\n",
              "  <div id=\"id_85e9c5c3-5efd-49b5-9f6e-08daa886c2ec\">\n",
              "    <style>\n",
              "      .colab-df-generate {\n",
              "        background-color: #E8F0FE;\n",
              "        border: none;\n",
              "        border-radius: 50%;\n",
              "        cursor: pointer;\n",
              "        display: none;\n",
              "        fill: #1967D2;\n",
              "        height: 32px;\n",
              "        padding: 0 0 0 0;\n",
              "        width: 32px;\n",
              "      }\n",
              "\n",
              "      .colab-df-generate:hover {\n",
              "        background-color: #E2EBFA;\n",
              "        box-shadow: 0px 1px 2px rgba(60, 64, 67, 0.3), 0px 1px 3px 1px rgba(60, 64, 67, 0.15);\n",
              "        fill: #174EA6;\n",
              "      }\n",
              "\n",
              "      [theme=dark] .colab-df-generate {\n",
              "        background-color: #3B4455;\n",
              "        fill: #D2E3FC;\n",
              "      }\n",
              "\n",
              "      [theme=dark] .colab-df-generate:hover {\n",
              "        background-color: #434B5C;\n",
              "        box-shadow: 0px 1px 3px 1px rgba(0, 0, 0, 0.15);\n",
              "        filter: drop-shadow(0px 1px 2px rgba(0, 0, 0, 0.3));\n",
              "        fill: #FFFFFF;\n",
              "      }\n",
              "    </style>\n",
              "    <button class=\"colab-df-generate\" onclick=\"generateWithVariable('vif_data')\"\n",
              "            title=\"Generate code using this dataframe.\"\n",
              "            style=\"display:none;\">\n",
              "\n",
              "  <svg xmlns=\"http://www.w3.org/2000/svg\" height=\"24px\"viewBox=\"0 0 24 24\"\n",
              "       width=\"24px\">\n",
              "    <path d=\"M7,19H8.4L18.45,9,17,7.55,7,17.6ZM5,21V16.75L18.45,3.32a2,2,0,0,1,2.83,0l1.4,1.43a1.91,1.91,0,0,1,.58,1.4,1.91,1.91,0,0,1-.58,1.4L9.25,21ZM18.45,9,17,7.55Zm-12,3A5.31,5.31,0,0,0,4.9,8.1,5.31,5.31,0,0,0,1,6.5,5.31,5.31,0,0,0,4.9,4.9,5.31,5.31,0,0,0,6.5,1,5.31,5.31,0,0,0,8.1,4.9,5.31,5.31,0,0,0,12,6.5,5.46,5.46,0,0,0,6.5,12Z\"/>\n",
              "  </svg>\n",
              "    </button>\n",
              "    <script>\n",
              "      (() => {\n",
              "      const buttonEl =\n",
              "        document.querySelector('#id_85e9c5c3-5efd-49b5-9f6e-08daa886c2ec button.colab-df-generate');\n",
              "      buttonEl.style.display =\n",
              "        google.colab.kernel.accessAllowed ? 'block' : 'none';\n",
              "\n",
              "      buttonEl.onclick = () => {\n",
              "        google.colab.notebook.generateWithVariable('vif_data');\n",
              "      }\n",
              "      })();\n",
              "    </script>\n",
              "  </div>\n",
              "\n",
              "    </div>\n",
              "  </div>\n"
            ],
            "application/vnd.google.colaboratory.intrinsic+json": {
              "type": "dataframe",
              "variable_name": "vif_data",
              "summary": "{\n  \"name\": \"vif_data\",\n  \"rows\": 55,\n  \"fields\": [\n    {\n      \"column\": \"feature\",\n      \"properties\": {\n        \"dtype\": \"string\",\n        \"num_unique_values\": 55,\n        \"samples\": [\n          \"occupation_Arts Design Entertainment Sports & Media\",\n          \"Bar\",\n          \"occupation_Building & Grounds Cleaning & Maintenance\"\n        ],\n        \"semantic_type\": \"\",\n        \"description\": \"\"\n      }\n    },\n    {\n      \"column\": \"VIF\",\n      \"properties\": {\n        \"dtype\": \"number\",\n        \"std\": 2.742612386323771,\n        \"min\": 1.1454275279096022,\n        \"max\": 10.912986449038929,\n        \"num_unique_values\": 55,\n        \"samples\": [\n          2.933430089426336,\n          2.5232859601002917,\n          1.1454275279096022\n        ],\n        \"semantic_type\": \"\",\n        \"description\": \"\"\n      }\n    },\n    {\n      \"column\": \"Multicolinear\",\n      \"properties\": {\n        \"dtype\": \"category\",\n        \"num_unique_values\": 2,\n        \"samples\": [\n          \"no\",\n          \"yes\"\n        ],\n        \"semantic_type\": \"\",\n        \"description\": \"\"\n      }\n    }\n  ]\n}"
            }
          },
          "metadata": {},
          "execution_count": 44
        }
      ]
    },
    {
      "cell_type": "code",
      "source": [
        "\n",
        "columns_to_drop = vif_data[vif_data['Multicolinear'] == 'yes']['feature']\n",
        "\n",
        "\n",
        "df = df.drop(columns=columns_to_drop)\n",
        "\n",
        "\n",
        "print(df.shape)"
      ],
      "metadata": {
        "colab": {
          "base_uri": "https://localhost:8080/"
        },
        "id": "HOnDS6VyZFVC",
        "outputId": "763e0029-ec92-4c68-b025-ae781dcabcf9"
      },
      "execution_count": null,
      "outputs": [
        {
          "output_type": "stream",
          "name": "stdout",
          "text": [
            "(12393, 43)\n"
          ]
        }
      ]
    },
    {
      "cell_type": "markdown",
      "source": [
        "### Model building\n",
        "\n",
        "Dimensionality reduction is needed since there are 43 feature columns. There are various methods. We will try step wise regression. PCA creates new features, so the features contributing mostly to prediction are not deciphered. LDA is mostly helpful for multi- class classification. t-SNE is to be mostly used for image processing and NLP. There are other methods like Forward selection, backward elimination,  which select the best features possible instead of making combination of new features."
      ],
      "metadata": {
        "id": "vv5ksJjvmiWp"
      }
    },
    {
      "cell_type": "code",
      "source": [
        "# Prepare X and Y\n",
        "y = df.loc[:, 'Accept']\n",
        "X = df.drop(['Accept'], axis=1)   #PCA works only on predictor variables\n",
        "\n",
        "print(df.shape)\n",
        "df.head()\n"
      ],
      "metadata": {
        "colab": {
          "base_uri": "https://localhost:8080/",
          "height": 309
        },
        "id": "ZeUi3bM0mn8v",
        "outputId": "4df51e0a-96fb-49b4-8649-5a95198e6032"
      },
      "execution_count": null,
      "outputs": [
        {
          "output_type": "stream",
          "name": "stdout",
          "text": [
            "(12393, 43)\n"
          ]
        },
        {
          "output_type": "execute_result",
          "data": {
            "text/plain": [
              "   age  has_children  income  Bar  CoffeeHouse  Restaurant20To50  \\\n",
              "0    0             1       3    0            0                 2   \n",
              "1    0             1       3    0            0                 2   \n",
              "2    0             1       3    0            0                 2   \n",
              "3    0             1       3    0            0                 2   \n",
              "4    0             1       3    0            0                 2   \n",
              "\n",
              "   toCoupon_GEQ15min  toCoupon_GEQ25min  direction_same  Accept  ...  \\\n",
              "0                  0                  0               0       1  ...   \n",
              "1                  0                  0               0       0  ...   \n",
              "2                  1                  0               0       1  ...   \n",
              "3                  1                  0               0       0  ...   \n",
              "4                  1                  0               0       0  ...   \n",
              "\n",
              "   occupation_Legal  occupation_Life Physical Social Science  \\\n",
              "0                 0                                        0   \n",
              "1                 0                                        0   \n",
              "2                 0                                        0   \n",
              "3                 0                                        0   \n",
              "4                 0                                        0   \n",
              "\n",
              "   occupation_Management  occupation_Office & Administrative Support  \\\n",
              "0                      0                                           0   \n",
              "1                      0                                           0   \n",
              "2                      0                                           0   \n",
              "3                      0                                           0   \n",
              "4                      0                                           0   \n",
              "\n",
              "   occupation_Personal Care & Service  occupation_Production Occupations  \\\n",
              "0                                   0                                  0   \n",
              "1                                   0                                  0   \n",
              "2                                   0                                  0   \n",
              "3                                   0                                  0   \n",
              "4                                   0                                  0   \n",
              "\n",
              "   occupation_Protective Service  occupation_Retired  \\\n",
              "0                              0                   0   \n",
              "1                              0                   0   \n",
              "2                              0                   0   \n",
              "3                              0                   0   \n",
              "4                              0                   0   \n",
              "\n",
              "   occupation_Sales & Related  occupation_Transportation & Material Moving  \n",
              "0                           0                                            0  \n",
              "1                           0                                            0  \n",
              "2                           0                                            0  \n",
              "3                           0                                            0  \n",
              "4                           0                                            0  \n",
              "\n",
              "[5 rows x 43 columns]"
            ],
            "text/html": [
              "\n",
              "  <div id=\"df-5d2b57fe-bf64-4279-b45a-29a6a9609bc2\" class=\"colab-df-container\">\n",
              "    <div>\n",
              "<style scoped>\n",
              "    .dataframe tbody tr th:only-of-type {\n",
              "        vertical-align: middle;\n",
              "    }\n",
              "\n",
              "    .dataframe tbody tr th {\n",
              "        vertical-align: top;\n",
              "    }\n",
              "\n",
              "    .dataframe thead th {\n",
              "        text-align: right;\n",
              "    }\n",
              "</style>\n",
              "<table border=\"1\" class=\"dataframe\">\n",
              "  <thead>\n",
              "    <tr style=\"text-align: right;\">\n",
              "      <th></th>\n",
              "      <th>age</th>\n",
              "      <th>has_children</th>\n",
              "      <th>income</th>\n",
              "      <th>Bar</th>\n",
              "      <th>CoffeeHouse</th>\n",
              "      <th>Restaurant20To50</th>\n",
              "      <th>toCoupon_GEQ15min</th>\n",
              "      <th>toCoupon_GEQ25min</th>\n",
              "      <th>direction_same</th>\n",
              "      <th>Accept</th>\n",
              "      <th>...</th>\n",
              "      <th>occupation_Legal</th>\n",
              "      <th>occupation_Life Physical Social Science</th>\n",
              "      <th>occupation_Management</th>\n",
              "      <th>occupation_Office &amp; Administrative Support</th>\n",
              "      <th>occupation_Personal Care &amp; Service</th>\n",
              "      <th>occupation_Production Occupations</th>\n",
              "      <th>occupation_Protective Service</th>\n",
              "      <th>occupation_Retired</th>\n",
              "      <th>occupation_Sales &amp; Related</th>\n",
              "      <th>occupation_Transportation &amp; Material Moving</th>\n",
              "    </tr>\n",
              "  </thead>\n",
              "  <tbody>\n",
              "    <tr>\n",
              "      <th>0</th>\n",
              "      <td>0</td>\n",
              "      <td>1</td>\n",
              "      <td>3</td>\n",
              "      <td>0</td>\n",
              "      <td>0</td>\n",
              "      <td>2</td>\n",
              "      <td>0</td>\n",
              "      <td>0</td>\n",
              "      <td>0</td>\n",
              "      <td>1</td>\n",
              "      <td>...</td>\n",
              "      <td>0</td>\n",
              "      <td>0</td>\n",
              "      <td>0</td>\n",
              "      <td>0</td>\n",
              "      <td>0</td>\n",
              "      <td>0</td>\n",
              "      <td>0</td>\n",
              "      <td>0</td>\n",
              "      <td>0</td>\n",
              "      <td>0</td>\n",
              "    </tr>\n",
              "    <tr>\n",
              "      <th>1</th>\n",
              "      <td>0</td>\n",
              "      <td>1</td>\n",
              "      <td>3</td>\n",
              "      <td>0</td>\n",
              "      <td>0</td>\n",
              "      <td>2</td>\n",
              "      <td>0</td>\n",
              "      <td>0</td>\n",
              "      <td>0</td>\n",
              "      <td>0</td>\n",
              "      <td>...</td>\n",
              "      <td>0</td>\n",
              "      <td>0</td>\n",
              "      <td>0</td>\n",
              "      <td>0</td>\n",
              "      <td>0</td>\n",
              "      <td>0</td>\n",
              "      <td>0</td>\n",
              "      <td>0</td>\n",
              "      <td>0</td>\n",
              "      <td>0</td>\n",
              "    </tr>\n",
              "    <tr>\n",
              "      <th>2</th>\n",
              "      <td>0</td>\n",
              "      <td>1</td>\n",
              "      <td>3</td>\n",
              "      <td>0</td>\n",
              "      <td>0</td>\n",
              "      <td>2</td>\n",
              "      <td>1</td>\n",
              "      <td>0</td>\n",
              "      <td>0</td>\n",
              "      <td>1</td>\n",
              "      <td>...</td>\n",
              "      <td>0</td>\n",
              "      <td>0</td>\n",
              "      <td>0</td>\n",
              "      <td>0</td>\n",
              "      <td>0</td>\n",
              "      <td>0</td>\n",
              "      <td>0</td>\n",
              "      <td>0</td>\n",
              "      <td>0</td>\n",
              "      <td>0</td>\n",
              "    </tr>\n",
              "    <tr>\n",
              "      <th>3</th>\n",
              "      <td>0</td>\n",
              "      <td>1</td>\n",
              "      <td>3</td>\n",
              "      <td>0</td>\n",
              "      <td>0</td>\n",
              "      <td>2</td>\n",
              "      <td>1</td>\n",
              "      <td>0</td>\n",
              "      <td>0</td>\n",
              "      <td>0</td>\n",
              "      <td>...</td>\n",
              "      <td>0</td>\n",
              "      <td>0</td>\n",
              "      <td>0</td>\n",
              "      <td>0</td>\n",
              "      <td>0</td>\n",
              "      <td>0</td>\n",
              "      <td>0</td>\n",
              "      <td>0</td>\n",
              "      <td>0</td>\n",
              "      <td>0</td>\n",
              "    </tr>\n",
              "    <tr>\n",
              "      <th>4</th>\n",
              "      <td>0</td>\n",
              "      <td>1</td>\n",
              "      <td>3</td>\n",
              "      <td>0</td>\n",
              "      <td>0</td>\n",
              "      <td>2</td>\n",
              "      <td>1</td>\n",
              "      <td>0</td>\n",
              "      <td>0</td>\n",
              "      <td>0</td>\n",
              "      <td>...</td>\n",
              "      <td>0</td>\n",
              "      <td>0</td>\n",
              "      <td>0</td>\n",
              "      <td>0</td>\n",
              "      <td>0</td>\n",
              "      <td>0</td>\n",
              "      <td>0</td>\n",
              "      <td>0</td>\n",
              "      <td>0</td>\n",
              "      <td>0</td>\n",
              "    </tr>\n",
              "  </tbody>\n",
              "</table>\n",
              "<p>5 rows × 43 columns</p>\n",
              "</div>\n",
              "    <div class=\"colab-df-buttons\">\n",
              "\n",
              "  <div class=\"colab-df-container\">\n",
              "    <button class=\"colab-df-convert\" onclick=\"convertToInteractive('df-5d2b57fe-bf64-4279-b45a-29a6a9609bc2')\"\n",
              "            title=\"Convert this dataframe to an interactive table.\"\n",
              "            style=\"display:none;\">\n",
              "\n",
              "  <svg xmlns=\"http://www.w3.org/2000/svg\" height=\"24px\" viewBox=\"0 -960 960 960\">\n",
              "    <path d=\"M120-120v-720h720v720H120Zm60-500h600v-160H180v160Zm220 220h160v-160H400v160Zm0 220h160v-160H400v160ZM180-400h160v-160H180v160Zm440 0h160v-160H620v160ZM180-180h160v-160H180v160Zm440 0h160v-160H620v160Z\"/>\n",
              "  </svg>\n",
              "    </button>\n",
              "\n",
              "  <style>\n",
              "    .colab-df-container {\n",
              "      display:flex;\n",
              "      gap: 12px;\n",
              "    }\n",
              "\n",
              "    .colab-df-convert {\n",
              "      background-color: #E8F0FE;\n",
              "      border: none;\n",
              "      border-radius: 50%;\n",
              "      cursor: pointer;\n",
              "      display: none;\n",
              "      fill: #1967D2;\n",
              "      height: 32px;\n",
              "      padding: 0 0 0 0;\n",
              "      width: 32px;\n",
              "    }\n",
              "\n",
              "    .colab-df-convert:hover {\n",
              "      background-color: #E2EBFA;\n",
              "      box-shadow: 0px 1px 2px rgba(60, 64, 67, 0.3), 0px 1px 3px 1px rgba(60, 64, 67, 0.15);\n",
              "      fill: #174EA6;\n",
              "    }\n",
              "\n",
              "    .colab-df-buttons div {\n",
              "      margin-bottom: 4px;\n",
              "    }\n",
              "\n",
              "    [theme=dark] .colab-df-convert {\n",
              "      background-color: #3B4455;\n",
              "      fill: #D2E3FC;\n",
              "    }\n",
              "\n",
              "    [theme=dark] .colab-df-convert:hover {\n",
              "      background-color: #434B5C;\n",
              "      box-shadow: 0px 1px 3px 1px rgba(0, 0, 0, 0.15);\n",
              "      filter: drop-shadow(0px 1px 2px rgba(0, 0, 0, 0.3));\n",
              "      fill: #FFFFFF;\n",
              "    }\n",
              "  </style>\n",
              "\n",
              "    <script>\n",
              "      const buttonEl =\n",
              "        document.querySelector('#df-5d2b57fe-bf64-4279-b45a-29a6a9609bc2 button.colab-df-convert');\n",
              "      buttonEl.style.display =\n",
              "        google.colab.kernel.accessAllowed ? 'block' : 'none';\n",
              "\n",
              "      async function convertToInteractive(key) {\n",
              "        const element = document.querySelector('#df-5d2b57fe-bf64-4279-b45a-29a6a9609bc2');\n",
              "        const dataTable =\n",
              "          await google.colab.kernel.invokeFunction('convertToInteractive',\n",
              "                                                    [key], {});\n",
              "        if (!dataTable) return;\n",
              "\n",
              "        const docLinkHtml = 'Like what you see? Visit the ' +\n",
              "          '<a target=\"_blank\" href=https://colab.research.google.com/notebooks/data_table.ipynb>data table notebook</a>'\n",
              "          + ' to learn more about interactive tables.';\n",
              "        element.innerHTML = '';\n",
              "        dataTable['output_type'] = 'display_data';\n",
              "        await google.colab.output.renderOutput(dataTable, element);\n",
              "        const docLink = document.createElement('div');\n",
              "        docLink.innerHTML = docLinkHtml;\n",
              "        element.appendChild(docLink);\n",
              "      }\n",
              "    </script>\n",
              "  </div>\n",
              "\n",
              "\n",
              "<div id=\"df-40094b46-c15d-4185-a5b8-b487eb2d4c32\">\n",
              "  <button class=\"colab-df-quickchart\" onclick=\"quickchart('df-40094b46-c15d-4185-a5b8-b487eb2d4c32')\"\n",
              "            title=\"Suggest charts\"\n",
              "            style=\"display:none;\">\n",
              "\n",
              "<svg xmlns=\"http://www.w3.org/2000/svg\" height=\"24px\"viewBox=\"0 0 24 24\"\n",
              "     width=\"24px\">\n",
              "    <g>\n",
              "        <path d=\"M19 3H5c-1.1 0-2 .9-2 2v14c0 1.1.9 2 2 2h14c1.1 0 2-.9 2-2V5c0-1.1-.9-2-2-2zM9 17H7v-7h2v7zm4 0h-2V7h2v10zm4 0h-2v-4h2v4z\"/>\n",
              "    </g>\n",
              "</svg>\n",
              "  </button>\n",
              "\n",
              "<style>\n",
              "  .colab-df-quickchart {\n",
              "      --bg-color: #E8F0FE;\n",
              "      --fill-color: #1967D2;\n",
              "      --hover-bg-color: #E2EBFA;\n",
              "      --hover-fill-color: #174EA6;\n",
              "      --disabled-fill-color: #AAA;\n",
              "      --disabled-bg-color: #DDD;\n",
              "  }\n",
              "\n",
              "  [theme=dark] .colab-df-quickchart {\n",
              "      --bg-color: #3B4455;\n",
              "      --fill-color: #D2E3FC;\n",
              "      --hover-bg-color: #434B5C;\n",
              "      --hover-fill-color: #FFFFFF;\n",
              "      --disabled-bg-color: #3B4455;\n",
              "      --disabled-fill-color: #666;\n",
              "  }\n",
              "\n",
              "  .colab-df-quickchart {\n",
              "    background-color: var(--bg-color);\n",
              "    border: none;\n",
              "    border-radius: 50%;\n",
              "    cursor: pointer;\n",
              "    display: none;\n",
              "    fill: var(--fill-color);\n",
              "    height: 32px;\n",
              "    padding: 0;\n",
              "    width: 32px;\n",
              "  }\n",
              "\n",
              "  .colab-df-quickchart:hover {\n",
              "    background-color: var(--hover-bg-color);\n",
              "    box-shadow: 0 1px 2px rgba(60, 64, 67, 0.3), 0 1px 3px 1px rgba(60, 64, 67, 0.15);\n",
              "    fill: var(--button-hover-fill-color);\n",
              "  }\n",
              "\n",
              "  .colab-df-quickchart-complete:disabled,\n",
              "  .colab-df-quickchart-complete:disabled:hover {\n",
              "    background-color: var(--disabled-bg-color);\n",
              "    fill: var(--disabled-fill-color);\n",
              "    box-shadow: none;\n",
              "  }\n",
              "\n",
              "  .colab-df-spinner {\n",
              "    border: 2px solid var(--fill-color);\n",
              "    border-color: transparent;\n",
              "    border-bottom-color: var(--fill-color);\n",
              "    animation:\n",
              "      spin 1s steps(1) infinite;\n",
              "  }\n",
              "\n",
              "  @keyframes spin {\n",
              "    0% {\n",
              "      border-color: transparent;\n",
              "      border-bottom-color: var(--fill-color);\n",
              "      border-left-color: var(--fill-color);\n",
              "    }\n",
              "    20% {\n",
              "      border-color: transparent;\n",
              "      border-left-color: var(--fill-color);\n",
              "      border-top-color: var(--fill-color);\n",
              "    }\n",
              "    30% {\n",
              "      border-color: transparent;\n",
              "      border-left-color: var(--fill-color);\n",
              "      border-top-color: var(--fill-color);\n",
              "      border-right-color: var(--fill-color);\n",
              "    }\n",
              "    40% {\n",
              "      border-color: transparent;\n",
              "      border-right-color: var(--fill-color);\n",
              "      border-top-color: var(--fill-color);\n",
              "    }\n",
              "    60% {\n",
              "      border-color: transparent;\n",
              "      border-right-color: var(--fill-color);\n",
              "    }\n",
              "    80% {\n",
              "      border-color: transparent;\n",
              "      border-right-color: var(--fill-color);\n",
              "      border-bottom-color: var(--fill-color);\n",
              "    }\n",
              "    90% {\n",
              "      border-color: transparent;\n",
              "      border-bottom-color: var(--fill-color);\n",
              "    }\n",
              "  }\n",
              "</style>\n",
              "\n",
              "  <script>\n",
              "    async function quickchart(key) {\n",
              "      const quickchartButtonEl =\n",
              "        document.querySelector('#' + key + ' button');\n",
              "      quickchartButtonEl.disabled = true;  // To prevent multiple clicks.\n",
              "      quickchartButtonEl.classList.add('colab-df-spinner');\n",
              "      try {\n",
              "        const charts = await google.colab.kernel.invokeFunction(\n",
              "            'suggestCharts', [key], {});\n",
              "      } catch (error) {\n",
              "        console.error('Error during call to suggestCharts:', error);\n",
              "      }\n",
              "      quickchartButtonEl.classList.remove('colab-df-spinner');\n",
              "      quickchartButtonEl.classList.add('colab-df-quickchart-complete');\n",
              "    }\n",
              "    (() => {\n",
              "      let quickchartButtonEl =\n",
              "        document.querySelector('#df-40094b46-c15d-4185-a5b8-b487eb2d4c32 button');\n",
              "      quickchartButtonEl.style.display =\n",
              "        google.colab.kernel.accessAllowed ? 'block' : 'none';\n",
              "    })();\n",
              "  </script>\n",
              "</div>\n",
              "\n",
              "    </div>\n",
              "  </div>\n"
            ],
            "application/vnd.google.colaboratory.intrinsic+json": {
              "type": "dataframe",
              "variable_name": "df"
            }
          },
          "metadata": {},
          "execution_count": 46
        }
      ]
    },
    {
      "cell_type": "code",
      "source": [
        "# PCA\n",
        "\"\"\"n_comp=20\n",
        "pca = PCA(n_components = n_comp)\n",
        "df_pca = pca.fit_transform(X=X)\n",
        "type(df_pca)\"\"\"\n",
        "\"\"\"df_pca = pd.DataFrame(df_pca)\n",
        "print(df_pca.shape)  #Less than (3147, 784)\n",
        "df_pca.round(2).head()\"\"\"\n",
        "\"\"\"v= pca.explained_variance_\n",
        "v\"\"\"\n",
        "\"\"\"variances = pca.explained_variance_ratio_.round(4).reshape(1,-1)\n",
        "percentage = (variances*100).reshape(1,-1)\n",
        "var=np.cumsum(np.round(variances, decimals=4)*100).reshape(1,-1)\n",
        "r=np.arange(1,n_comp+1)\n",
        "final= [r , variances[0], percentage[0], var[0] ]\n",
        "final\n",
        "df = pd.DataFrame(data = final)\n",
        "df1=df.T\n",
        "columns = ['PC#' , 'Variance', 'Percentage', 'Cumulative var']\n",
        "df1.columns = columns\n",
        "df1\"\"\""
      ],
      "metadata": {
        "colab": {
          "base_uri": "https://localhost:8080/",
          "height": 73
        },
        "id": "2X_gfuRLxG1l",
        "outputId": "459eb8b7-5246-4158-c97f-3595a0ace1dd"
      },
      "execution_count": null,
      "outputs": [
        {
          "output_type": "execute_result",
          "data": {
            "text/plain": [
              "\"variances = pca.explained_variance_ratio_.round(4).reshape(1,-1)\\npercentage = (variances*100).reshape(1,-1)\\nvar=np.cumsum(np.round(variances, decimals=4)*100).reshape(1,-1)\\nr=np.arange(1,n_comp+1)\\nfinal= [r , variances[0], percentage[0], var[0] ]\\nfinal\\ndf = pd.DataFrame(data = final)\\ndf1=df.T\\ncolumns = ['PC#' , 'Variance', 'Percentage', 'Cumulative var']\\ndf1.columns = columns\\ndf1\""
            ],
            "application/vnd.google.colaboratory.intrinsic+json": {
              "type": "string"
            }
          },
          "metadata": {},
          "execution_count": 47
        }
      ]
    },
    {
      "cell_type": "markdown",
      "source": [
        "#### Train Test Split"
      ],
      "metadata": {
        "id": "fkTBdJeGtQhX"
      }
    },
    {
      "cell_type": "code",
      "source": [
        "from sklearn.model_selection import train_test_split\n",
        "from sklearn.linear_model import LogisticRegression\n",
        "from sklearn.feature_selection import RFE\n",
        "from sklearn.metrics import classification_report, confusion_matrix, accuracy_score,roc_auc_score\n",
        "# Split the data into training and testing sets\n",
        "X_train, X_test, y_train, y_test = train_test_split(X, y, test_size=0.2, random_state=42)"
      ],
      "metadata": {
        "id": "eXFkzlSiSdTo"
      },
      "execution_count": null,
      "outputs": []
    },
    {
      "cell_type": "markdown",
      "source": [
        "#### Logistic Regression"
      ],
      "metadata": {
        "id": "ca7Gce7jtP9c"
      }
    },
    {
      "cell_type": "code",
      "source": [
        "\n",
        "\n",
        "# Initialize the Logistic Regression model\n",
        "model = LogisticRegression()\n",
        "\n",
        "\n",
        "\n",
        "\n",
        "# Fit the model on the training data\n",
        "model.fit(X_train, y_train)\n",
        "\n",
        "# Use the model trained with selected features to make predictions\n",
        "y_pred = model.predict(X_test)\n",
        "y_pred_proba = model.predict_proba(X_test)[:, 1]\n",
        "\n",
        "# Calculate ROC AUC score\n",
        "roc_auc = roc_auc_score(y_test, y_pred_proba)\n",
        "\n",
        "# Print the results\n",
        "print(\"Confusion Matrix:\")\n",
        "print(confusion_matrix(y_test, y_pred))\n",
        "\n",
        "print(\"\\nClassification Report:\")\n",
        "print(classification_report(y_test, y_pred))\n",
        "\n",
        "print(\"\\nAccuracy Score:\")\n",
        "print(accuracy_score(y_test, y_pred))\n",
        "print(\"\\nROC AUC Score:\")\n",
        "print(roc_auc)"
      ],
      "metadata": {
        "colab": {
          "base_uri": "https://localhost:8080/"
        },
        "id": "4QK9q15-3qvV",
        "outputId": "b87be83c-7880-49bc-d89f-6896285462d1"
      },
      "execution_count": null,
      "outputs": [
        {
          "output_type": "stream",
          "name": "stdout",
          "text": [
            "Confusion Matrix:\n",
            "[[ 637  473]\n",
            " [ 330 1039]]\n",
            "\n",
            "Classification Report:\n",
            "              precision    recall  f1-score   support\n",
            "\n",
            "           0       0.66      0.57      0.61      1110\n",
            "           1       0.69      0.76      0.72      1369\n",
            "\n",
            "    accuracy                           0.68      2479\n",
            "   macro avg       0.67      0.67      0.67      2479\n",
            "weighted avg       0.67      0.68      0.67      2479\n",
            "\n",
            "\n",
            "Accuracy Score:\n",
            "0.6760790641387656\n",
            "\n",
            "ROC AUC Score:\n",
            "0.7229051915319263\n"
          ]
        }
      ]
    },
    {
      "cell_type": "markdown",
      "source": [
        "#### Logistic Regression with RFE"
      ],
      "metadata": {
        "id": "4Yp9lHRztbaB"
      }
    },
    {
      "cell_type": "code",
      "source": [
        "\n",
        "\n",
        "\n",
        "# Initialize the Logistic Regression model\n",
        "model = LogisticRegression()\n",
        "\n",
        "\n",
        "\n",
        "# Initialize RFE with the model and specify the number of features to select\n",
        "# For example, if you want to select 2 features, set n_features_to_select=2\n",
        "rfe = RFE(model, n_features_to_select=30)\n",
        "\n",
        "# Fit the RFE model on the training data\n",
        "rfe.fit(X_train, y_train)\n",
        "\n",
        "# Print the rankings of the features and the selected features\n",
        "print(\"Feature Ranking: \", rfe.ranking_)\n",
        "print(\"Selected Features: \", X.columns[rfe.support_])\n",
        "\n",
        "\n",
        "# Use the model trained with selected features to make predictions\n",
        "y_pred = rfe.predict(X_test)\n",
        "y_pred_proba = rfe.predict_proba(X_test)[:, 1]\n",
        "\n",
        "# Calculate ROC AUC score\n",
        "roc_auc = roc_auc_score(y_test, y_pred_proba)\n",
        "\n",
        "# Print the results\n",
        "print(\"Confusion Matrix:\")\n",
        "print(confusion_matrix(y_test, y_pred))\n",
        "\n",
        "print(\"\\nClassification Report:\")\n",
        "print(classification_report(y_test, y_pred))\n",
        "\n",
        "print(\"\\nAccuracy Score:\")\n",
        "print(accuracy_score(y_test, y_pred))\n",
        "print(\"\\nROC AUC Score:\")\n",
        "print(roc_auc)"
      ],
      "metadata": {
        "colab": {
          "base_uri": "https://localhost:8080/"
        },
        "id": "5-7UNdtig85g",
        "outputId": "69f3c786-da79-4eba-9de8-b0fe22489ad8"
      },
      "execution_count": null,
      "outputs": [
        {
          "output_type": "stream",
          "name": "stdout",
          "text": [
            "Feature Ranking:  [ 7 13 11  9  1  1  1  1  1  1  1 10  1  1  1  1  1  1  1  1  1  1  1  1\n",
            "  1  1  1  1  2  1  1  8  1  1 12  1  4  5  1  1  6  3]\n",
            "Selected Features:  Index(['CoffeeHouse', 'Restaurant20To50', 'toCoupon_GEQ15min',\n",
            "       'toCoupon_GEQ25min', 'direction_same', 'destination_Work',\n",
            "       'passanger_Friend(s)', 'passanger_Partner', 'weather_Snowy',\n",
            "       'coupon_Carry out & Take away', 'coupon_Coffee House',\n",
            "       'coupon_Restaurant(20-50)', 'coupon_Restaurant(<20)', 'expiration_2h',\n",
            "       'gender_Male', 'maritalStatus_Widowed',\n",
            "       'occupation_Arts Design Entertainment Sports & Media',\n",
            "       'occupation_Building & Grounds Cleaning & Maintenance',\n",
            "       'occupation_Business & Financial',\n",
            "       'occupation_Community & Social Services',\n",
            "       'occupation_Construction & Extraction',\n",
            "       'occupation_Education&Training&Library',\n",
            "       'occupation_Farming Fishing & Forestry',\n",
            "       'occupation_Healthcare Practitioners & Technical',\n",
            "       'occupation_Healthcare Support', 'occupation_Legal',\n",
            "       'occupation_Life Physical Social Science',\n",
            "       'occupation_Office & Administrative Support',\n",
            "       'occupation_Protective Service', 'occupation_Retired'],\n",
            "      dtype='object')\n",
            "Confusion Matrix:\n",
            "[[ 619  491]\n",
            " [ 332 1037]]\n",
            "\n",
            "Classification Report:\n",
            "              precision    recall  f1-score   support\n",
            "\n",
            "           0       0.65      0.56      0.60      1110\n",
            "           1       0.68      0.76      0.72      1369\n",
            "\n",
            "    accuracy                           0.67      2479\n",
            "   macro avg       0.66      0.66      0.66      2479\n",
            "weighted avg       0.67      0.67      0.66      2479\n",
            "\n",
            "\n",
            "Accuracy Score:\n",
            "0.6680112948769665\n",
            "\n",
            "ROC AUC Score:\n",
            "0.7213603669410827\n"
          ]
        }
      ]
    },
    {
      "cell_type": "markdown",
      "source": [
        "\n",
        "#### Decision Tree Model"
      ],
      "metadata": {
        "id": "XBvKadYutt8g"
      }
    },
    {
      "cell_type": "code",
      "source": [
        "from sklearn.tree import DecisionTreeClassifier\n",
        "# Initialize the Decision Tree model\n",
        "model = DecisionTreeClassifier(random_state=42)\n",
        "\n",
        "# Fit the model on the training data\n",
        "model.fit(X_train, y_train)\n",
        "\n",
        "# Predict on the testing data\n",
        "y_pred = model.predict(X_test)\n",
        "y_pred_proba = model.predict_proba(X_test)[:, 1]\n",
        "\n",
        "# Calculate ROC AUC score\n",
        "roc_auc = roc_auc_score(y_test, y_pred_proba)\n",
        "# Print the results\n",
        "print(\"Confusion Matrix:\")\n",
        "print(confusion_matrix(y_test, y_pred))\n",
        "\n",
        "print(\"\\nClassification Report:\")\n",
        "print(classification_report(y_test, y_pred))\n",
        "\n",
        "print(\"\\nAccuracy Score:\")\n",
        "print(accuracy_score(y_test, y_pred))\n",
        "print(\"\\n ROC_AUC\")\n",
        "print(roc_auc)"
      ],
      "metadata": {
        "colab": {
          "base_uri": "https://localhost:8080/"
        },
        "id": "KP1wvn6LQw29",
        "outputId": "c8575685-acbf-4869-8ac2-e44d7b25fd17"
      },
      "execution_count": null,
      "outputs": [
        {
          "output_type": "stream",
          "name": "stdout",
          "text": [
            "Confusion Matrix:\n",
            "[[692 418]\n",
            " [413 956]]\n",
            "\n",
            "Classification Report:\n",
            "              precision    recall  f1-score   support\n",
            "\n",
            "           0       0.63      0.62      0.62      1110\n",
            "           1       0.70      0.70      0.70      1369\n",
            "\n",
            "    accuracy                           0.66      2479\n",
            "   macro avg       0.66      0.66      0.66      2479\n",
            "weighted avg       0.66      0.66      0.66      2479\n",
            "\n",
            "\n",
            "Accuracy Score:\n",
            "0.6647841871722469\n",
            "\n",
            " ROC_AUC\n",
            "0.6630183141505275\n"
          ]
        }
      ]
    },
    {
      "cell_type": "markdown",
      "source": [
        "#### Random Forest Classifier"
      ],
      "metadata": {
        "id": "L0PzNk-Etxqt"
      }
    },
    {
      "cell_type": "code",
      "source": [
        "from sklearn.ensemble import RandomForestClassifier\n",
        "# Initialize the Random Forest model\n",
        "model = RandomForestClassifier(n_estimators=100, random_state=42)\n",
        "\n",
        "# Fit the model on the training data\n",
        "model.fit(X_train, y_train)\n",
        "\n",
        "# Predict on the testing data\n",
        "y_pred = model.predict(X_test)\n",
        "y_pred_proba = model.predict_proba(X_test)[:, 1]\n",
        "\n",
        "# Calculate ROC AUC score\n",
        "roc_auc = roc_auc_score(y_test, y_pred_proba)\n",
        "\n",
        "# Print the results\n",
        "print(\"Confusion Matrix:\")\n",
        "print(confusion_matrix(y_test, y_pred))\n",
        "\n",
        "print(\"\\nClassification Report:\")\n",
        "print(classification_report(y_test, y_pred))\n",
        "\n",
        "print(\"\\nAccuracy Score:\")\n",
        "print(accuracy_score(y_test, y_pred))\n",
        "print(\"\\nROC AUC Score:\",roc_auc)"
      ],
      "metadata": {
        "colab": {
          "base_uri": "https://localhost:8080/"
        },
        "id": "y2gWGc3GRe3e",
        "outputId": "2676def0-e980-4ece-c2ce-1351c77ccaaf"
      },
      "execution_count": null,
      "outputs": [
        {
          "output_type": "stream",
          "name": "stdout",
          "text": [
            "Confusion Matrix:\n",
            "[[ 677  433]\n",
            " [ 279 1090]]\n",
            "\n",
            "Classification Report:\n",
            "              precision    recall  f1-score   support\n",
            "\n",
            "           0       0.71      0.61      0.66      1110\n",
            "           1       0.72      0.80      0.75      1369\n",
            "\n",
            "    accuracy                           0.71      2479\n",
            "   macro avg       0.71      0.70      0.70      2479\n",
            "weighted avg       0.71      0.71      0.71      2479\n",
            "\n",
            "\n",
            "Accuracy Score:\n",
            "0.7127874142799516\n",
            "\n",
            "ROC AUC Score: 0.7672391895182253\n"
          ]
        }
      ]
    },
    {
      "cell_type": "markdown",
      "source": [
        "Random Forest with hyperparameter tuning and RFE"
      ],
      "metadata": {
        "id": "8_epCJz0xJaM"
      }
    },
    {
      "cell_type": "code",
      "source": [
        "#  Initialize the Random Forest model\n",
        "rf = RandomForestClassifier(random_state=42)\n",
        "\n",
        "#  Initialize RFE (feature selection)\n",
        "# n_features_to_select specifies how many features you want to keep after RFE\n",
        "rfe = RFE(estimator=rf, n_features_to_select=20, step=1)  # Selecting 10 most important features\n",
        "\n",
        "# Fit RFE\n",
        "X_train_rfe = rfe.fit_transform(X_train, y_train)\n",
        "X_test_rfe = rfe.transform(X_test)  # Transform the test set based on the selected features\n",
        "\n",
        "#  Define parameter grid for GridSearchCV\n",
        "param_grid = {\n",
        "    'n_estimators': [50, 100, 150],\n",
        "    'max_depth': [None, 10, 20, 30],\n",
        "    'max_features': ['auto', 'sqrt', 'log2']\n",
        "}\n",
        "\n",
        "#  Initialize GridSearchCV with Random Forest model\n",
        "grid_search = GridSearchCV(estimator=rf, param_grid=param_grid, cv=5, n_jobs=-1, verbose=2)\n",
        "\n",
        "#  Fit GridSearchCV on the transformed dataset (with selected features)\n",
        "grid_search.fit(X_train_rfe, y_train)\n",
        "\n",
        "#  Get the best parameters\n",
        "print(\"Best Parameters:\", grid_search.best_params_)\n",
        "\n",
        "#  Get the best model\n",
        "best_rf = grid_search.best_estimator_\n",
        "\n",
        "#  Predict on the testing data (transformed test set)\n",
        "y_pred = best_rf.predict(X_test_rfe)\n",
        "y_pred_proba = best_rf.predict_proba(X_test_rfe)[:, 1]\n",
        "\n",
        "#  Calculate ROC AUC score\n",
        "roc_auc = roc_auc_score(y_test, y_pred_proba)\n",
        "\n",
        "#  Print the results\n",
        "print(\"Confusion Matrix:\")\n",
        "print(confusion_matrix(y_test, y_pred))\n",
        "\n",
        "print(\"\\nClassification Report:\")\n",
        "print(classification_report(y_test, y_pred))\n",
        "\n",
        "print(\"\\nAccuracy Score:\")\n",
        "print(accuracy_score(y_test, y_pred))\n",
        "\n",
        "print(\"\\nROC AUC Score:\")\n",
        "print(roc_auc)\n"
      ],
      "metadata": {
        "colab": {
          "base_uri": "https://localhost:8080/"
        },
        "id": "JPk8gEtTnG60",
        "outputId": "10611484-1020-4b6a-93df-fb95bd06a288"
      },
      "execution_count": null,
      "outputs": [
        {
          "output_type": "stream",
          "name": "stdout",
          "text": [
            "Fitting 5 folds for each of 36 candidates, totalling 180 fits\n",
            "Best Parameters: {'max_depth': None, 'max_features': 'sqrt', 'n_estimators': 150}\n",
            "Confusion Matrix:\n",
            "[[ 674  436]\n",
            " [ 280 1089]]\n",
            "\n",
            "Classification Report:\n",
            "              precision    recall  f1-score   support\n",
            "\n",
            "           0       0.71      0.61      0.65      1110\n",
            "           1       0.71      0.80      0.75      1369\n",
            "\n",
            "    accuracy                           0.71      2479\n",
            "   macro avg       0.71      0.70      0.70      2479\n",
            "weighted avg       0.71      0.71      0.71      2479\n",
            "\n",
            "\n",
            "Accuracy Score:\n",
            "0.7111738604275918\n",
            "\n",
            "ROC AUC Score:\n",
            "0.7599744009897407\n"
          ]
        }
      ]
    },
    {
      "cell_type": "markdown",
      "source": [
        "#### SVM"
      ],
      "metadata": {
        "id": "NyHQgcMlgwY7"
      }
    },
    {
      "cell_type": "code",
      "source": [
        "from sklearn.svm import SVC\n",
        "svc_model = SVC(kernel='rbf')\n",
        "svc_model.fit(X_train, y_train)\n",
        "\n",
        "\n",
        "y_pred = svc_model.predict(X_test)\n",
        "y_pred_proba = model.predict_proba(X_test)[:, 1]\n",
        "\n",
        "# Calculate ROC AUC score\n",
        "roc_auc = roc_auc_score(y_test, y_pred_proba)\n",
        "#  Evaluate the model\n",
        "print(\"Confusion Matrix:\\n\", confusion_matrix(y_test, y_pred))\n",
        "print(\"\\nClassification Report:\\n\", classification_report(y_test, y_pred))\n",
        "print(\"\\nAccuracy Score:\", accuracy_score(y_test, y_pred))\n",
        "print(\"\\nROC AUC Score:\", roc_auc)"
      ],
      "metadata": {
        "colab": {
          "base_uri": "https://localhost:8080/"
        },
        "id": "OSg5xxtzf9Q-",
        "outputId": "14100abd-db98-43c6-a34a-bf7d06ade1d5"
      },
      "execution_count": null,
      "outputs": [
        {
          "output_type": "stream",
          "name": "stdout",
          "text": [
            "Confusion Matrix:\n",
            " [[ 660  450]\n",
            " [ 307 1062]]\n",
            "\n",
            "Classification Report:\n",
            "               precision    recall  f1-score   support\n",
            "\n",
            "           0       0.68      0.59      0.64      1110\n",
            "           1       0.70      0.78      0.74      1369\n",
            "\n",
            "    accuracy                           0.69      2479\n",
            "   macro avg       0.69      0.69      0.69      2479\n",
            "weighted avg       0.69      0.69      0.69      2479\n",
            "\n",
            "\n",
            "Accuracy Score: 0.6946349334409035\n",
            "\n",
            "ROC AUC Score: 0.7672391895182253\n"
          ]
        }
      ]
    },
    {
      "cell_type": "code",
      "source": [
        "X_train.columns"
      ],
      "metadata": {
        "colab": {
          "base_uri": "https://localhost:8080/"
        },
        "id": "OmNM72A8SAvL",
        "outputId": "339210e1-6e8d-4120-eaa6-bcf400eba3c0"
      },
      "execution_count": null,
      "outputs": [
        {
          "output_type": "execute_result",
          "data": {
            "text/plain": [
              "Index(['age', 'has_children', 'income', 'Bar', 'CoffeeHouse',\n",
              "       'Restaurant20To50', 'toCoupon_GEQ15min', 'toCoupon_GEQ25min',\n",
              "       'direction_same', 'destination_Work', 'passanger_Friend(s)',\n",
              "       'passanger_Kid(s)', 'passanger_Partner', 'weather_Snowy',\n",
              "       'coupon_Carry out & Take away', 'coupon_Coffee House',\n",
              "       'coupon_Restaurant(20-50)', 'coupon_Restaurant(<20)', 'expiration_2h',\n",
              "       'gender_Male', 'maritalStatus_Widowed',\n",
              "       'occupation_Arts Design Entertainment Sports & Media',\n",
              "       'occupation_Building & Grounds Cleaning & Maintenance',\n",
              "       'occupation_Business & Financial',\n",
              "       'occupation_Community & Social Services',\n",
              "       'occupation_Construction & Extraction',\n",
              "       'occupation_Education&Training&Library',\n",
              "       'occupation_Farming Fishing & Forestry',\n",
              "       'occupation_Food Preparation & Serving Related',\n",
              "       'occupation_Healthcare Practitioners & Technical',\n",
              "       'occupation_Healthcare Support',\n",
              "       'occupation_Installation Maintenance & Repair', 'occupation_Legal',\n",
              "       'occupation_Life Physical Social Science', 'occupation_Management',\n",
              "       'occupation_Office & Administrative Support',\n",
              "       'occupation_Personal Care & Service',\n",
              "       'occupation_Production Occupations', 'occupation_Protective Service',\n",
              "       'occupation_Retired', 'occupation_Sales & Related',\n",
              "       'occupation_Transportation & Material Moving'],\n",
              "      dtype='object')"
            ]
          },
          "metadata": {},
          "execution_count": 62
        }
      ]
    },
    {
      "cell_type": "code",
      "source": [
        "X_train.rename(columns={'coupon_Restaurant(<20)': 'coupon_Restaurant(lt20)'}, inplace=True)\n",
        "X_test.rename(columns={'coupon_Restaurant(<20)': 'coupon_Restaurant(lt20)'}, inplace=True)"
      ],
      "metadata": {
        "id": "rQU7fy4nTX_1"
      },
      "execution_count": null,
      "outputs": []
    },
    {
      "cell_type": "code",
      "source": [
        "!pip install catboost"
      ],
      "metadata": {
        "colab": {
          "base_uri": "https://localhost:8080/"
        },
        "id": "Xq51HXHsd69O",
        "outputId": "e82bf64a-2999-4f7f-bb06-cfa28bc11d34"
      },
      "execution_count": null,
      "outputs": [
        {
          "output_type": "stream",
          "name": "stdout",
          "text": [
            "Collecting catboost\n",
            "  Downloading catboost-1.2.7-cp310-cp310-manylinux2014_x86_64.whl.metadata (1.2 kB)\n",
            "Requirement already satisfied: graphviz in /usr/local/lib/python3.10/dist-packages (from catboost) (0.20.3)\n",
            "Requirement already satisfied: matplotlib in /usr/local/lib/python3.10/dist-packages (from catboost) (3.7.1)\n",
            "Requirement already satisfied: numpy<2.0,>=1.16.0 in /usr/local/lib/python3.10/dist-packages (from catboost) (1.26.4)\n",
            "Requirement already satisfied: pandas>=0.24 in /usr/local/lib/python3.10/dist-packages (from catboost) (2.1.4)\n",
            "Requirement already satisfied: scipy in /usr/local/lib/python3.10/dist-packages (from catboost) (1.13.1)\n",
            "Requirement already satisfied: plotly in /usr/local/lib/python3.10/dist-packages (from catboost) (5.15.0)\n",
            "Requirement already satisfied: six in /usr/local/lib/python3.10/dist-packages (from catboost) (1.16.0)\n",
            "Requirement already satisfied: python-dateutil>=2.8.2 in /usr/local/lib/python3.10/dist-packages (from pandas>=0.24->catboost) (2.8.2)\n",
            "Requirement already satisfied: pytz>=2020.1 in /usr/local/lib/python3.10/dist-packages (from pandas>=0.24->catboost) (2024.2)\n",
            "Requirement already satisfied: tzdata>=2022.1 in /usr/local/lib/python3.10/dist-packages (from pandas>=0.24->catboost) (2024.1)\n",
            "Requirement already satisfied: contourpy>=1.0.1 in /usr/local/lib/python3.10/dist-packages (from matplotlib->catboost) (1.3.0)\n",
            "Requirement already satisfied: cycler>=0.10 in /usr/local/lib/python3.10/dist-packages (from matplotlib->catboost) (0.12.1)\n",
            "Requirement already satisfied: fonttools>=4.22.0 in /usr/local/lib/python3.10/dist-packages (from matplotlib->catboost) (4.53.1)\n",
            "Requirement already satisfied: kiwisolver>=1.0.1 in /usr/local/lib/python3.10/dist-packages (from matplotlib->catboost) (1.4.7)\n",
            "Requirement already satisfied: packaging>=20.0 in /usr/local/lib/python3.10/dist-packages (from matplotlib->catboost) (24.1)\n",
            "Requirement already satisfied: pillow>=6.2.0 in /usr/local/lib/python3.10/dist-packages (from matplotlib->catboost) (9.4.0)\n",
            "Requirement already satisfied: pyparsing>=2.3.1 in /usr/local/lib/python3.10/dist-packages (from matplotlib->catboost) (3.1.4)\n",
            "Requirement already satisfied: tenacity>=6.2.0 in /usr/local/lib/python3.10/dist-packages (from plotly->catboost) (9.0.0)\n",
            "Downloading catboost-1.2.7-cp310-cp310-manylinux2014_x86_64.whl (98.7 MB)\n",
            "\u001b[2K   \u001b[90m━━━━━━━━━━━━━━━━━━━━━━━━━━━━━━━━━━━━━━━━\u001b[0m \u001b[32m98.7/98.7 MB\u001b[0m \u001b[31m8.1 MB/s\u001b[0m eta \u001b[36m0:00:00\u001b[0m\n",
            "\u001b[?25hInstalling collected packages: catboost\n",
            "Successfully installed catboost-1.2.7\n"
          ]
        }
      ]
    },
    {
      "cell_type": "markdown",
      "source": [
        "CatBoost Classifier"
      ],
      "metadata": {
        "id": "kBBTHhdcwXOc"
      }
    },
    {
      "cell_type": "code",
      "source": [
        "from catboost import CatBoostClassifier\n",
        "# Initialize the CatBoost classifier\n",
        "model = CatBoostClassifier(iterations=100, learning_rate=0.1, depth=3, verbose=False, random_state=42)\n",
        "\n",
        "# Fit the model on the training data\n",
        "model.fit(X_train, y_train)\n",
        "\n",
        "# Predict on the testing data\n",
        "y_pred = model.predict(X_test)\n",
        "y_pred_proba = model.predict_proba(X_test)[:, 1]\n",
        "\n",
        "# Calculate ROC AUC score\n",
        "roc_auc = roc_auc_score(y_test, y_pred_proba)\n",
        "\n",
        "# Print the results\n",
        "print(\"Confusion Matrix:\")\n",
        "print(confusion_matrix(y_test, y_pred))\n",
        "\n",
        "print(\"\\nClassification Report:\")\n",
        "print(classification_report(y_test, y_pred))\n",
        "\n",
        "print(\"\\nAccuracy Score:\")\n",
        "print(accuracy_score(y_test, y_pred))\n",
        "\n",
        "print(\"\\nROC AUC Score:\")\n",
        "print(roc_auc)"
      ],
      "metadata": {
        "colab": {
          "base_uri": "https://localhost:8080/"
        },
        "id": "DEDJdXvtwV-0",
        "outputId": "34d0a16f-f056-4b68-8291-3f701d4c2d68"
      },
      "execution_count": null,
      "outputs": [
        {
          "output_type": "stream",
          "name": "stdout",
          "text": [
            "Confusion Matrix:\n",
            "[[ 601  509]\n",
            " [ 250 1119]]\n",
            "\n",
            "Classification Report:\n",
            "              precision    recall  f1-score   support\n",
            "\n",
            "           0       0.71      0.54      0.61      1110\n",
            "           1       0.69      0.82      0.75      1369\n",
            "\n",
            "    accuracy                           0.69      2479\n",
            "   macro avg       0.70      0.68      0.68      2479\n",
            "weighted avg       0.70      0.69      0.69      2479\n",
            "\n",
            "\n",
            "Accuracy Score:\n",
            "0.6938281565147236\n",
            "\n",
            "ROC AUC Score:\n",
            "0.7535177251758698\n"
          ]
        }
      ]
    },
    {
      "cell_type": "markdown",
      "source": [
        "#### XGBoost"
      ],
      "metadata": {
        "id": "Mco9rlvIwa17"
      }
    },
    {
      "cell_type": "code",
      "source": [
        "from xgboost import XGBClassifier\n",
        "# Initialize the XGBoost model\n",
        "model = XGBClassifier(use_label_encoder=False, eval_metric='logloss', random_state=42)\n",
        "\n",
        "# Fit the model on the training data\n",
        "model.fit(X_train, y_train)\n",
        "\n",
        "# Predict on the testing data\n",
        "y_pred = model.predict(X_test)\n",
        "y_pred_proba = model.predict_proba(X_test)[:, 1]\n",
        "\n",
        "# Calculate ROC AUC score\n",
        "roc_auc = roc_auc_score(y_test, y_pred_proba)\n",
        "# Print the results\n",
        "print(\"Confusion Matrix:\")\n",
        "print(confusion_matrix(y_test, y_pred))\n",
        "\n",
        "print(\"\\nClassification Report:\")\n",
        "print(classification_report(y_test, y_pred))\n",
        "\n",
        "print(\"\\nAccuracy Score:\")\n",
        "print(accuracy_score(y_test, y_pred))\n",
        "\n",
        "print(\"\\nROC AUC Score:\")\n",
        "print(roc_auc)"
      ],
      "metadata": {
        "colab": {
          "base_uri": "https://localhost:8080/"
        },
        "id": "ks1v18kIRwxY",
        "outputId": "ba2fc59e-5313-4467-9f9d-b80846eac2a2"
      },
      "execution_count": null,
      "outputs": [
        {
          "output_type": "stream",
          "name": "stdout",
          "text": [
            "Confusion Matrix:\n",
            "[[ 711  399]\n",
            " [ 275 1094]]\n",
            "\n",
            "Classification Report:\n",
            "              precision    recall  f1-score   support\n",
            "\n",
            "           0       0.72      0.64      0.68      1110\n",
            "           1       0.73      0.80      0.76      1369\n",
            "\n",
            "    accuracy                           0.73      2479\n",
            "   macro avg       0.73      0.72      0.72      2479\n",
            "weighted avg       0.73      0.73      0.73      2479\n",
            "\n",
            "\n",
            "Accuracy Score:\n",
            "0.7281161758773699\n",
            "\n",
            "ROC AUC Score:\n",
            "0.793577543942774\n"
          ]
        }
      ]
    },
    {
      "cell_type": "markdown",
      "source": [
        "#### XGBoost with RFE"
      ],
      "metadata": {
        "id": "tpYDLYliwfOc"
      }
    },
    {
      "cell_type": "code",
      "source": [
        "from xgboost import XGBClassifier\n",
        "# Initialize the XGBoost model\n",
        "model = XGBClassifier(use_label_encoder=False, eval_metric='logloss', random_state=42)\n",
        "\n",
        "# For example, if you want to select 2 features, set n_features_to_select=2\n",
        "rfe = RFE(model, n_features_to_select=30)\n",
        "\n",
        "# Fit the RFE model on the training data\n",
        "rfe.fit(X_train, y_train)\n",
        "\n",
        "# Print the rankings of the features and the selected features\n",
        "print(\"Feature Ranking: \", rfe.ranking_)\n",
        "print(\"Selected Features: \", X.columns[rfe.support_])\n",
        "\n",
        "\n",
        "# Use the model trained with selected features to make predictions\n",
        "y_pred = rfe.predict(X_test)\n",
        "y_pred_proba = rfe.predict_proba(X_test)[:, 1]\n",
        "\n",
        "# Calculate ROC AUC score\n",
        "roc_auc = roc_auc_score(y_test, y_pred_proba)\n",
        "# Print the results\n",
        "print(\"Confusion Matrix:\")\n",
        "print(confusion_matrix(y_test, y_pred))\n",
        "\n",
        "print(\"\\nClassification Report:\")\n",
        "print(classification_report(y_test, y_pred))\n",
        "\n",
        "print(\"\\nAccuracy Score:\")\n",
        "print(accuracy_score(y_test, y_pred))\n",
        "\n",
        "print(\"\\nROC AUC Score:\")\n",
        "print(roc_auc)"
      ],
      "metadata": {
        "colab": {
          "base_uri": "https://localhost:8080/"
        },
        "id": "U2bH3hDPixoV",
        "outputId": "c568e07c-7482-485e-b4b0-a84a7a127ac9"
      },
      "execution_count": null,
      "outputs": [
        {
          "output_type": "stream",
          "name": "stdout",
          "text": [
            "Feature Ranking:  [ 1  1  1  1  1  1  1  1  1  1  1  2  1  1  1  1  1  1  1  1 10  1 13  6\n",
            "  4  3  1 12  1  1  1  9  1  1  1  1  8  5 11  1  1  7]\n",
            "Selected Features:  Index(['age', 'has_children', 'income', 'Bar', 'CoffeeHouse',\n",
            "       'Restaurant20To50', 'toCoupon_GEQ15min', 'toCoupon_GEQ25min',\n",
            "       'direction_same', 'destination_Work', 'passanger_Friend(s)',\n",
            "       'passanger_Partner', 'weather_Snowy', 'coupon_Carry out & Take away',\n",
            "       'coupon_Coffee House', 'coupon_Restaurant(20-50)',\n",
            "       'coupon_Restaurant(<20)', 'expiration_2h', 'gender_Male',\n",
            "       'occupation_Arts Design Entertainment Sports & Media',\n",
            "       'occupation_Education&Training&Library',\n",
            "       'occupation_Food Preparation & Serving Related',\n",
            "       'occupation_Healthcare Practitioners & Technical',\n",
            "       'occupation_Healthcare Support', 'occupation_Legal',\n",
            "       'occupation_Life Physical Social Science', 'occupation_Management',\n",
            "       'occupation_Office & Administrative Support', 'occupation_Retired',\n",
            "       'occupation_Sales & Related'],\n",
            "      dtype='object')\n",
            "Confusion Matrix:\n",
            "[[ 705  405]\n",
            " [ 276 1093]]\n",
            "\n",
            "Classification Report:\n",
            "              precision    recall  f1-score   support\n",
            "\n",
            "           0       0.72      0.64      0.67      1110\n",
            "           1       0.73      0.80      0.76      1369\n",
            "\n",
            "    accuracy                           0.73      2479\n",
            "   macro avg       0.72      0.72      0.72      2479\n",
            "weighted avg       0.72      0.73      0.72      2479\n",
            "\n",
            "\n",
            "Accuracy Score:\n",
            "0.7252924566357403\n",
            "\n",
            "ROC AUC Score:\n",
            "0.7918839950249739\n"
          ]
        }
      ]
    },
    {
      "cell_type": "markdown",
      "source": [
        "#### Hyperparameter tuning on XGBoost with RFE"
      ],
      "metadata": {
        "id": "FNVfaOrMwmk-"
      }
    },
    {
      "cell_type": "code",
      "source": [
        "# Initialize the XGBoost regressor\n",
        "model = XGBClassifier(random_state=42)\n",
        "\n",
        "# # Perform RFE with XGBoost\n",
        "rfe = RFE(estimator=model, n_features_to_select=20)  # Select 2 best features\n",
        "rfe = rfe.fit(X_train, y_train)\n",
        "\n",
        "# Select the features using the boolean mask\n",
        "X_train_selected = X_train.loc[:, rfe.support_]\n",
        "X_test_selected = X_test.loc[:, rfe.support_]\n",
        "\n",
        "# Proceed with hyperparameter tuning using GridSearchCV\n",
        "param_grid = {\n",
        "    'n_estimators': [50, 100, 150],\n",
        "    'learning_rate': [0.01, 0.1, 0.2],\n",
        "    'max_depth': [3, 5, 7],\n",
        "    'subsample': [0.6, 0.8, 1.0]\n",
        "}\n",
        "\n",
        "# Initialize GridSearchCV\n",
        "grid_search = GridSearchCV(estimator=model, param_grid=param_grid, cv=5, scoring='neg_mean_squared_error')\n",
        "\n",
        "# Fit GridSearch on the selected features from RFE\n",
        "grid_search.fit(X_train_selected, y_train)\n",
        "\n",
        "# Get the best parameters from the grid search\n",
        "best_params = grid_search.best_params_\n",
        "print(\"Best Hyperparameters:\", best_params)\n",
        "\n",
        "# Train the final model with best parameters\n",
        "final_model = XGBClassifier(**best_params)\n",
        "final_model.fit(X_train_selected, y_train)\n",
        "\n",
        "# Predict on the test set with the selected features\n",
        "y_pred = final_model.predict(X_test_selected)\n",
        "\n",
        "\n",
        "y_pred_proba = final_model.predict_proba(X_test_selected)[:, 1]\n",
        "\n",
        "# Calculate ROC AUC score\n",
        "roc_auc = roc_auc_score(y_test, y_pred_proba)\n",
        "\n",
        "# Print the results\n",
        "print(\"Confusion Matrix:\")\n",
        "print(confusion_matrix(y_test, y_pred))\n",
        "\n",
        "print(\"\\nClassification Report:\")\n",
        "print(classification_report(y_test, y_pred))\n",
        "\n",
        "print(\"\\nAccuracy Score:\")\n",
        "print(accuracy_score(y_test, y_pred))\n",
        "\n",
        "print(\"\\nROC AUC Score:\")\n",
        "print(roc_auc)"
      ],
      "metadata": {
        "colab": {
          "base_uri": "https://localhost:8080/"
        },
        "id": "iK8sKrcGm3kJ",
        "outputId": "9a241419-cbfa-425e-ab25-8755437b0155"
      },
      "execution_count": null,
      "outputs": [
        {
          "output_type": "stream",
          "name": "stdout",
          "text": [
            "Best Hyperparameters: {'learning_rate': 0.1, 'max_depth': 7, 'n_estimators': 100, 'subsample': 0.8}\n",
            "Confusion Matrix:\n",
            "[[ 708  402]\n",
            " [ 260 1109]]\n",
            "\n",
            "Classification Report:\n",
            "              precision    recall  f1-score   support\n",
            "\n",
            "           0       0.73      0.64      0.68      1110\n",
            "           1       0.73      0.81      0.77      1369\n",
            "\n",
            "    accuracy                           0.73      2479\n",
            "   macro avg       0.73      0.72      0.73      2479\n",
            "weighted avg       0.73      0.73      0.73      2479\n",
            "\n",
            "\n",
            "Accuracy Score:\n",
            "0.7329568374344494\n",
            "\n",
            "ROC AUC Score:\n",
            "0.7925476608822116\n"
          ]
        }
      ]
    },
    {
      "cell_type": "code",
      "source": [
        "print(\"\\nROC AUC Score:\")\n",
        "print(roc_auc)"
      ],
      "metadata": {
        "colab": {
          "base_uri": "https://localhost:8080/"
        },
        "id": "_9stcoULsR4x",
        "outputId": "0dfd2670-e12a-4c7c-96e8-74d4e74213c0"
      },
      "execution_count": null,
      "outputs": [
        {
          "output_type": "stream",
          "name": "stdout",
          "text": [
            "\n",
            "ROC AUC Score:\n",
            "0.7925476608822116\n"
          ]
        }
      ]
    },
    {
      "cell_type": "code",
      "source": [
        "from sklearn.metrics import roc_curve\n",
        "import matplotlib.pyplot as plt\n",
        "# Compute the ROC curve\n",
        "fpr, tpr, thresholds = roc_curve(y_test, y_pred_proba)\n",
        "\n",
        "# Plot the ROC curve\n",
        "plt.figure(figsize=(8, 6))\n",
        "plt.plot(fpr, tpr, color='blue', label='ROC curve (area = %0.2f)' % roc_auc)\n",
        "plt.plot([0, 1], [0, 1], color='red', linestyle='--')  # Diagonal line (random classifier)\n",
        "plt.xlim([0.0, 1.0])\n",
        "plt.ylim([0.0, 1.05])\n",
        "plt.xlabel('False Positive Rate')\n",
        "plt.ylabel('True Positive Rate')\n",
        "plt.title('Receiver Operating Characteristic (ROC) Curve')\n",
        "plt.legend(loc=\"lower right\")\n",
        "plt.show()"
      ],
      "metadata": {
        "colab": {
          "base_uri": "https://localhost:8080/",
          "height": 564
        },
        "id": "s_da_HzwrGem",
        "outputId": "f48c7e2a-d57d-4b71-bfe4-c8d514ae9176"
      },
      "execution_count": null,
      "outputs": [
        {
          "output_type": "display_data",
          "data": {
            "text/plain": [
              "<Figure size 800x600 with 1 Axes>"
            ],
            "image/png": "[encoded data removed]"
          },
          "metadata": {}
        }
      ]
    },
    {
      "cell_type": "markdown",
      "source": [
        "The above model has yielded the best accuracy so far."
      ],
      "metadata": {
        "id": "9DZmSwNXwJ0t"
      }
    },
    {
      "cell_type": "markdown",
      "source": [
        "#### Bagging Classifier"
      ],
      "metadata": {
        "id": "DGgh5oEIhYpP"
      }
    },
    {
      "cell_type": "code",
      "source": [
        "from sklearn.ensemble import BaggingClassifier\n",
        "from sklearn.tree import DecisionTreeClassifier\n",
        "# Initialize base estimator (Decision Tree in this case)\n",
        "base_estimator = DecisionTreeClassifier()\n",
        "\n",
        "#  Initialize and train the Bagging Classifier\n",
        "bagging_model = BaggingClassifier(base_estimator=base_estimator,\n",
        "                                  n_estimators=50,  # Number of base estimators\n",
        "                                  random_state=42,\n",
        "                                  max_samples=0.8,  # Fraction of samples to draw from X to train each base estimator\n",
        "                                  max_features=0.8)  # Fraction of features to draw from X to train each base estimator\n",
        "\n",
        "bagging_model.fit(X_train, y_train)\n",
        "\n",
        "#  Make predictions\n",
        "y_pred = bagging_model.predict(X_test)\n",
        "y_pred_proba = rfe.predict_proba(X_test)[:, 1]\n",
        "\n",
        "# Calculate ROC AUC score\n",
        "roc_auc = roc_auc_score(y_test, y_pred_proba)\n",
        "\n",
        "#  Evaluate the model\n",
        "print(\"Confusion Matrix:\\n\", confusion_matrix(y_test, y_pred))\n",
        "print(\"\\nClassification Report:\\n\", classification_report(y_test, y_pred))\n",
        "print(\"\\nAccuracy Score:\", accuracy_score(y_test, y_pred))\n",
        "print(\"\\nROC AUC Score:\", roc_auc)"
      ],
      "metadata": {
        "colab": {
          "base_uri": "https://localhost:8080/"
        },
        "id": "hd6xLY0xUQjC",
        "outputId": "bc9f591a-51d8-4205-e434-6a944b93b2e9"
      },
      "execution_count": null,
      "outputs": [
        {
          "output_type": "stream",
          "name": "stdout",
          "text": [
            "Confusion Matrix:\n",
            " [[ 684  426]\n",
            " [ 249 1120]]\n",
            "\n",
            "Classification Report:\n",
            "               precision    recall  f1-score   support\n",
            "\n",
            "           0       0.73      0.62      0.67      1110\n",
            "           1       0.72      0.82      0.77      1369\n",
            "\n",
            "    accuracy                           0.73      2479\n",
            "   macro avg       0.73      0.72      0.72      2479\n",
            "weighted avg       0.73      0.73      0.72      2479\n",
            "\n",
            "\n",
            "Accuracy Score: 0.7277127874142799\n",
            "\n",
            "ROC AUC Score: 0.7886301568186156\n"
          ]
        }
      ]
    },
    {
      "cell_type": "markdown",
      "source": [
        "#### Bagging Classifier with hyperparameter Tuning"
      ],
      "metadata": {
        "id": "8fNpBWsxkDY3"
      }
    },
    {
      "cell_type": "code",
      "source": [
        "#  Initialize Bagging Classifier\n",
        "bagging_model = BaggingClassifier(base_estimator=base_estimator, random_state=42)\n",
        "\n",
        "#  Set up hyperparameter grid\n",
        "param_grid = {\n",
        "    'n_estimators': [ 50, 100],  # Number of base estimators in the ensemble\n",
        "    'max_samples': [0.5, 0.7],  # Fraction of samples to draw for training each base estimator\n",
        "    'max_features': [0.5, 0.7],  # Fraction of features to draw for training each base estimator\n",
        "    'base_estimator__max_depth': [ 10, 20, 30]  # Max depth of the decision tree\n",
        "}\n",
        "\n",
        "#  Set up GridSearchCV\n",
        "grid_search = GridSearchCV(estimator=bagging_model, param_grid=param_grid, cv=5, n_jobs=-1, verbose=1)\n",
        "\n",
        "#  Fit GridSearchCV to the training data\n",
        "grid_search.fit(X_train, y_train)\n",
        "\n",
        "#  Get the best parameters\n",
        "print(\"Best Parameters:\", grid_search.best_params_)\n",
        "\n",
        "#  Evaluate the best model\n",
        "best_model = grid_search.best_estimator_\n",
        "y_pred = best_model.predict(X_test)\n",
        "y_pred_proba = rfe.predict_proba(X_test)[:, 1]\n",
        "\n",
        "# Calculate ROC AUC score\n",
        "roc_auc = roc_auc_score(y_test, y_pred_proba)\n",
        "#  Evaluate the model\n",
        "print(\"\\nAccuracy Score:\", accuracy_score(y_test, y_pred))\n",
        "print(\"\\nClassification Report:\\n\", classification_report(y_test, y_pred))\n",
        "print(\"\\nROC_AUC\",roc_auc)"
      ],
      "metadata": {
        "colab": {
          "base_uri": "https://localhost:8080/"
        },
        "id": "2zOJKP-Tijh7",
        "outputId": "77fda470-45e0-4624-a1e5-1aae3e577faf"
      },
      "execution_count": null,
      "outputs": [
        {
          "output_type": "stream",
          "name": "stdout",
          "text": [
            "Fitting 5 folds for each of 24 candidates, totalling 120 fits\n",
            "Best Parameters: {'base_estimator__max_depth': 20, 'max_features': 0.7, 'max_samples': 0.7, 'n_estimators': 100}\n",
            "\n",
            "Accuracy Score: 0.7216619604679306\n",
            "\n",
            "Classification Report:\n",
            "               precision    recall  f1-score   support\n",
            "\n",
            "           0       0.73      0.59      0.66      1110\n",
            "           1       0.71      0.83      0.77      1369\n",
            "\n",
            "    accuracy                           0.72      2479\n",
            "   macro avg       0.72      0.71      0.71      2479\n",
            "weighted avg       0.72      0.72      0.72      2479\n",
            "\n",
            "\n",
            "ROC_AUC 0.7886301568186156\n"
          ]
        }
      ]
    },
    {
      "cell_type": "markdown",
      "source": [
        "#### Stacking classifier"
      ],
      "metadata": {
        "id": "4f2P3UWphpS2"
      }
    },
    {
      "cell_type": "code",
      "source": [
        "from sklearn.ensemble import StackingClassifier\n",
        "#  Initialize the base models with best hyperparameters\n",
        "rf = RandomForestClassifier(max_depth=30, max_features='log2', n_estimators=150, random_state=42)\n",
        "xgb = XGBClassifier(learning_rate=0.1, max_depth=7, n_estimators=100, subsample=0.8, random_state=42)\n",
        "bc=BaggingClassifier(base_estimator=base_estimator, max_features=0.5, max_samples=0.5, n_estimators=100)\n",
        "\n",
        "#  Initialize the meta-classifier (Logistic Regression)\n",
        "meta_clf = LogisticRegression()\n",
        "\n",
        "#  Create the Stacking Classifier\n",
        "stacking_model = StackingClassifier(estimators=[('rf', rf), ('xgb', xgb),('bc',bc)], final_estimator=meta_clf)\n",
        "\n",
        "# Train the stacking model\n",
        "stacking_model.fit(X_train, y_train)\n",
        "\n",
        "#  Make predictions\n",
        "y_pred = stacking_model.predict(X_test)\n",
        "y_pred_proba = rfe.predict_proba(X_test)[:, 1]\n",
        "\n",
        "# Calculate ROC AUC score\n",
        "roc_auc = roc_auc_score(y_test, y_pred_proba)\n",
        "#  Evaluate the model\n",
        "print(\"Confusion Matrix:\\n\", confusion_matrix(y_test, y_pred))\n",
        "print(\"\\nClassification Report:\\n\", classification_report(y_test, y_pred))\n",
        "print(\"\\nAccuracy Score:\", accuracy_score(y_test, y_pred))\n",
        "print(\"\\nROC AUC Score:\", roc_auc)\n"
      ],
      "metadata": {
        "colab": {
          "base_uri": "https://localhost:8080/"
        },
        "id": "AdZdLsAWhoi5",
        "outputId": "36e0ca35-0c51-4423-8396-2f44eb9e945a"
      },
      "execution_count": null,
      "outputs": [
        {
          "output_type": "stream",
          "name": "stdout",
          "text": [
            "Confusion Matrix:\n",
            " [[ 704  406]\n",
            " [ 251 1118]]\n",
            "\n",
            "Classification Report:\n",
            "               precision    recall  f1-score   support\n",
            "\n",
            "           0       0.74      0.63      0.68      1110\n",
            "           1       0.73      0.82      0.77      1369\n",
            "\n",
            "    accuracy                           0.73      2479\n",
            "   macro avg       0.74      0.73      0.73      2479\n",
            "weighted avg       0.74      0.73      0.73      2479\n",
            "\n",
            "\n",
            "Accuracy Score: 0.7349737797498992\n",
            "\n",
            "ROC AUC Score: 0.7886301568186156\n"
          ]
        }
      ]
    },
    {
      "cell_type": "markdown",
      "source": [
        "XGBoost has shown the best accuracy of 73% and ROC AUC score of 80% and F1-score is also good compared to other models\n",
        "\n",
        "\n"
      ],
      "metadata": {
        "id": "Fh7F747ZDiYJ"
      }
    },
    {
      "cell_type": "markdown",
      "source": [
        "In the context of the coupon acceptance prediction problem, where:\n",
        "\n",
        "1 indicates that the user accepted the coupon,\n",
        "0 indicates that the user did not accept the coupon,\n",
        "precision and recall provide useful insights into the performance of the model. Here's how to interpret them in your case:\n",
        "\n",
        "1. Precision:\n",
        "Precision tells you how many of the predicted positive cases (users predicted to accept the coupon) were actually correct.\n",
        "\n",
        "\n",
        "High Precision: A high precision means that when your model predicts that a user will accept a coupon (positive class, 1), it is correct in most cases. It minimizes False Positives (cases where the model predicts 1, but the actual label is 0).\n",
        "\n",
        "Low Precision: If precision is low, it means that when your model predicts 1 (coupon accepted), it is often wrong, resulting in many False Positives.\n",
        "\n",
        "In the context of coupon acceptance:\n",
        "\n",
        "High precision means the model is good at accurately predicting that a user will accept a coupon, without falsely predicting acceptance when the user does not accept it.\n",
        "2. Recall:\n",
        "Recall (or Sensitivity) measures how many of the actual positive cases (users who actually accepted the coupon) were correctly identified by the model.\n",
        "\n",
        "\n",
        "High Recall: A high recall means that the model successfully identifies most of the users who accepted the coupon, reducing False Negatives (cases where the model predicts 0 but the actual label is 1).\n",
        "\n",
        "Low Recall: If recall is low, the model is missing many of the actual coupon acceptances, resulting in many False Negatives.\n",
        "\n",
        "In the context of coupon acceptance:\n",
        "\n",
        "High recall means that the model is good at detecting most users who actually accepted the coupon.\n",
        "\n",
        "Trade-off Between Precision and Recall:\n",
        "\n",
        "High Precision and Low Recall: The model is conservative in predicting coupon acceptance and predicts it only when it is very certain, but it might miss some cases (higher false negatives). This means the model is identifying a smaller group of users as accepting coupons, but it is confident they will accept.\n",
        "\n",
        "High Recall and Low Precision: The model is liberal in predicting coupon acceptance, meaning it predicts more users will accept the coupon, but it makes more mistakes, leading to more false positives (incorrectly predicting acceptance for some users who won't accept).\n",
        "\n",
        "Example Interpretation:\n",
        "Let’s say you calculate:\n",
        "\n",
        "Precision = 0.85: Out of all the users the model predicted would accept the coupon, 85% actually accepted it.\n",
        "Recall = 0.65: Out of all the users who actually accepted the coupon, the model correctly identified 65% of them.\n",
        "In this case, the model is accurate when it predicts coupon acceptance, but it misses a significant number of users who actually accept the coupon (False Negatives). We can adjust the model based on the business goal:\n",
        "\n",
        "If it's more important to avoid annoying users with unnecessary coupons (i.e., focus on precision), you’d favor high precision.\n",
        "If it's more important to capture as many potential acceptances as possible (i.e., focus on recall), you’d favor high recall.\n",
        "\n",
        "Conclusion:\n",
        "Precision is about the quality of the positive predictions (how accurate the \"accept\" predictions are).\n",
        "Recall is about covering all the actual positives (how many of the actual \"accepts\" are correctly found).\n",
        "\n",
        "\n",
        "A balanced model typically aims for a good trade-off between precision and recall, or uses metrics like the F1-score, which combines both into a single value. The specific importance of precision or recall depends on your business objective for coupon distribution."
      ],
      "metadata": {
        "id": "nzqdMlmLuyGY"
      }
    },
    {
      "cell_type": "code",
      "source": [],
      "metadata": {
        "id": "1yQdn-k7C_Ww"
      },
      "execution_count": null,
      "outputs": []
    }
  ]
}